{
 "cells": [
  {
   "cell_type": "markdown",
   "metadata": {},
   "source": [
    "<h1 align=\"center\">แบบฝึกหัด List, Tuple, Dictionary และ Set</h1>\n",
    "<hr>"
   ]
  },
  {
   "cell_type": "code",
   "execution_count": 12,
   "metadata": {},
   "outputs": [],
   "source": [
    "# 1. สร้าง List ที่มีชื่อว่า \"FoodMenu\" ที่มีรายการอาหารดังต่อไปนี้\n",
    "# [\"ต้มยำกุ้ง\", \"แกงส้ม\", \"ต้มข่าไก่\", \"ขนมจีนน้ำยา\", \"แกงเขียวหวานไก่\", \"มัสมั่นไก่\", \"แพนงหมู\", \"แกงจืดหมูสับ\"]\n",
    "FoodMenu = [\"ต้มยำกุ้ง\",\"แกงส้ม\",\"ต้มข่าไก่\",\"ขนมจีนน้ำยา\",\"แกงเขียวหวานไก่\",\"มัสมั่นไก่\",\"แพนงหมู\", \"แกงจืดหมูสับ\",]"
   ]
  },
  {
   "cell_type": "code",
   "execution_count": 13,
   "metadata": {},
   "outputs": [
    {
     "name": "stdout",
     "output_type": "stream",
     "text": [
      "Lucky!!! You found your choice.\n"
     ]
    }
   ],
   "source": [
    "# 2. เขียนโปรแกรมรับชื่ออาหารที่ต้องการค้นหาว่า -ชื่ออาหารนั้นหรือไม่\n",
    "#    - ถ้ามีข้อความ ให้แสดงว่า \"Lucky!!! You found your choice.\"\n",
    "#    - ถ้าไม่มีข้อความ ให้แสดงว่า \"Sorry, you miss your choice. \"\n",
    "food = input(\"ชื่ออาหารที่ต้องการค้นหา : \")\n",
    "print(\"Lucky!!! You found your choice.\" if food in FoodMenu else \"Sorry, you miss your choice. \")"
   ]
  },
  {
   "cell_type": "code",
   "execution_count": 35,
   "metadata": {},
   "outputs": [
    {
     "name": "stdout",
     "output_type": "stream",
     "text": [
      "จำนวนรายการอาหารที่มีทั้งหมดมีอยู่ 9 จำนวน\n",
      "รายการอาหารทั้งหมดได้แก่: ต้มยำกุ้ง , แกงส้ม , ต้มข่าไก่ , ขนมจีนน้ำยา , แกงเขียวหวานไก่ , มัสมั่นไก่ , แพนงหมู , แกงจืดหมูสับ , กระเพาะ\n"
     ]
    }
   ],
   "source": [
    "# 3. เขียนโปรแกรมเพิ่มรายการอาหารเพิ่มเติมได้โดยการรับชื่ออาหารที่เพิ่มใหม่ พร้อมแสดงจำนวนและรายการอาหารที่มีทั้งหมด\n",
    "newFood = input(\"เพิ่มรายการอาหารใหม่ 1 อย่าง : \")\n",
    "FoodMenu.append(newFood)\n",
    "print(f\"จำนวนรายการอาหารที่มีทั้งหมดมีอยู่ {len(FoodMenu)} จำนวน\")\n",
    "print(\"รายการอาหารทั้งหมดได้แก่:\", \" , \".join(FoodMenu))\n",
    "# ? หรือ\n",
    "# for i in FoodMenu:\n",
    "#     print(f'- {i}')"
   ]
  },
  {
   "cell_type": "code",
   "execution_count": 63,
   "metadata": {},
   "outputs": [
    {
     "name": "stdout",
     "output_type": "stream",
     "text": [
      "0. ต้มยำกุ้ง\n",
      "1. แกงส้ม\n",
      "2. ต้มข่าไก่\n",
      "3. ขนมจีนน้ำยา\n",
      "4. แกงเขียวหวานไก่\n",
      "5. มัสมั่นไก่\n",
      "6. แพนงหมู\n",
      "7. แกงจืดหมูสับ\n",
      "รายการอาหารใหม่ที่ทำการลบแล้ว: ต้มยำกุ้ง แกงส้ม ต้มข่าไก่ แกงเขียวหวานไก่ มัสมั่นไก่ แพนงหมู แกงจืดหมูสับ\n"
     ]
    }
   ],
   "source": [
    "# 4. เขียนโปรแกรมลบรายการอาหารที่ต้องการลบ โดยให้แสดงรายการอาหารก่อน แล้วให้เลือกหมายเลขรายการอาหารที่ต้องการลบ พร้อมแสดงรายการอาหารที่ลบแล้ว\n",
    "for i in range(len(FoodMenu)):\n",
    "    print(f\"{i}. {FoodMenu[i]}\")\n",
    "delete = input(\"โปรดเลือกหมายเลขรายการเพื่อทำการลบอาหาร : \")\n",
    "del FoodMenu[int(delete)]\n",
    "print(f\"รายการอาหารใหม่ที่ทำการลบแล้ว:\", *FoodMenu)"
   ]
  },
  {
   "cell_type": "code",
   "execution_count": 10,
   "metadata": {},
   "outputs": [
    {
     "name": "stdout",
     "output_type": "stream",
     "text": [
      "['ยำยำ', 'แกงส้ม', 'ต้มข่าไก่', 'ขนมจีนน้ำยา', 'แกงเขียวหวานไก่', 'มัสมั่นไก่', 'แพนงหมู', 'แกงจืดหมูสับ']\n"
     ]
    }
   ],
   "source": [
    "# 5. เขียนโปรแกรมแก้ไขรายการอาหาร โดยกำหนดหมายเลขลำดับอาหาร แล้วกรอกชื่ออาหารที่ต้องการแก้ไข พร้อมแสดงรายการอาหารที่แก้ไขแล้ว\n",
    "idx = int(input(f\"เลือกหมายเลขอาหารตั้งแต่ 0 ถึง {len(FoodMenu) - 1}\"))\n",
    "val = input(\"แก้ไขชื่ออาหาร : \")\n",
    "FoodMenu[idx] = val\n",
    "print(FoodMenu)"
   ]
  },
  {
   "cell_type": "code",
   "execution_count": 2,
   "metadata": {},
   "outputs": [],
   "source": [
    "# 6. สร้าง Tuple ที่มีชื่อว่า “Faculty” ที่มีรายการคณะในมหาวิทยาลัยเกษตรศาสตร์ วิทยาเขตศรีราชา ดังต่อไปนี\n",
    "# (\"Management\", \"Engineering\", \"Science\", \"Marine\", \"Economic\")\n",
    "Faculty = (\"Management\", \"Engineering\", \"Science\", \"Marine\", \"Economic\")"
   ]
  },
  {
   "cell_type": "code",
   "execution_count": 4,
   "metadata": {},
   "outputs": [
    {
     "name": "stdout",
     "output_type": "stream",
     "text": [
      "Management\n",
      "Engineering\n",
      "Science\n",
      "Marine\n",
      "Economic\n"
     ]
    }
   ],
   "source": [
    "# 7. เขียนโปรแกรมแสดงรายการคณะจากหมายเลขลำดับที่เป็นช่วง โดยกำหนดค่าตำแหน่งเริ่มต้น และตำแหน่งสิ้นสุดที่ต้องการ\n",
    "\n",
    "start = int(input('ตำแหน่งเริ่มต้น : '))\n",
    "stop = int(input('ตำแหน่งสุดท้าย : '))\n",
    "if start in range(Faculty.__len__()) and stop in range(Faculty.__len__()) and start != stop:\n",
    "    for i in range(start , stop + 1):\n",
    "        print(Faculty[i])\n",
    "else: print(f'โปรดใส่ตัวเลขที่อยู่ระหว่าง 0 ถึง {len(Faculty) - 1}')"
   ]
  },
  {
   "cell_type": "code",
   "execution_count": 16,
   "metadata": {},
   "outputs": [
    {
     "name": "stdout",
     "output_type": "stream",
     "text": [
      "You are studying at KU Sriracha campus.\n"
     ]
    }
   ],
   "source": [
    "# 8. เขียนโปรแกรมค้นหาชื่อคณะที่ต้องการว่า ชื่อคณะนั้นหรือไม่\n",
    "#    - ถ้ามีคณะนั้น ให้แสดงว่า \"You are studying at KU Sriracha campus.\"\n",
    "#   -  ถ้าไม่มีคณะนั้น ให้แสดงว่า \"Sorry, you aren’t studying there.\"\n",
    "name = input(\"ชื่อคณะ : \")\n",
    "print(\"You are studying at KU Sriracha campus.\" if name in Faculty else \"Sorry, you aren’t studying there.\")"
   ]
  },
  {
   "cell_type": "code",
   "execution_count": 13,
   "metadata": {},
   "outputs": [],
   "source": [
    "# 1. สร้าง Dictionary ที่มีชื่อว่า \"FoodPrice\" ที่มีรายการอาหารดังต่อไปนี้\n",
    "# {\"ต้มยำกุ้ง\" : 90, \"แกงส้ม\" : 60, \"ต้มข่าไก่\" : 60, \"ขนมจีนน้ำยา\" : 40, \"แกงเขียวหวานไก่\" : 40, \"มัสมั่นไก่\" : 50, \"แพนงหมู\" : 40, \"แกงจืดหมูสับ\" : 30}\n",
    "FoodPrice = {\n",
    "    \"ต้มยำกุ้ง\" : 90, \n",
    "    \"แกงส้ม\" : 60, \n",
    "    \"ต้มข่าไก่\" : 60, \n",
    "    \"ขนมจีนน้ำยา\" : 40, \n",
    "    \"แกงเขียวหวานไก่\" : 40, \n",
    "    \"มัสมั่นไก่\" : 50, \n",
    "    \"แพนงหมู\" : 40, \n",
    "    \"แกงจืดหมูสับ\" : 30\n",
    "}"
   ]
  },
  {
   "cell_type": "code",
   "execution_count": 7,
   "metadata": {},
   "outputs": [
    {
     "name": "stdout",
     "output_type": "stream",
     "text": [
      "ต้มยำกุ้ง มีราคาเท่ากับ 90 บาท\n"
     ]
    }
   ],
   "source": [
    "# 2. เขียนโปรแกรมรับชื่ออาหารที่ต้องการค้นหาว่า -ชื่ออาหารนั้นหรือไม่ \n",
    "#    - ถ้ามีข้อความ ให้แสดงว่า \"ชื่ออาหาร มีราคาเท่ากับ xxx บาท\"\n",
    "#    - ถ้าไม่มีข้อความ ให้แสดงว่า \"เสียใจ ไม่มีอาหารที่คุณต้องการ\"\n",
    "food = input('ชื่ออาหาร : ')\n",
    "print(f\"{food} มีราคาเท่ากับ {FoodPrice[food]} บาท\" if food in FoodPrice.keys() else \"เสียใจ ไม่มีอาหารที่คุณต้องการ\")"
   ]
  },
  {
   "cell_type": "code",
   "execution_count": 18,
   "metadata": {},
   "outputs": [
    {
     "name": "stdout",
     "output_type": "stream",
     "text": [
      "จำนวนรายการอาหารทั้งหมด 9\n",
      "- ต้มยำกุ้ง ราคา 90 บาท\n",
      "- แกงส้ม ราคา 60 บาท\n",
      "- ต้มข่าไก่ ราคา 60 บาท\n",
      "- ขนมจีนน้ำยา ราคา 40 บาท\n",
      "- แกงเขียวหวานไก่ ราคา 40 บาท\n",
      "- มัสมั่นไก่ ราคา 50 บาท\n",
      "- แพนงหมู ราคา 40 บาท\n",
      "- แกงจืดหมูสับ ราคา 30 บาท\n",
      "- ข้าวไข่เจียว ราคา 40 บาท\n"
     ]
    }
   ],
   "source": [
    "# 3. เขียนโปรแกรมเพิ่มรายการอาหารเพิ่มเติมได้โดยการรับชื่ออาหารและราคาอาหาร พร้อมแสดงจำนวนและรายการอาหารและราคาที่มีทั้งหมด\n",
    "key = input('ชื่ออาหาร : ')\n",
    "val = int(input('ราคา : '))\n",
    "FoodPrice[key] = val\n",
    "print(f'จำนวนรายการอาหารทั้งหมด {len(FoodPrice)}')\n",
    "for k in FoodPrice:\n",
    "    print(f'- {k} ราคา {FoodPrice[k]} บาท')"
   ]
  },
  {
   "cell_type": "code",
   "execution_count": 14,
   "metadata": {},
   "outputs": [
    {
     "name": "stdout",
     "output_type": "stream",
     "text": [
      "1. ต้มยำกุ้ง\n",
      "2. แกงส้ม\n",
      "3. ต้มข่าไก่\n",
      "4. ขนมจีนน้ำยา\n",
      "5. แกงเขียวหวานไก่\n",
      "6. มัสมั่นไก่\n",
      "7. แพนงหมู\n",
      "8. แกงจืดหมูสับ\n",
      "รายการที่ลบแล้ว :  , ต้มยำกุ้ง , ต้มข่าไก่ , ขนมจีนน้ำยา , แกงเขียวหวานไก่ , มัสมั่นไก่ , แพนงหมู , แกงจืดหมูสับ\n"
     ]
    }
   ],
   "source": [
    "# 4. เขียนโปรแกรมลบรายการอาหารที่ต้องการลบ โดยให้แสดงรายการอาหารก่อน แล้วให้เลือกหมายเลขรายการอาหารที่ต้องการลบ พร้อมแสดงรายการอาหารที่ลบแล้ว\n",
    "li = list(FoodPrice)\n",
    "for i in range(li.__len__()):\n",
    "    print(f'{i + 1}. {li[i]}')\n",
    "num = int(input('โปรดเลือกหมายเลขรายการอาหารที่ต้องการลบ : '))\n",
    "del FoodPrice[str(li[num - 1])]\n",
    "print('รายการที่ลบแล้ว : ' , *FoodPrice , sep=' , ')"
   ]
  },
  {
   "cell_type": "code",
   "execution_count": 16,
   "metadata": {},
   "outputs": [],
   "source": [
    "# 7. สร้าง Set ที่มีชื่อว่า “KUSRC” ที่มีรายการคณะในวิทยาเขตศรีราชา ได้แก่ {\"Management\", \"Engineering\", \"Science\", \"Marine\", \"Economics\"}  และสร้าง Set ที่มีชื่อว่า “KUBKK” ที่มีรายการคณะในวิทยาเขตบางเขน ได้แก่ {\"Agriculture\", \"Business\", \"Fisheries\", \"Humanities\", \"Science\", \"Engineering\", \"Education\", \"Economics\"}\n",
    "KUSRC = {\"Management\", \"Engineering\", \"Science\", \"Marine\", \"Economics\"}\n",
    "KUBKK = {\"Agriculture\", \"Business\", \"Fisheries\", \"Humanities\", \"Science\", \"Engineering\", \"Education\", \"Economics\"}"
   ]
  },
  {
   "cell_type": "code",
   "execution_count": 19,
   "metadata": {},
   "outputs": [
    {
     "name": "stdout",
     "output_type": "stream",
     "text": [
      "{'Management', 'Economics', 'Marine', 'Business', 'Engineering', 'Science', 'Fisheries', 'Humanities', 'Education', 'Agriculture'}\n",
      "{'Science', 'Economics', 'Engineering'}\n",
      "{'Management', 'Marine'}\n"
     ]
    }
   ],
   "source": [
    "# 8. เขียนโปรแกรมแสดงรายการคณะตามเงื่อนไขที่ดังต่อไปนี้\n",
    "# 7.1 รายการคณะทั้งหมดของทั้งสองวิทยาเขต\n",
    "# 7.2 รายการคณะที่มีอยู่ในสองวิทยาเขต\n",
    "# 7.3 รายการคณะที่มีอยู่ในวิทยาเขตศรีราชา แต่ไม่มีในวิทยาเขตบางเขน\n",
    "print(KUSRC.union(KUBKK))\n",
    "print(KUSRC.intersection(KUBKK))\n",
    "print(KUSRC.difference(KUBKK))"
   ]
  },
  {
   "cell_type": "code",
   "execution_count": 42,
   "metadata": {},
   "outputs": [
    {
     "name": "stdout",
     "output_type": "stream",
     "text": [
      "คุณมีโอกาสได้ทั้งสองวิทยาเขต\n"
     ]
    }
   ],
   "source": [
    "# 9. เขียนโปรแกรมค้นหาชื่อคณะที่ต้องการว่า ชื่อคณะนั้นหรือไม่\n",
    "#    - ถ้ามีคณะนั้นในวิทยาเขตบางเขน ให้แสดงว่า \"คุณเรียนที่วิทยาเขตบางเขน\"\n",
    "#    - ถ้ามีคณะนั้นในวิทยาเขตศรีราชา ให้แสดงว่า \"คุณเรียนที่วิทยาเขตศรีราชา\"\n",
    "#    - ถ้ามีคณะนั้นในวิทยาเขตศรีราชาและบางเขน ให้แสดงว่า \"คุณมีโอกาสได้ทั้งสองวิทยาเขต\"\n",
    "#   -  ถ้าไม่มีคณะนั้น ให้แสดงว่า \"เสียใจด้วย คุณไม่ได้เรียนที่วิทยาเขตบางเขนหรือศรีราชา\"\n",
    "facultyName = input('ค้นหาชื่อคณะ : ')\n",
    "msg = ''\n",
    "if facultyName in KUSRC and facultyName in KUBKK: msg = \"คุณมีโอกาสได้ทั้งสองวิทยาเขต\"\n",
    "elif facultyName in KUBKK: msg = \"คุณเรียนที่วิทยาเขตบางเขน\"\n",
    "elif facultyName in KUSRC: msg = \"คุณเรียนที่วิทยาเขตศรีราชา\"\n",
    "else: msg = \"เสียใจด้วย คุณไม่ได้เรียนที่วิทยาเขตบางเขนหรือศรีราชา\"\n",
    "print(msg)"
   ]
  }
 ],
 "metadata": {
  "kernelspec": {
   "display_name": ".venv",
   "language": "python",
   "name": "python3"
  },
  "language_info": {
   "codemirror_mode": {
    "name": "ipython",
    "version": 3
   },
   "file_extension": ".py",
   "mimetype": "text/x-python",
   "name": "python",
   "nbconvert_exporter": "python",
   "pygments_lexer": "ipython3",
   "version": "3.10.11"
  },
  "orig_nbformat": 4
 },
 "nbformat": 4,
 "nbformat_minor": 2
}
