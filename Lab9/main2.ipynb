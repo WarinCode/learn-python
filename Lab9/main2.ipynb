{
 "cells": [
  {
   "cell_type": "markdown",
   "metadata": {},
   "source": [
    "# ข้อ 1"
   ]
  },
  {
   "cell_type": "code",
   "execution_count": 23,
   "metadata": {},
   "outputs": [
    {
     "name": "stdout",
     "output_type": "stream",
     "text": [
      "มีนิสิต 3 คน = ['a', 'b', 'c']\n",
      "มีทั้งหมด 3 วิชา = ['1', '2', '3']\n",
      "a -> 1\n",
      "a -> 2\n",
      "a -> 3\n",
      "b -> 1\n",
      "b -> 2\n",
      "b -> 3\n",
      "c -> 1\n",
      "c -> 2\n",
      "c -> 3\n"
     ]
    }
   ],
   "source": [
    "student = []\n",
    "subject = []\n",
    "i = 1\n",
    "while True:\n",
    "    name = input(f'ชื่อนิสิต_{i} : ')\n",
    "    i += 1\n",
    "    if name == 'end': \n",
    "        i = 0\n",
    "        break\n",
    "    else: student.append(name)\n",
    "print(f'มีนิสิต {student.__len__()} คน =',student)\n",
    "while True:\n",
    "    i += 1\n",
    "    s = input(f'วิชา_{i} : ')\n",
    "    if s == 'end': break\n",
    "    else: subject.append(s)\n",
    "print(f'มีทั้งหมด {subject.__len__()} วิชา =',subject)\n",
    "for j in range(3):\n",
    "    for k in range(3):\n",
    "        print(f\"{student[j]} -> {subject[k]}\")\n"
   ]
  },
  {
   "cell_type": "markdown",
   "metadata": {},
   "source": [
    "# ข้อ 2"
   ]
  },
  {
   "cell_type": "code",
   "execution_count": 25,
   "metadata": {},
   "outputs": [
    {
     "name": "stdout",
     "output_type": "stream",
     "text": [
      "มีทั้งหมด 2 วิชา = ['a', 'b']\n",
      "{'a': 10, 'b': 30}\n",
      "วิชา a = 10\n",
      "วิชา b = 30\n",
      "หาวิชา c ไม่พบ\n",
      "หาวิชา c ไม่พบ\n"
     ]
    }
   ],
   "source": [
    "subject = []\n",
    "i = 0\n",
    "while True:\n",
    "    i += 1\n",
    "    s = input(f'วิชา_{i} : ')\n",
    "    if s == 'end': \n",
    "        i = 0\n",
    "        break\n",
    "    else: subject.append(s)\n",
    "print(f'มีทั้งหมด {subject.__len__()} วิชา =',subject)\n",
    "dic = {}\n",
    "for i in subject:\n",
    "    dic[i] = int(input('คะแนนวิชา : '))\n",
    "print(dic)\n",
    "while True:\n",
    "    key = input(\"หาข้อมูลวิชา : \")\n",
    "    if key in dic: print(f\"วิชา {key} = {dic[key]}\")\n",
    "    elif key == 'end': break\n",
    "    elif key not in dic: print(f'หาวิชา {key} ไม่พบ')"
   ]
  }
 ],
 "metadata": {
  "kernelspec": {
   "display_name": ".venv",
   "language": "python",
   "name": "python3"
  },
  "language_info": {
   "codemirror_mode": {
    "name": "ipython",
    "version": 3
   },
   "file_extension": ".py",
   "mimetype": "text/x-python",
   "name": "python",
   "nbconvert_exporter": "python",
   "pygments_lexer": "ipython3",
   "version": "3.11.4"
  },
  "orig_nbformat": 4
 },
 "nbformat": 4,
 "nbformat_minor": 2
}
