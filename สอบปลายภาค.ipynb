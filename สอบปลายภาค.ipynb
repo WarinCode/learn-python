{
 "cells": [
  {
   "cell_type": "code",
   "execution_count": 3,
   "metadata": {},
   "outputs": [
    {
     "name": "stdout",
     "output_type": "stream",
     "text": [
      "3 3 3 \n",
      "0 3 3 \n",
      "0 0 3 \n"
     ]
    }
   ],
   "source": [
    "n = int(input('Enter number : '))\n",
    "for i in range(n , 0 , -1):\n",
    "    print(f'{n} ' * i) if i == n else print(f'0 ' * (n - i) + f'{n} ' * i)"
   ]
  },
  {
   "cell_type": "code",
   "execution_count": 7,
   "metadata": {},
   "outputs": [
    {
     "name": "stdout",
     "output_type": "stream",
     "text": [
      "5 5 5 5 5 \n",
      "0 5 5 5 5 \n",
      "0 0 5 5 5 \n",
      "0 0 0 5 5 \n",
      "0 0 0 0 5 \n"
     ]
    }
   ],
   "source": [
    "n = int(input('Enter number : '))\n",
    "for i in range(n , 0 , -1):\n",
    "    print(f'{n} ' * i) if i == n else print(f'0 ' * (n - i) + f'{n} ' * i)"
   ]
  },
  {
   "cell_type": "code",
   "execution_count": 6,
   "metadata": {},
   "outputs": [
    {
     "name": "stdout",
     "output_type": "stream",
     "text": [
      "\n",
      "    จำนวนเงินทั้งหมด: 4500\n",
      "    ลดราคาไป 5% = 225.0\n",
      "    จำนวนเงินที่จ่ายจริง = 4275.0\n",
      "    \n"
     ]
    }
   ],
   "source": [
    "membership = int(input('รหัสสมาชิก : '))\n",
    "isMembership  = membership  != 0\n",
    "isZeroNumber = 1\n",
    "discount = 0\n",
    "quantity = 0\n",
    "count = 0\n",
    "totalAmount = 0\n",
    "netAmount = 0\n",
    "percentage = 0\n",
    "\n",
    "def discountFunc(money):\n",
    "    global percentage , netAmount , discount\n",
    "    if money >= 10_000:\n",
    "        percentage = 20 if isMembership else 15\n",
    "    elif money >= 5000:\n",
    "        percentage = 10 if isMembership else 5\n",
    "    elif money < 5000:\n",
    "        percentage = 5 if isMembership else 0\n",
    "    discount = money * (percentage / 100)\n",
    "    netAmount = money - discount\n",
    "\n",
    "while isZeroNumber != 0:\n",
    "    count += 1\n",
    "    amount = int(input(f'จำนวนเงิน {count}: '))\n",
    "    totalAmount += amount\n",
    "    isZeroNumber = amount\n",
    "else:\n",
    "    discountFunc(money=totalAmount)\n",
    "    print(f\"\"\"\n",
    "    จำนวนเงินทั้งหมด: {totalAmount}\n",
    "    ลดราคาไป {percentage}% = {discount}\n",
    "    จำนวนเงินที่จ่ายจริง = {netAmount}\n",
    "    \"\"\")"
   ]
  }
 ],
 "metadata": {
  "kernelspec": {
   "display_name": ".venv",
   "language": "python",
   "name": "python3"
  },
  "language_info": {
   "codemirror_mode": {
    "name": "ipython",
    "version": 3
   },
   "file_extension": ".py",
   "mimetype": "text/x-python",
   "name": "python",
   "nbconvert_exporter": "python",
   "pygments_lexer": "ipython3",
   "version": "3.10.11"
  }
 },
 "nbformat": 4,
 "nbformat_minor": 2
}
