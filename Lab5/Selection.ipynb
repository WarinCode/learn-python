{
 "cells": [
  {
   "cell_type": "markdown",
   "metadata": {},
   "source": [
    "<h3>Try it</h3>\n",
    "<hr>"
   ]
  },
  {
   "cell_type": "code",
   "execution_count": 7,
   "metadata": {},
   "outputs": [
    {
     "name": "stdout",
     "output_type": "stream",
     "text": [
      "31 = Odd Number\n"
     ]
    }
   ],
   "source": [
    "# ข้อ 1\n",
    "x = int(input(\"ตัวเลข >> \"))\n",
    "print(f\"{x} =\" , \"Even Number\" if x % 2 == 0 else \"Odd Number\")"
   ]
  },
  {
   "cell_type": "code",
   "execution_count": 43,
   "metadata": {},
   "outputs": [
    {
     "name": "stdout",
     "output_type": "stream",
     "text": [
      "คุณได้ส่วนลด 20% จ่ายเงินในราคา 81,612.24 บาท\n"
     ]
    }
   ],
   "source": [
    "# ข้อ 2\n",
    "amount = int(input(\"จำนวนสินค้า >> \"))\n",
    "price = float(input(\"ราคาสินค้า >> \"))\n",
    "price = amount * price\n",
    "percentage = discount = None\n",
    "\n",
    "if price >= 20_000:\n",
    "    percentage = 20\n",
    "elif price >= 10_000:\n",
    "    percentage = 10\n",
    "discount = price * ((100 - percentage) / 100)\n",
    "print(f'คุณได้ส่วนลด {percentage}% ', end='')\n",
    "print(f'จ่ายเงินในราคา {discount:,.2f} บาท')\n"
   ]
  },
  {
   "cell_type": "code",
   "execution_count": 9,
   "metadata": {},
   "outputs": [
    {
     "name": "stdout",
     "output_type": "stream",
     "text": [
      "คุณมีคะแนน 98 คะแนน คุณได้เกรด A\n"
     ]
    }
   ],
   "source": [
    "# ข้อ 3\n",
    "def calculateGrade(s):\n",
    "    grade = ('A','B','C','D','F')\n",
    "    msg = f'คุณมีคะแนน {s} คะแนน คุณได้เกรด '\n",
    "    if 100 >= score >= 80: msg += grade[0]\n",
    "    elif 79 >= score >= 70: msg += grade[1]\n",
    "    elif 69 >= score >= 60: msg += grade[2]\n",
    "    elif 59 >= score >= 50: msg += grade[-2]\n",
    "    elif score < 0 or score > 100:msg = \"เกิดข้อผิดพลาดขึ้นไม่ใช้คะแนน!\"\n",
    "    else: msg += grade[-1]\n",
    "    return msg\n",
    "score = int(input(\"คะแนนของคุณ >> \"))\n",
    "print(calculateGrade(score))"
   ]
  },
  {
   "cell_type": "code",
   "execution_count": 52,
   "metadata": {},
   "outputs": [
    {
     "name": "stdout",
     "output_type": "stream",
     "text": [
      "ราคาจ่ายเต็ม 98,774.50 บาท คุณได้ส่วนลด 20% ราคาที่ได้ลดส่วนลด 79,019.60 บาท\n"
     ]
    }
   ],
   "source": [
    "# ข้อ 4\n",
    "amount = int(input(\"จำนวนสินค้า >> \"))\n",
    "price = float(input(\"ราคาสินค้า >> \"))\n",
    "membership = input(\"คุณเป็นสมาชิกหรือไม่ ถ้าเป็นตอบ \\\"y\\\" ถ้าไม่ตอบ \\\"n\\\"\")\n",
    "total = amount * price\n",
    "membership = bool(membership == \"y\" or membership == \"y\".upper())\n",
    "# True -> เป็นสมาชิก , False -> ไม่เป็นสมาชิก\n",
    "percentage , discount = 0 , None\n",
    "\n",
    "if membership:\n",
    "    if total >= 20_000: percentage = 20\n",
    "    elif total >= 10_000: percentage = 10\n",
    "elif not membership:\n",
    "    if total >= 20_000: percentage = 10\n",
    "    elif total >= 10_000: percentage = 5\n",
    "discount = total * ((100 - percentage) / 100)\n",
    "print(f\"ราคาจ่ายเต็ม {total:,.2f} บาท คุณได้ส่วนลด {percentage}% \" , end=\"\")\n",
    "print(f'ราคาที่ได้ลดส่วนลด {discount:,.2f} บาท')"
   ]
  }
 ],
 "metadata": {
  "kernelspec": {
   "display_name": ".venv",
   "language": "python",
   "name": "python3"
  },
  "language_info": {
   "codemirror_mode": {
    "name": "ipython",
    "version": 3
   },
   "file_extension": ".py",
   "mimetype": "text/x-python",
   "name": "python",
   "nbconvert_exporter": "python",
   "pygments_lexer": "ipython3",
   "version": "3.10.11"
  },
  "orig_nbformat": 4
 },
 "nbformat": 4,
 "nbformat_minor": 2
}
