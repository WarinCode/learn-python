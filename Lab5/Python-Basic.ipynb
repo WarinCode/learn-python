{
 "cells": [
  {
   "cell_type": "markdown",
   "metadata": {},
   "source": [
    "<h3>แบบฝึกหัดตั้งชื่อตัวแปร</h3>\n",
    "<hr>"
   ]
  },
  {
   "cell_type": "code",
   "execution_count": 4,
   "metadata": {},
   "outputs": [],
   "source": [
    "# * ชื่อตัวแปรที่ถูกต้อง\n",
    "# -> A4_b , _3BB , aN24 , _Address\n",
    "\n",
    "# ! ชื่อตัวแปรไม่ถูกต้อง\n",
    "# -> M3 a , 1First_Name , Tel-Num , $LstName"
   ]
  },
  {
   "cell_type": "markdown",
   "metadata": {},
   "source": [
    "<h3>แบบฝึกกำหนดค่าตัวแปร</h3>\n",
    "<hr>"
   ]
  },
  {
   "cell_type": "code",
   "execution_count": 3,
   "metadata": {},
   "outputs": [],
   "source": [
    "# สร้ำงตัวแปรและบันทึกชื่อลูกค้ำ FirstNameเท่ำกับ John\n",
    "# * ถูกต้อง\n",
    "FirstName = 'John'\n",
    "\n",
    "# สร้ำงตัวแปรและบันทึกจำนวนอำยุ Age เท่ำกับ 38 ปี\n",
    "# * ถูกต้อง\n",
    "Age = 38\n",
    "\n",
    "# สร้ำงตัวแปรและบันทึกจำนวนเงิน Money เท่ำกับ 4500.50\n",
    "# * ถูกต้อง\n",
    "Money = 4500.50\n",
    "\n",
    "# สร้ำงตัวแปรและบันทึกสถำนะของกำรโอนเงิน Transfer ที่เป็นจริง\n",
    "# * ถูกต้อง\n",
    "Transfer = True\n",
    "\n",
    "# สร้ำงตัวแปรและบันทึกรำยกำรประเภทสินค้ำในคลัง Category ได้แก่ CPU, Mainboard, Storage, Graphic Card, Case\n",
    "# * ถูกต้อง\n",
    "Category = ['CPU' , 'Mainboard' , 'Storage' , 'Graphic' , 'Card' , 'Case']"
   ]
  },
  {
   "cell_type": "code",
   "execution_count": 12,
   "metadata": {},
   "outputs": [
    {
     "name": "stdout",
     "output_type": "stream",
     "text": [
      "I have 1 ball \n",
      "I have 1 ball\n",
      "I have 1 ball\n"
     ]
    }
   ],
   "source": [
    "# ตัวอย่างการใช้ function \n",
    "a = 1\n",
    "b = 'ball'\n",
    "\n",
    "# วิธีที่ 1\n",
    "print('I have %d %s ' %(a , b))\n",
    "\n",
    "# วิธีที่ 2\n",
    "print('I have',a,b)\n",
    "\n",
    "# วิธีที่ 3\n",
    "print('I have ' + str(a) + ' ' + b)"
   ]
  },
  {
   "cell_type": "markdown",
   "metadata": {},
   "source": [
    "<h3>แบบฝึกหัดการแสดงผลด้วยคำสั่ง print</h3>\n",
    "<hr>"
   ]
  },
  {
   "cell_type": "code",
   "execution_count": 21,
   "metadata": {},
   "outputs": [
    {
     "name": "stdout",
     "output_type": "stream",
     "text": [
      "I am Sombat.\n",
      "I am 19 years old.\n",
      "I have a grade of 3.25 in CS major\n",
      "I am second-year student in Kasetsart Univerity.\n"
     ]
    }
   ],
   "source": [
    "# กำหนดให้\n",
    "Nisit = 'Sombat'\n",
    "Age = 19\n",
    "GPA = 3.25\n",
    "Major = \"CS\"\n",
    "Year = 'second'\n",
    "University = 'Kasetsart'\n",
    "\n",
    "print('I am',Nisit + '.')\n",
    "print('I am ' + str(Age) + ' years old.')\n",
    "print('I have a grade of %g in %s major' %(GPA , Major))\n",
    "print(f'I am {Year}-year student in {University} Univerity.')"
   ]
  }
 ],
 "metadata": {
  "kernelspec": {
   "display_name": ".venv",
   "language": "python",
   "name": "python3"
  },
  "language_info": {
   "codemirror_mode": {
    "name": "ipython",
    "version": 3
   },
   "file_extension": ".py",
   "mimetype": "text/x-python",
   "name": "python",
   "nbconvert_exporter": "python",
   "pygments_lexer": "ipython3",
   "version": "3.10.11"
  },
  "orig_nbformat": 4
 },
 "nbformat": 4,
 "nbformat_minor": 2
}
