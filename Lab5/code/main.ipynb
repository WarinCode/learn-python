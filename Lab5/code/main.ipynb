{
 "cells": [
  {
   "cell_type": "markdown",
   "metadata": {},
   "source": [
    "<h1 style=\"text-align:center; color:white;\">ส่งการบ้าน</h1>\n",
    "<hr>"
   ]
  },
  {
   "cell_type": "code",
   "execution_count": 54,
   "metadata": {},
   "outputs": [
    {
     "name": "stdout",
     "output_type": "stream",
     "text": [
      "ดอกเบี้ยเดือนละ 17 บาท\n",
      "ต้องจ่ายเงินพร้อมดอกเบี้ยเดือนละ 233 บาท\n",
      "รวมจ่ายเงินทั้งมด 233 บาท\n"
     ]
    }
   ],
   "source": [
    "# 1.กู้เงิน ดอกเบี้ย ร้อยละ 2 ต่อเดือน \n",
    "rate = 0.02\n",
    "loan = eval(input(\"จำนวนเงินที่คุณต้องการกู้ >> \"))\n",
    "month = int(input(\"จำนวนเดือนที่ต้องการจะชำระ >> \"))\n",
    "intr = loan * rate \n",
    "pay = (loan / month ) + intr\n",
    "all = pay * month\n",
    "li = [f'ดอกเบี้ยเดือนละ {int(intr):,} บาท' , f'ต้องจ่ายเงินพร้อมดอกเบี้ยเดือนละ {int(pay):,} บาท' , f'รวมจ่ายเงินทั้งมด {int(pay):,} บาท']\n",
    "print(*li , sep='\\n')"
   ]
  },
  {
   "cell_type": "code",
   "execution_count": 33,
   "metadata": {},
   "outputs": [
    {
     "name": "stdout",
     "output_type": "stream",
     "text": [
      "สุ่มไพ่รอบที่ 1 = 3\n",
      "สุ่มไพ่รอบที่ 2 = 10\n",
      "คุณได้แต้ม 3\n"
     ]
    }
   ],
   "source": [
    "# 2.สุ่มไพ่\n",
    "from random import *\n",
    "\n",
    "def ran(n1 , n2):\n",
    "    card = []\n",
    "    for i in range(0 , 2):\n",
    "        card.append(randint(n1 , n2))\n",
    "        print(f'สุ่มไพ่รอบที่ {i + 1} = {card[i]}')\n",
    "    point = f'คุณได้แต้ม {choice(card)}'\n",
    "    print(point)\n",
    "ran(1 , 11)"
   ]
  },
  {
   "cell_type": "code",
   "execution_count": 35,
   "metadata": {},
   "outputs": [
    {
     "name": "stdout",
     "output_type": "stream",
     "text": [
      "จำนวนเงินที่รับมา 4564 บาท\n",
      "ได้ธนบัตร 500 บาท = 9 ใบ\n",
      "ได้ธนบัตร 50 บาท = 1 ใบ\n",
      "ได้ธนบัตร 1 บาท = 14 ใบ\n",
      "\n",
      "เหลือเงิน 14 บาท\n"
     ]
    }
   ],
   "source": [
    "# 3.แตก Bank\n",
    "money = int(input(\"ระบุจำนวนเงินที่ต้องการจะแลก >>  \"))\n",
    "li = (500 , 100 , 50, 20, 1)\n",
    "bank = {\n",
    "    \"m500\": None,\n",
    "    \"m100\": None,\n",
    "    \"m50\":None,\n",
    "    \"m20\":None,\n",
    "    \"balance\":None\n",
    "}\n",
    "def exchangeMoney(m):\n",
    "    for idx , key in enumerate(bank):\n",
    "        bank[key] = m // li[idx]\n",
    "        m %= li[idx]\n",
    "        print('' , end='') if bank[str(key)] == 0 else print(f'ได้ธนบัตร {li[idx]} บาท = {bank[key]} ใบ')\n",
    "print('จำนวนเงินที่รับมา' , money , 'บาท')\n",
    "exchangeMoney(money)\n",
    "print(f'\\nเหลือเงิน {bank[\"balance\"]} บาท')\n"
   ]
  }
 ],
 "metadata": {
  "kernelspec": {
   "display_name": "Python 3",
   "language": "python",
   "name": "python3"
  },
  "language_info": {
   "codemirror_mode": {
    "name": "ipython",
    "version": 3
   },
   "file_extension": ".py",
   "mimetype": "text/x-python",
   "name": "python",
   "nbconvert_exporter": "python",
   "pygments_lexer": "ipython3",
   "version": "3.11.4"
  },
  "orig_nbformat": 4
 },
 "nbformat": 4,
 "nbformat_minor": 2
}
