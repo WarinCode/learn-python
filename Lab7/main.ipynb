{
 "cells": [
  {
   "cell_type": "code",
   "execution_count": 1,
   "metadata": {},
   "outputs": [
    {
     "name": "stdout",
     "output_type": "stream",
     "text": [
      "ลงทะเบียนทั้งหมด = 9 หน่วย\n",
      "GPA = 2.0\n"
     ]
    }
   ],
   "source": [
    "#  ข้อ 1.) gpa\n",
    "subjects = ('DataCom' , 'OS' , 'ComArch')\n",
    "grade  , gpa = [] , []\n",
    "\n",
    "for s in subjects:\n",
    "    gpa.append(int(input(f'หน่วยกิตของวิชา {s} : ')))\n",
    "    grade.append(int(input(f'เกรดของวิชา {s} : ')))     \n",
    "print(f'ลงทะเบียนทั้งหมด = {sum(gpa)} หน่วย\\nGPA = {sum(grade) / grade.__len__()}')"
   ]
  },
  {
   "cell_type": "code",
   "execution_count": 3,
   "metadata": {},
   "outputs": [
    {
     "name": "stdout",
     "output_type": "stream",
     "text": [
      "ผลรวมคะแนนของวิชา DataCom = 60\n",
      "ผลรวมคะแนนของวิชา OS = 9\n",
      "ผลรวมคะแนนของวิชา ComArch = 116\n"
     ]
    }
   ],
   "source": [
    "# ข้อ 2.) score\n",
    "subjects = ('DataCom' , 'OS' , 'ComArch')\n",
    "score = []\n",
    "for i in subjects:\n",
    "    for j in range(3):\n",
    "        s = eval(input(f'คะแนนสอบครั้งที่ {j + 1} {i}'))\n",
    "        score.append(s)\n",
    "    print(f'ผลรวมคะแนนของวิชา {i} = {sum(score)}')\n",
    "    score.clear()"
   ]
  }
 ],
 "metadata": {
  "kernelspec": {
   "display_name": "Python 3",
   "language": "python",
   "name": "python3"
  },
  "language_info": {
   "codemirror_mode": {
    "name": "ipython",
    "version": 3
   },
   "file_extension": ".py",
   "mimetype": "text/x-python",
   "name": "python",
   "nbconvert_exporter": "python",
   "pygments_lexer": "ipython3",
   "version": "3.11.4"
  },
  "orig_nbformat": 4
 },
 "nbformat": 4,
 "nbformat_minor": 2
}
