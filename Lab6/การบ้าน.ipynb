{
 "cells": [
  {
   "cell_type": "code",
   "execution_count": 4,
   "metadata": {},
   "outputs": [
    {
     "name": "stdout",
     "output_type": "stream",
     "text": [
      "คุณได้รับส่วนลด 20% = 2,000.00\n",
      "ยอดเงินที่ต้องจ่ายคือ = 8,000.00\n"
     ]
    }
   ],
   "source": [
    "# ข้อ 1\n",
    "Amount = float(input(\"จำนวนเงินที่ซื้อ >> \"))\n",
    "Membership = input(\"เป็นสมาชิก (y/n) >> \")\n",
    "isMembership = Membership == \"y\" or Membership == \"y\".upper()\n",
    "\n",
    "def Discount(percentage , discount):\n",
    "    if Amount > 5000 and isMembership: percentage = 20\n",
    "    elif Amount > 5000 and not isMembership: percentage = 10\n",
    "    else: percentage = 5    \n",
    "    discount = Amount * ((100 - percentage) / 100)\n",
    "    return f'คุณได้รับส่วนลด 20% = {(Amount - discount):,.2f}\\nยอดเงินที่ต้องจ่ายคือ = {discount:,.2f}'\n",
    "print(Discount(0 , 0))"
   ]
  },
  {
   "cell_type": "code",
   "execution_count": 128,
   "metadata": {},
   "outputs": [
    {
     "name": "stdout",
     "output_type": "stream",
     "text": [
      "ราคาหนังสือรวม = 600\n",
      "ราคาหนังสือที่ต้องจ่ายจริง = 500\n"
     ]
    }
   ],
   "source": [
    "# ข้อ 2\n",
    "li = []\n",
    "for n in range(3):\n",
    "    book = eval(input(f\"ราคาหนังสือเล่มที่ {n + 1} >> \"))\n",
    "    li.append(book)\n",
    "print(f'ราคาหนังสือรวม = {sum(li)}')\n",
    "print(f'ราคาหนังสือที่ต้องจ่ายจริง = {sum(li) - min(*li)}')"
   ]
  },
  {
   "cell_type": "code",
   "execution_count": 55,
   "metadata": {},
   "outputs": [
    {
     "name": "stdout",
     "output_type": "stream",
     "text": [
      "ได้ไพ่ : 5 : 11 = 5 แต้ม\n"
     ]
    }
   ],
   "source": [
    "# ข้อ 3\n",
    "from random import *\n",
    "\n",
    "point = 0\n",
    "card = {\n",
    "    1:randint(1,13),\n",
    "    2:randint(1,13),\n",
    "}\n",
    "value = {\n",
    "    1: None,\n",
    "    2: None\n",
    "}\n",
    "\n",
    "def randomCard():\n",
    "    global point\n",
    "    for i in card:\n",
    "        value[i] = 10 if card[i] >= 10 else card[i]\n",
    "        point += value[i]\n",
    "    point %= 10\n",
    "\n",
    "randomCard()\n",
    "print(f'ได้ไพ่ : {card[1]} : {card[2]} = {point} แต้ม')\n",
    "\n",
    "if point < 4:\n",
    "    print('แต่มต่ำต้องเรียกไพ่ใบที่ 3')    \n",
    "    card[3] = randint(1,13)\n",
    "    value[3] = 0\n",
    "    randomCard()\n",
    "    print(f'ได้ไพ่ : {card[1]} : {card[2]} : {card[3]} = {point} แต้ม')\n",
    "\n",
    "# card1 = randint(1,13)\n",
    "# card2 = randint(1,13)\n",
    "# p1 = p2 = 0\n",
    "\n",
    "# p1 = 10 if card1 >= 10 else card1\n",
    "# p2 = 10 if card1 >= 10 else card2\n",
    "# point = (p1 + p2) % 10\n",
    "# print(f'ได้ไพ่ : {card1} : {card2} = {point} แต้ม')\n",
    "\n",
    "# if point < 4:\n",
    "#     print('แต่มต่ำต้องเรียกไพ่ใบที่ 3')\n",
    "#     card3 = randint(1,13)\n",
    "#     p3 = 10 if card3 > 10 else card3\n",
    "#     point = (p1 + p2 + p3) % 10\n",
    "#     print(f'ได้ไพ่ : {card1} : {card2} : {card3} = {point} แต้ม')"
   ]
  }
 ],
 "metadata": {
  "kernelspec": {
   "display_name": "Python 3",
   "language": "python",
   "name": "python3"
  },
  "language_info": {
   "codemirror_mode": {
    "name": "ipython",
    "version": 3
   },
   "file_extension": ".py",
   "mimetype": "text/x-python",
   "name": "python",
   "nbconvert_exporter": "python",
   "pygments_lexer": "ipython3",
   "version": "3.11.4"
  },
  "orig_nbformat": 4
 },
 "nbformat": 4,
 "nbformat_minor": 2
}
