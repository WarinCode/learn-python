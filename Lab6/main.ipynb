{
 "cells": [
  {
   "cell_type": "markdown",
   "metadata": {},
   "source": [
    "<h3>For loop</h3>\n",
    "<hr>"
   ]
  },
  {
   "cell_type": "code",
   "execution_count": 8,
   "metadata": {},
   "outputs": [
    {
     "name": "stdout",
     "output_type": "stream",
     "text": [
      "สุ่มรอบที่ 1 ได้: 2\n",
      "สุ่มรอบที่ 2 ได้: 9\n",
      "สุ่มรอบที่ 3 ได้: 7\n"
     ]
    }
   ],
   "source": [
    "# ข้อ 1\n",
    "from random import *\n",
    "\n",
    "for i in range(3): \n",
    "    print(f\"สุ่มรอบที่ {i + 1} ได้: {randint(0,10)}\")"
   ]
  },
  {
   "cell_type": "code",
   "execution_count": 22,
   "metadata": {},
   "outputs": [
    {
     "name": "stdout",
     "output_type": "stream",
     "text": [
      "คะแนนรวมทั้งหมดของนักเรียน 100 คนได้ 5314 ค่าเฉลี่ย 53.14\n"
     ]
    }
   ],
   "source": [
    "# ข้อ 2\n",
    "from random import *\n",
    "\n",
    "li = []\n",
    "for score in range(100):\n",
    "    li.append(randint(0 , 101))\n",
    "Σx = sum(li)\n",
    "mean = Σx / li.__len__()\n",
    "print(f'คะแนนรวมทั้งหมดของนักเรียน {li.__len__()} คนได้ {Σx} ค่าเฉลี่ย {mean}')\n"
   ]
  },
  {
   "cell_type": "code",
   "execution_count": 29,
   "metadata": {},
   "outputs": [
    {
     "name": "stdout",
     "output_type": "stream",
     "text": [
      "ตัวเลข 2346 \n",
      "มีเลขคู่ 3 ตัว \n",
      "มีเลขคี่ 1 ตัว\n"
     ]
    }
   ],
   "source": [
    "# ข้อ 3\n",
    "n4 = input(\"ตัวเลข 4 ตัว >> \")\n",
    "even = odd = 0\n",
    "for char in n4:\n",
    "    number = int(char)\n",
    "    if number % 2 == 0: even += 1\n",
    "    else: odd += 1\n",
    "print(f'ตัวเลข {n4} \\nมีเลขคู่ {even} ตัว \\nมีเลขคี่ {odd} ตัว') "
   ]
  },
  {
   "cell_type": "markdown",
   "metadata": {},
   "source": [
    "<h3>While loop</h3>\n",
    "<hr>"
   ]
  },
  {
   "cell_type": "code",
   "execution_count": 41,
   "metadata": {},
   "outputs": [
    {
     "name": "stdout",
     "output_type": "stream",
     "text": [
      "คุณทายถูก\n"
     ]
    }
   ],
   "source": [
    "# ข้อ 1\n",
    "from IPython.display import clear_output\n",
    "from random import *\n",
    "\n",
    "infinityLoop = True\n",
    "while infinityLoop:\n",
    "    randomNumber = randint(0 , 10)    \n",
    "    guess = int(input(f\"ทายตัวเลขให้ถูกตั้งแต่ 0 ถึง 9 >> // เฉลย {randomNumber}\"))\n",
    "    if guess == randomNumber:\n",
    "        clear_output(wait= True)\n",
    "        print(\"คุณทายถูก\")\n",
    "        infinityLoop = False\n",
    "    else: print('ทายตัวเลขใหม่')"
   ]
  },
  {
   "cell_type": "code",
   "execution_count": 37,
   "metadata": {},
   "outputs": [
    {
     "name": "stdout",
     "output_type": "stream",
     "text": [
      "นักเรียนทั้งหมด 5 คนมีคะแนนทั้งหมด 191 คะแนน ค่าเฉลี่ย 38.2\n"
     ]
    }
   ],
   "source": [
    "# ข้อ 2\n",
    "n = _sum = 0\n",
    "while True:\n",
    "    n += 1\n",
    "    score = int(input(f'คะแนนนักเรียนคนที่ {n} >> '))\n",
    "    if score < 0: break\n",
    "    else: _sum += score\n",
    "print(f'นักเรียนทั้งหมด {n} คนมีคะแนนทั้งหมด {_sum} คะแนน ค่าเฉลี่ย {_sum / n}')"
   ]
  },
  {
   "cell_type": "code",
   "execution_count": 1,
   "metadata": {},
   "outputs": [
    {
     "name": "stdout",
     "output_type": "stream",
     "text": [
      "9 เป็นเลขคี่\n"
     ]
    }
   ],
   "source": [
    "# ข้อ 3\n",
    "n = int(input(\"ตัวเลข >> \"))\n",
    "print(f\"{n} เป็นเลข\" ,\"คู่\" if n % 2 == 0 else \"คี่\" ,sep='')"
   ]
  }
 ],
 "metadata": {
  "kernelspec": {
   "display_name": "Python 3",
   "language": "python",
   "name": "python3"
  },
  "language_info": {
   "codemirror_mode": {
    "name": "ipython",
    "version": 3
   },
   "file_extension": ".py",
   "mimetype": "text/x-python",
   "name": "python",
   "nbconvert_exporter": "python",
   "pygments_lexer": "ipython3",
   "version": "3.11.4"
  },
  "orig_nbformat": 4
 },
 "nbformat": 4,
 "nbformat_minor": 2
}
