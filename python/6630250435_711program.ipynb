{
 "cells": [
  {
   "cell_type": "markdown",
   "metadata": {},
   "source": [
    "### 21. How many positive integers between 50 and 100\n",
    "---"
   ]
  },
  {
   "cell_type": "markdown",
   "metadata": {},
   "source": [
    "##### นาย วรินทร์ สายปัญญา รหัสนิสิต 6630250435 sec 870"
   ]
  },
  {
   "cell_type": "code",
   "execution_count": 2,
   "metadata": {
    "is_executing": true
   },
   "outputs": [],
   "source": [
    "def fx(**args: dict[str, int]) -> list[str]:\n",
    "    li: list[str] = []\n",
    "    for i in range(args[\"From\"], args[\"to\"] + 1):\n",
    "        if i % args[\"modulus\"] == 0:\n",
    "            li.append(str(i))\n",
    "    return li\n",
    "\n",
    "\n",
    "def gx(**args: dict[str, int | tuple[int, ...]]) -> list[str]:\n",
    "    li: list[str] = []\n",
    "    for j in range(args[\"From\"], args[\"to\"] + 1):\n",
    "        if (j % args[\"modulus\"][0] == 0) and (j % args[\"modulus\"][1] == 0):\n",
    "            li.append(str(j))\n",
    "    return li"
   ]
  },
  {
   "cell_type": "code",
   "execution_count": 3,
   "metadata": {
    "is_executing": true
   },
   "outputs": [
    {
     "name": "stdout",
     "output_type": "stream",
     "text": [
      "a = 56, 63, 70, 77, 84, 91, 98\n"
     ]
    }
   ],
   "source": [
    "# a) are divisible by 7? Which integers are these?\n",
    "\n",
    "print(\"a =\", \", \".join(fx(From=50, to=100, modulus=7)))"
   ]
  },
  {
   "cell_type": "code",
   "execution_count": 4,
   "metadata": {},
   "outputs": [
    {
     "name": "stdout",
     "output_type": "stream",
     "text": [
      "b = 55, 66, 77, 88, 99\n"
     ]
    }
   ],
   "source": [
    "# b) are divisible by 11? Which integers are these?\n",
    "\n",
    "print(\"b =\", \", \".join(fx(From=50, to=100, modulus=11)))"
   ]
  },
  {
   "cell_type": "code",
   "execution_count": 5,
   "metadata": {},
   "outputs": [
    {
     "name": "stdout",
     "output_type": "stream",
     "text": [
      "c = 77\n"
     ]
    }
   ],
   "source": [
    "# c) are divisible by both 7 and 11? Which integers are these?\n",
    "\n",
    "print(\"c =\", *gx(From=50, to=100, modulus=(7, 11)))"
   ]
  }
 ],
 "metadata": {
  "kernelspec": {
   "display_name": "Python 3",
   "language": "python",
   "name": "python3"
  },
  "language_info": {
   "codemirror_mode": {
    "name": "ipython",
    "version": 3
   },
   "file_extension": ".py",
   "mimetype": "text/x-python",
   "name": "python",
   "nbconvert_exporter": "python",
   "pygments_lexer": "ipython3",
   "version": "3.11.7"
  }
 },
 "nbformat": 4,
 "nbformat_minor": 2
}
