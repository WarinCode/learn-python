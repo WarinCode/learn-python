{
 "cells": [
  {
   "cell_type": "code",
   "execution_count": 5,
   "metadata": {},
   "outputs": [
    {
     "name": "stdout",
     "output_type": "stream",
     "text": [
      "5 x 1 = 5\n",
      "5 x 2 = 10\n",
      "5 x 3 = 15\n",
      "5 x 4 = 20\n",
      "5 x 5 = 25\n",
      "5 x 6 = 30\n",
      "5 x 7 = 35\n",
      "5 x 8 = 40\n",
      "5 x 9 = 45\n",
      "5 x 10 = 50\n",
      "5 x 11 = 55\n",
      "5 x 12 = 60\n"
     ]
    }
   ],
   "source": [
    "# 1. ตํารํางสูตรผลแม่คูณจําก 1 ... 12 โดยรับค่ําตัวเลขแม่ \n",
    "# คูณจํากคีย์บอร์ด\n",
    "try:\n",
    "    number = int(input('Enter number >> '))\n",
    "    for i in range(12):\n",
    "        print(f'{number} x {i + 1} = {number * (i + 1)}')\n",
    "except ValueError: print('กรุณากรอกต่าที่เป็นตัวเลขเท่านั้น!')"
   ]
  },
  {
   "cell_type": "code",
   "execution_count": 7,
   "metadata": {},
   "outputs": [
    {
     "name": "stdout",
     "output_type": "stream",
     "text": [
      "sum score = 615\n",
      "average of score = 61.50\n"
     ]
    }
   ],
   "source": [
    "# 2. จงเขียนโปรแกรมรับค่ําคะแนนนิสิตจ ํานวน 10 คนและค ํานวณผลรวมและ\n",
    "# ค่ําเฉลี่ยของคะแนนนิสิตทั้งหมด\n",
    "try:\n",
    "    total = 0\n",
    "    for i in range(1,11):\n",
    "        score = int(input(f'Enter score #{i} : '))\n",
    "        total += score\n",
    "    print(f'sum score = {total}\\naverage of score = {(total / 10):.2f}')\n",
    "except ValueError: print('กรุณากรอกต่าที่เป็นตัวเลขเท่านั้น!')"
   ]
  },
  {
   "cell_type": "code",
   "execution_count": 10,
   "metadata": {},
   "outputs": [
    {
     "name": "stdout",
     "output_type": "stream",
     "text": [
      "0 , 3 , 6 , 9 , 12 , 15 , 18 , 21 , 24 , 27 , 30 , 33 , 36 , 39 , 42 , 45 , 48 , 51 , 54 , 57 , 60 , 63 , 66 , 69 , 72 , 75 , 78 , 81 , 84 , 87 , 90 , 93 , 96 , 99 , \n",
      "number : 34\n"
     ]
    }
   ],
   "source": [
    "# 3. จงแสดงตัวเลขที่อยู่ในช่วงระหว่ําง 0 ถึง 100 และหาร\n",
    "# ด้วย 3 ลงตัว ว่ํามีกี่ตัวเลข และเลขอะไรบ้ําง\n",
    "try:\n",
    "    count = 0\n",
    "    for i in range(101):\n",
    "        if i % 3 == 0: \n",
    "            print(i, end=' , ')\n",
    "            count += 1\n",
    "    print('\\nnumber :',count)\n",
    "except ValueError: print('กรุณากรอกต่าที่เป็นตัวเลขเท่านั้น!')"
   ]
  },
  {
   "cell_type": "code",
   "execution_count": 44,
   "metadata": {},
   "outputs": [
    {
     "name": "stdout",
     "output_type": "stream",
     "text": [
      "Remaining lots cars : 7 and motorcycles: 43\n",
      "Remaining lots cars : 6 and motorcycles: 41\n",
      "Remaining lots cars : 0 and motorcycles: 42\n",
      "Remaining lots cars : 4 and motorcycles: 44\n",
      "Remaining lots cars : 5 and motorcycles: 1\n",
      "Remaining lots cars : 6 and motorcycles: 16\n"
     ]
    }
   ],
   "source": [
    "'''\n",
    "2. โปรแกรมนับรถยนต์และจักรยํานยนต์ของที่รับฝํากรถ\n",
    "แห่งหนึ่ง ที่รองรับรถยนต์ได้ 10 คัน และจักรยํานยนต์ 50\n",
    "คัน\n",
    "- รับจ ํานวนรถยนต์และจักรยํานยนต์ที่ต้องกํารจอดจําก\n",
    "คีย์บอร์ดจนกระทั่งใส่จ ํานวนรถยนต์และจักรยํานยนต์\n",
    "เท่ํากับ 0\n",
    "- ค ํานวณที่จอดรถยนต์และจักรยํานยนต์ที่เหลือว่ํางอยู่\n",
    "- ถ้ําที่จอดรถเต็มให้แสดงว่ํา Parking lot is full. และ\n",
    "หยุดโปรแกรม\n",
    "'''\n",
    "while True:\n",
    "    cars = int(input('cars : '))\n",
    "    motorcycles = int(input('motorcycles : '))\n",
    "    if cars == 0 and motorcycles == 0: break\n",
    "    if cars <= 10 and motorcycles <= 50: print(f'Remaining lots cars : {10 - cars} and motorcycles: {50 - motorcycles}')\n",
    "    elif cars == 10 and motorcycles == 50: print('Parking lot is full !!!')"
   ]
  },
  {
   "cell_type": "markdown",
   "metadata": {},
   "source": [
    "<h1>แบบฝึกหัด</h1>"
   ]
  },
  {
   "cell_type": "code",
   "execution_count": 33,
   "metadata": {},
   "outputs": [
    {
     "name": "stdout",
     "output_type": "stream",
     "text": [
      "5 x 1 = 5\n",
      "5 x 2 = 10\n",
      "5 x 3 = 15\n",
      "5 x 4 = 20\n",
      "5 x 5 = 25\n",
      "5 x 6 = 30\n",
      "5 x 7 = 35\n",
      "5 x 8 = 40\n",
      "5 x 9 = 45\n",
      "5 x 10 = 50\n",
      "5 x 11 = 55\n",
      "5 x 12 = 60\n"
     ]
    }
   ],
   "source": [
    "# 1. ตํารํางสูตรผลแม่คูณจําก 1 ... 12 โดยรับค่ํา\n",
    "# ตัวเลขแม่คูณจํากคีย์บอร์ด\n",
    "n = int(input('Enter number: '))\n",
    "for i in range(12): print(f'{n} x {i + 1} = {n * (i + 1)}')"
   ]
  },
  {
   "cell_type": "code",
   "execution_count": 36,
   "metadata": {},
   "outputs": [
    {
     "name": "stdout",
     "output_type": "stream",
     "text": [
      "sum of score : 12\n",
      "average score : 4.0\n"
     ]
    }
   ],
   "source": [
    "# 2. จงเขียนโปรแกรมรับค่ําคะแนนนิสิตกี่คนก็ได้จนกระทั่งใส่คะแนน\n",
    "# ติดลบ และค ํานวณผลรวมและค่ําเฉลี่ยของคะแนนนิสิตทั้งหมด\n",
    "# ตัวอย่ําง\n",
    "count , total =  0 , 0\n",
    "while True:\n",
    "    score = int(input(f'Enter score #{count + 1} : '))\n",
    "    if score < 0: break\n",
    "    total += score\n",
    "    count += 1\n",
    "print(f'sum of score : {total}\\naverage score : {total / count}')"
   ]
  },
  {
   "cell_type": "code",
   "execution_count": 37,
   "metadata": {},
   "outputs": [
    {
     "name": "stdout",
     "output_type": "stream",
     "text": [
      "Your are wrong!\n",
      "Your are wrong!\n",
      "Your are wrong!\n",
      "Your are wrong!\n",
      "Your are wrong!\n",
      "Your are wrong!\n",
      "Your are wrong!\n",
      "Your are right!\n",
      "The number of trial is 8"
     ]
    }
   ],
   "source": [
    "# 3. จงเขียนโปรแกรมทํายตัวเลขสุ่มที่สร้ํางจํากเครื่อง\n",
    "# คอมพิวเตอร์ในช่วง 0 ถึง 9 โดยก ําหนดให้ทําย\n",
    "# จนกระทั่งทํายถูก แล้วแสดงจ ํานวนครั้งที่ทํายไป\n",
    "from random import randint\n",
    "\n",
    "number = randint(0 , 9)\n",
    "count = 0\n",
    "while True:\n",
    "    count += 1\n",
    "    ans  = int(input('Enter Number: '))\n",
    "    if ans == number:\n",
    "        print('Your are right!' , end=f'\\nThe number of trial is {count}')\n",
    "        break\n",
    "    else: print('Your are wrong!')"
   ]
  },
  {
   "cell_type": "code",
   "execution_count": 3,
   "metadata": {},
   "outputs": [
    {
     "name": "stdout",
     "output_type": "stream",
     "text": [
      "your are wrong!!!\n",
      "your are wrong!!!\n",
      "your are wrong!!!\n",
      "The answer is 7.\n"
     ]
    }
   ],
   "source": [
    "# 4. จงเขียนโปรแกรมทํายตัวเลขสุ่มที่สร้ํางจํากเครื่องคอมพิวเตอร์ในช่วง 0 ถึง 9 โดย\n",
    "# ก ําหนดให้ทํายจ ํานวน 3 ครั้ง\n",
    "from numpy import random\n",
    "number = random.randint(1 , 10)\n",
    "try:\n",
    "    for i in range(3):\n",
    "        answer = int(input(f\"Enter a number #{i + 1}: \"))\n",
    "        if number == answer:\n",
    "            print('your answer is correct!')\n",
    "            break\n",
    "        else: print('your are wrong!!!')\n",
    "        if i == 3 - 1: print(f'The answer is {number}.')\n",
    "except ValueError: print('กรุณากรอกต่าที่เป็นตัวเลขเท่านั้น!')"
   ]
  },
  {
   "cell_type": "code",
   "execution_count": 11,
   "metadata": {},
   "outputs": [
    {
     "name": "stdout",
     "output_type": "stream",
     "text": [
      "2 x 1 = 2\n",
      "2 x 2 = 4\n",
      "2 x 3 = 6\n",
      "2 x 4 = 8\n",
      "2 x 5 = 10\n",
      "2 x 6 = 12\n",
      "2 x 7 = 14\n",
      "2 x 8 = 16\n",
      "2 x 9 = 18\n",
      "2 x 10 = 20\n",
      "2 x 11 = 22\n",
      "2 x 12 = 24\n",
      "3 x 1 = 3\n",
      "3 x 2 = 6\n",
      "3 x 3 = 9\n",
      "3 x 4 = 12\n",
      "3 x 5 = 15\n",
      "3 x 6 = 18\n",
      "3 x 7 = 21\n",
      "3 x 8 = 24\n",
      "3 x 9 = 27\n",
      "3 x 10 = 30\n",
      "3 x 11 = 33\n",
      "3 x 12 = 36\n",
      "4 x 1 = 4\n",
      "4 x 2 = 8\n",
      "4 x 3 = 12\n",
      "4 x 4 = 16\n",
      "4 x 5 = 20\n",
      "4 x 6 = 24\n",
      "4 x 7 = 28\n",
      "4 x 8 = 32\n",
      "4 x 9 = 36\n",
      "4 x 10 = 40\n",
      "4 x 11 = 44\n",
      "4 x 12 = 48\n",
      "5 x 1 = 5\n",
      "5 x 2 = 10\n",
      "5 x 3 = 15\n",
      "5 x 4 = 20\n",
      "5 x 5 = 25\n",
      "5 x 6 = 30\n",
      "5 x 7 = 35\n",
      "5 x 8 = 40\n",
      "5 x 9 = 45\n",
      "5 x 10 = 50\n",
      "5 x 11 = 55\n",
      "5 x 12 = 60\n"
     ]
    }
   ],
   "source": [
    "# โปรแกรมแสดงตํารํางสูตรผลแม่คูณตั้งแต่แม่\n",
    "# 2 ถึง 5 โดยแสดงผลคูณจําก 1 ... 12\n",
    "for i in range(2 , 5 + 1):\n",
    "    for j in range(1 , 12 + 1):\n",
    "        print(f'{i} x {j} = {i * j}')"
   ]
  },
  {
   "cell_type": "code",
   "execution_count": 5,
   "metadata": {},
   "outputs": [
    {
     "name": "stdout",
     "output_type": "stream",
     "text": [
      "Menu\n",
      "1.\t Coke 20 bath\n",
      "2.\t Milk 15 bath\n",
      "3.\t Tea 20 bath\n",
      "4.\t Water 10 bath\n",
      "\n",
      "Order#1\n",
      "Amount: 50 bath\n",
      "\n",
      "Order#2\n",
      "Amount: 75 bath\n",
      "\n",
      "Order#3\n",
      "Amount: 55 bath\n"
     ]
    }
   ],
   "source": [
    "# โปรแกรมรับออเดอร์ลูกค้ํากี่คนก็ได้ จนกระทั่งเลือก No\n",
    "menu = {\n",
    "    \"drink\": [\"Coke\", \"Milk\", \"Tea\", \"Water\"],\n",
    "    \"price\": {1: 20, 2: 15, 3: 20, 4: 10},\n",
    "}\n",
    "drink , price = menu.values()\n",
    "print(\"Menu\")\n",
    "for key in range(1 , price.__len__() + 1):\n",
    "    print(f\"{key}.\\t {drink[key - 1]} {price[key]} bath\")\n",
    "\n",
    "_continue = \"y\"\n",
    "order = 0\n",
    "while True:\n",
    "    amount = 0\n",
    "    order += 1\n",
    "    print(f\"\\nOrder#{order}\")\n",
    "    while True:\n",
    "        item = int(input(\"Item : \"))\n",
    "        if item == 0 or item not in list(price.keys()):\n",
    "            print(f\"Amount: {amount} bath\")\n",
    "            _continue = input(\"Continue (y/n) : \")\n",
    "            isContinue = _continue == \"y\" or _continue.upper() == \"y\".upper()\n",
    "            if isContinue: break\n",
    "            elif not isContinue: break\n",
    "        else: amount += price[item]\n",
    "    if not isContinue: break"
   ]
  },
  {
   "cell_type": "markdown",
   "metadata": {},
   "source": [
    "<h1>การบ้าน</h1>\n",
    "<hr>"
   ]
  },
  {
   "cell_type": "code",
   "execution_count": 2,
   "metadata": {},
   "outputs": [
    {
     "name": "stdout",
     "output_type": "stream",
     "text": [
      "#1:The number -> 10\n",
      "2\n",
      "#2:The number -> 10\n",
      "7\n",
      "#3:The number -> 10\n",
      "3\n",
      "#4:The number -> 10\n",
      "9\n",
      "#5:The number -> 10\n",
      "1\n",
      "Game is end, You use 6 turn\n"
     ]
    }
   ],
   "source": [
    "from random import randint\n",
    "n1 = randint(1,10)\n",
    "_round = 1\n",
    "#? n1 คือเลขปัจจุบัน n2 คือเลขต่อไป \n",
    "while _round < 6:\n",
    "    print(f'#{_round}:The number -> {n1}')\n",
    "    guess = input(f'Next number More(m) or Less(l) than {n1}')\n",
    "    n2 = randint(1,10)    \n",
    "    print(n2)\n",
    "    if guess == 'l' and n2 > n1: continue\n",
    "    elif n2 < n1 and guess == 'm':\n",
    "        n1 = n2\n",
    "    _round += 1\n",
    "else:print(f'Game is end, You use {_round - 1} turn')\n",
    "\n"
   ]
  },
  {
   "cell_type": "code",
   "execution_count": 2,
   "metadata": {},
   "outputs": [
    {
     "name": "stdout",
     "output_type": "stream",
     "text": [
      "Less than : 4\n",
      "Less than : 5\n",
      "More than : 1\n",
      "More than : 2\n",
      "Less than : 3\n",
      "Correct answer is -> 3\n",
      "You take 5 round\n"
     ]
    }
   ],
   "source": [
    "import random\n",
    "ran_num = random.randint(1,10)\n",
    "turn = 0\n",
    "while True:\n",
    "    turn += 1\n",
    "    guess = int(input('Answer: '))\n",
    "    if guess < ran_num:\n",
    "        print(f'More than : {guess}')\n",
    "    else: print(f'Less than : {guess}')\n",
    "    if ran_num == guess:\n",
    "        print(f'Correct answer is -> {ran_num}')\n",
    "        print(f'You take {turn} round')        \n",
    "        break"
   ]
  }
 ],
 "metadata": {
  "kernelspec": {
   "display_name": "Python 3",
   "language": "python",
   "name": "python3"
  },
  "language_info": {
   "codemirror_mode": {
    "name": "ipython",
    "version": 3
   },
   "file_extension": ".py",
   "mimetype": "text/x-python",
   "name": "python",
   "nbconvert_exporter": "python",
   "pygments_lexer": "ipython3",
   "version": "3.10.11"
  },
  "orig_nbformat": 4
 },
 "nbformat": 4,
 "nbformat_minor": 2
}
