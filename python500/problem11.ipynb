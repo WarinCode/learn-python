{
 "cells": [
  {
   "cell_type": "markdown",
   "metadata": {},
   "source": [
    "<h1 style=\"text-align:center\">บทที่ 11 FOR & WHILE LOOP(PROBLEM)</h1>\n",
    "<hr>"
   ]
  },
  {
   "cell_type": "code",
   "execution_count": 3,
   "metadata": {},
   "outputs": [
    {
     "name": "stdout",
     "output_type": "stream",
     "text": [
      "0, 1, 2, 3, 4, 5, 6, 7, 8, 9, 10, 11, 12, 13, 14, 15, 16, 17, 18, 19, "
     ]
    }
   ],
   "source": [
    "# ข้อ 1\n",
    "for i in range(20): print(i ,end=', ')"
   ]
  },
  {
   "cell_type": "code",
   "execution_count": 4,
   "metadata": {},
   "outputs": [
    {
     "name": "stdout",
     "output_type": "stream",
     "text": [
      "0, 1, 2, 3, 4, 5, 6, 7, 8, 9, 10, 11, 12, 13, 14, 15, 16, 17, 18, "
     ]
    }
   ],
   "source": [
    "# ข้อ 2\n",
    "for i in range(19): print(i ,end=', ')"
   ]
  },
  {
   "cell_type": "code",
   "execution_count": 8,
   "metadata": {},
   "outputs": [
    {
     "name": "stdout",
     "output_type": "stream",
     "text": [
      "1, 2, 3, 4, 5, 6, 7, 8, 9, 10, 11, 12, 13, 14, 15, 16, 17, 18, 19, "
     ]
    }
   ],
   "source": [
    "# ข้อ 3\n",
    "for i in range(1 ,20): print(i , end=', ')"
   ]
  },
  {
   "cell_type": "code",
   "execution_count": 9,
   "metadata": {},
   "outputs": [
    {
     "name": "stdout",
     "output_type": "stream",
     "text": [
      "19, 18, 17, 16, 15, 14, 13, 12, 11, 10, 9, 8, 7, 6, 5, 4, 3, 2, 1, 0, "
     ]
    }
   ],
   "source": [
    "# ข้อ 4\n",
    "for i in range(19 , -1 , -1): print(i , end=', ')"
   ]
  },
  {
   "cell_type": "code",
   "execution_count": 10,
   "metadata": {},
   "outputs": [
    {
     "name": "stdout",
     "output_type": "stream",
     "text": [
      "18, 17, 16, 15, 14, 13, 12, 11, 10, 9, 8, 7, 6, 5, 4, 3, 2, 1, 0, "
     ]
    }
   ],
   "source": [
    "# ข้อ 5\n",
    "for i in range(18 , -1 , -1): print(i , end=', ')"
   ]
  },
  {
   "cell_type": "code",
   "execution_count": 13,
   "metadata": {},
   "outputs": [
    {
     "name": "stdout",
     "output_type": "stream",
     "text": [
      "19, 18, 17, 16, 15, 14, 13, 12, 11, 10, 9, 8, 7, 6, 5, 4, 3, 2, 1, "
     ]
    }
   ],
   "source": [
    "# ข้อ 6\n",
    "for i in range(19 , 0 ,-1): print(i , end=', ')"
   ]
  },
  {
   "cell_type": "code",
   "execution_count": 11,
   "metadata": {},
   "outputs": [
    {
     "name": "stdout",
     "output_type": "stream",
     "text": [
      "-3, -2, -1, 0, 1, 2, 3, 4, 5, 6, 7, 8, 9, "
     ]
    }
   ],
   "source": [
    "# ข้อ 7\n",
    "for i in range(-3 , 10): print(i , end=', ')"
   ]
  },
  {
   "cell_type": "code",
   "execution_count": 15,
   "metadata": {},
   "outputs": [
    {
     "name": "stdout",
     "output_type": "stream",
     "text": [
      "-9, -8, -7, -6, -5, -4, -3, -2, -1, 0, "
     ]
    }
   ],
   "source": [
    "# ข้อ 8\n",
    "for i in range(-9 , 1 , 1): print(i , end=', ')"
   ]
  },
  {
   "cell_type": "code",
   "execution_count": 17,
   "metadata": {},
   "outputs": [
    {
     "name": "stdout",
     "output_type": "stream",
     "text": [
      "-5, -6, -7, -8, -9, -10, -11, -12, -13, -14, -15, "
     ]
    }
   ],
   "source": [
    "# ข้อ 9\n",
    "for i in range(-5 , -16 ,-1): print(i , end=', ')"
   ]
  },
  {
   "cell_type": "code",
   "execution_count": 18,
   "metadata": {},
   "outputs": [
    {
     "name": "stdout",
     "output_type": "stream",
     "text": [
      "-5, -7, -9, -11, -13, -15, "
     ]
    }
   ],
   "source": [
    "# ข้อ 10\n",
    "for i in range(-5 , -16 ,-2): print(i , end=', ')"
   ]
  },
  {
   "cell_type": "code",
   "execution_count": 27,
   "metadata": {},
   "outputs": [
    {
     "name": "stdout",
     "output_type": "stream",
     "text": [
      "1 + 2 + 3 + 4 + 5 +  =  15\n"
     ]
    }
   ],
   "source": [
    "# ข้อ 11\n",
    "n = int(input(\"ตัวเลข >> \"))\n",
    "s = 0\n",
    "for i in range(1 , n + 1):\n",
    "    s += i\n",
    "    print(i , end=' + ') \n",
    "print(' = ',s)"
   ]
  },
  {
   "cell_type": "code",
   "execution_count": 29,
   "metadata": {},
   "outputs": [
    {
     "name": "stdout",
     "output_type": "stream",
     "text": [
      "1 x 2 x 3 x 4 x 5 x =  120\n"
     ]
    }
   ],
   "source": [
    "# ข้อ 12\n",
    "n = int(input(\"ตัวเลข >> \"))\n",
    "s = 1\n",
    "for i in range(1 , n + 1):\n",
    "    s *= i\n",
    "    print(i , end=' x ')\n",
    "print('= ',s)"
   ]
  },
  {
   "cell_type": "code",
   "execution_count": 32,
   "metadata": {},
   "outputs": [
    {
     "name": "stdout",
     "output_type": "stream",
     "text": [
      "1 / 1 + 1 / 2 + 1 / 3 + 1 / 4 + 1 / 5 + 1 / 6 + 1 / 7 + = 2.59\n"
     ]
    }
   ],
   "source": [
    "# ข้อ 13\n",
    "n = int(input(\"ตัวเลข >> \"))\n",
    "s = 0\n",
    "for i in range(1, n + 1):\n",
    "    s += 1 / i\n",
    "    print(f'1 / {i}' , end=' + ')\n",
    "print('= %.2f' %(s))"
   ]
  },
  {
   "cell_type": "code",
   "execution_count": 33,
   "metadata": {},
   "outputs": [
    {
     "name": "stdout",
     "output_type": "stream",
     "text": [
      "1 / 1^2 + 1 / 2^2 + 1 / 3^2 + 1 / 4^2 + 1 / 5^2 + 1 / 6^2 + 1 / 7^2 + = 1.51\n"
     ]
    }
   ],
   "source": [
    "# ข้อ 14\n",
    "n = int(input(\"ตัวเลข >> \"))\n",
    "s = 0\n",
    "for i in range(1, n + 1):\n",
    "    s += 1 / pow(i , 2)\n",
    "    print(f'1 / {i}^2' , end=' + ')\n",
    "print('= %.2f' %(s))"
   ]
  },
  {
   "cell_type": "code",
   "execution_count": 43,
   "metadata": {},
   "outputs": [
    {
     "name": "stdout",
     "output_type": "stream",
     "text": [
      "= 0.020412\n"
     ]
    }
   ],
   "source": [
    "# ข้อ 15\n",
    "import math\n",
    "\n",
    "n = int(input(\"ตัวเลข >> \"))\n",
    "_sum = 1\n",
    "for i in range(1, n + 1):\n",
    "    _sum *= 1 / pow(i , 2)\n",
    "result = math.sqrt(6 * _sum)\n",
    "print('= %f' %(result))"
   ]
  }
 ],
 "metadata": {
  "kernelspec": {
   "display_name": "Python 3",
   "language": "python",
   "name": "python3"
  },
  "language_info": {
   "codemirror_mode": {
    "name": "ipython",
    "version": 3
   },
   "file_extension": ".py",
   "mimetype": "text/x-python",
   "name": "python",
   "nbconvert_exporter": "python",
   "pygments_lexer": "ipython3",
   "version": "3.11.4"
  },
  "orig_nbformat": 4
 },
 "nbformat": 4,
 "nbformat_minor": 2
}
