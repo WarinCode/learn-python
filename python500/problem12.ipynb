{
 "cells": [
  {
   "cell_type": "markdown",
   "metadata": {},
   "source": [
    "<h1 style=\"text-align:center\">บทที่ 12 PROBLEM</h1>\n",
    "<hr>"
   ]
  },
  {
   "cell_type": "code",
   "execution_count": 6,
   "metadata": {},
   "outputs": [
    {
     "name": "stdout",
     "output_type": "stream",
     "text": [
      "เลขที่หารด้วย 3 ลงตัว: 0, 3, 6, 9, 12, 15, 18, 21, 24, 27, 30, 33, 36, 39, 42, 45, 48, 51, 54, 57, 60, 63, 66, 69, 72, 75, 78, 81, 84, 87, 90, 93, 96, 99, "
     ]
    }
   ],
   "source": [
    "# ข้อ 1\n",
    "tu = (*range(101),)\n",
    "print('เลขที่หารด้วย 3 ลงตัว: ' , end='')\n",
    "for n in tu:\n",
    "    if n % 3 == 0: print(n , end=', ')"
   ]
  },
  {
   "cell_type": "code",
   "execution_count": 7,
   "metadata": {},
   "outputs": [
    {
     "name": "stdout",
     "output_type": "stream",
     "text": [
      "เลขที่หารด้วย 3 และ 5 ลงตัว: 0, 15, 30, 45, 60, 75, 90, "
     ]
    }
   ],
   "source": [
    "# ข้อ 2\n",
    "print('เลขที่หารด้วย 3 และ 5 ลงตัว: ' , end='')\n",
    "for n in tu:\n",
    "    if n % 3 == 0 and n % 5 == 0: print(n , end=', ')"
   ]
  },
  {
   "cell_type": "code",
   "execution_count": 8,
   "metadata": {},
   "outputs": [
    {
     "name": "stdout",
     "output_type": "stream",
     "text": [
      "เลขที่หารด้วย 3 หรือ 5 ลงตัว: 0, 3, 5, 6, 9, 10, 12, 15, 18, 20, 21, 24, 25, 27, 30, 33, 35, 36, 39, 40, 42, 45, 48, 50, 51, 54, 55, 57, 60, 63, 65, 66, 69, 70, 72, 75, 78, 80, 81, 84, 85, 87, 90, 93, 95, 96, 99, 100, "
     ]
    }
   ],
   "source": [
    "# ข้อ 3\n",
    "print('เลขที่หารด้วย 3 หรือ 5 ลงตัว: ' , end='')\n",
    "for n in tu:\n",
    "    if n % 3 == 0 or n % 5 == 0: print(n , end=', ')"
   ]
  },
  {
   "cell_type": "code",
   "execution_count": 9,
   "metadata": {},
   "outputs": [
    {
     "name": "stdout",
     "output_type": "stream",
     "text": [
      "เลขที่หารด้วย 3 5 และ 7 ลงตัว: 0, 105, 210, 315, 420, 525, 630, 735, 840, 945, "
     ]
    }
   ],
   "source": [
    "# ข้อ 4\n",
    "tu2 = (*range(0 , 1001),)\n",
    "print('เลขที่หารด้วย 3 5 และ 7 ลงตัว: ' , end='')\n",
    "for n in tu2: \n",
    "    if n % 3 == 0 and n % 5 == 0 and n % 7 == 0: print(n , end=', ')"
   ]
  },
  {
   "cell_type": "code",
   "execution_count": 10,
   "metadata": {},
   "outputs": [
    {
     "name": "stdout",
     "output_type": "stream",
     "text": [
      "เลขที่หารด้วย 3 หรือ 5 หรือ 7 ลงตัว: 0, 3, 5, 6, 7, 9, 10, 12, 14, 15, 18, 20, 21, 24, 25, 27, 28, 30, 33, 35, 36, 39, 40, 42, 45, 48, 49, 50, 51, 54, 55, 56, 57, 60, 63, 65, 66, 69, 70, 72, 75, 77, 78, 80, 81, 84, 85, 87, 90, 91, 93, 95, 96, 98, 99, 100, "
     ]
    }
   ],
   "source": [
    "# ข้อ 5\n",
    "print('เลขที่หารด้วย 3 หรือ 5 หรือ 7 ลงตัว: ' , end='')\n",
    "for n in tu: \n",
    "    if n % 3 == 0 or n % 5 == 0 or n % 7 == 0: print(n , end=', ')"
   ]
  },
  {
   "cell_type": "code",
   "execution_count": 12,
   "metadata": {},
   "outputs": [
    {
     "name": "stdout",
     "output_type": "stream",
     "text": [
      "เลขที่หารด้วย 3 หรือ 5 ลงตัว: 3, 5, 6, 9, 10, 12, 18, 20, 21, 24, 25, 27, 33, 35, 36, 39, 40, 42, 48, 50, 51, 54, 55, 57, 63, 65, 66, 69, 70, 72, 78, 80, 81, 84, 85, 87, 93, 95, 96, 99, 100, "
     ]
    }
   ],
   "source": [
    "# ข้อ 6\n",
    "print('เลขที่หารด้วย 3 หรือ 5 ลงตัว: ' , end='')\n",
    "def showNum(n): print(n , end=', ')\n",
    "for n in tu:\n",
    "    if n % 3 == 0:\n",
    "        if n % 5 != 0: showNum(n)\n",
    "    elif n % 5 == 0: showNum(n)"
   ]
  },
  {
   "cell_type": "code",
   "execution_count": 13,
   "metadata": {},
   "outputs": [
    {
     "name": "stdout",
     "output_type": "stream",
     "text": [
      "เลขที่หารด้วย 3 และ 5 ลงตัวแต่หารด้วย 2 ไม่ลงตัว: 15, 45, 75, "
     ]
    }
   ],
   "source": [
    "# ข้อ 7\n",
    "print('เลขที่หารด้วย 3 และ 5 ลงตัวแต่หารด้วย 2 ไม่ลงตัว: ' , end='')\n",
    "for n in tu:\n",
    "    if n % 3 == 0 and n % 5 == 0 and n % 2 != 0: showNum(n)"
   ]
  },
  {
   "cell_type": "code",
   "execution_count": 15,
   "metadata": {},
   "outputs": [
    {
     "name": "stdout",
     "output_type": "stream",
     "text": [
      "เลขที่หารด้วย 3 หรือ 5 ลงตัวแต่หารด้วย 2 ไม่ลงตัว: 0, 3, 5, 6, 9, 12, 15, 18, 21, 24, 25, 27, 30, 33, 35, 36, 39, 42, 45, 48, 51, 54, 55, 57, 60, 63, 65, 66, 69, 72, 75, 78, 81, 84, 85, 87, 90, 93, 95, 96, 99, "
     ]
    }
   ],
   "source": [
    "# ข้อ 8\n",
    "print('เลขที่หารด้วย 3 หรือ 5 ลงตัวแต่หารด้วย 2 ไม่ลงตัว: ' , end='')\n",
    "for n in tu:\n",
    "    if n % 3 == 0 or n % 5 == 0 and n % 2 != 0: showNum(n)"
   ]
  },
  {
   "cell_type": "code",
   "execution_count": 16,
   "metadata": {},
   "outputs": [
    {
     "name": "stdout",
     "output_type": "stream",
     "text": [
      "เลขที่หารด้วย 3 ลงตัว: 0, 3, 6, 9, 12, 15, 18, 21, 24, 27, 30, 33, 36, 39, 42, 45, 48, 51, 54, 57, 60, 63, 66, 69, 72, 75, 78, 81, 84, 87, 90, 93, 96, 99, 102, 105, 108, 111, 114, 117, 120, 123, 126, 129, 132, 135, 138, 141, 144, 147, 150, 153, 156, 159, 162, 165, 168, 171, 174, 177, 180, 183, 186, 189, 192, 195, 198, 201, 204, 207, 210, 213, 216, 219, 222, 225, 228, 231, 234, 237, 240, 243, 246, 249, 252, 255, 258, 261, 264, 267, 270, 273, 276, 279, 282, 285, 288, 291, 294, 297, 300, 303, 306, 309, 312, 315, 318, 321, 324, 327, 330, 333, 336, 339, 342, 345, 348, 351, 354, 357, 360, 363, 366, 369, 372, 375, 378, 381, 384, 387, 390, 393, 396, 399, 402, 405, 408, 411, 414, 417, 420, 423, 426, 429, 432, 435, 438, 441, 444, 447, 450, 453, 456, 459, 462, 465, 468, 471, 474, 477, 480, 483, 486, 489, 492, 495, 498, 501, 504, 507, 510, 513, 516, 519, 522, 525, 528, 531, 534, 537, 540, 543, 546, 549, 552, 555, 558, 561, 564, 567, 570, 573, 576, 579, 582, 585, 588, 591, 594, 597, 600, 603, 606, 609, 612, 615, 618, 621, 624, 627, 630, 633, 636, 639, 642, 645, 648, 651, 654, 657, 660, 663, 666, 669, 672, 675, 678, 681, 684, 687, 690, 693, 696, 699, 702, 705, 708, 711, 714, 717, 720, 723, 726, 729, 732, 735, 738, 741, 744, 747, 750, 753, 756, 759, 762, 765, 768, 771, 774, 777, 780, 783, 786, 789, 792, 795, 798, 801, 804, 807, 810, 813, 816, 819, 822, 825, 828, 831, 834, 837, 840, 843, 846, 849, 852, 855, 858, 861, 864, 867, 870, 873, 876, 879, 882, 885, 888, 891, 894, 897, 900, 903, 906, 909, 912, 915, 918, 921, 924, 927, 930, 933, 936, 939, 942, 945, 948, 951, 954, 957, 960, 963, 966, 969, 972, 975, 978, 981, 984, 987, 990, 993, 996, 999, "
     ]
    }
   ],
   "source": [
    "# ข้อ 9\n",
    "print('เลขที่หารด้วย 3 ลงตัว: ' , end='')\n",
    "for n in tu2:\n",
    "    if n % 3 == 0: showNum(n)"
   ]
  },
  {
   "cell_type": "code",
   "execution_count": 18,
   "metadata": {},
   "outputs": [
    {
     "name": "stdout",
     "output_type": "stream",
     "text": [
      "เลขที่หารด้วย 3 ลงตัว: 0, 3, 6, 9, 12, 15, 18, 21, 24, 27, 30, 33, 36, 39, 42, 45, 48, 51, 54, 57, 60, 63, 66, 69, 72, 75, 78, 81, 84, 87, 90, 93, 96, 99, 102, 105, 108, 111, 114, 117, 120, 123, 126, 129, 132, 135, 138, 141, 144, 147, 150, 153, 156, 159, 162, 165, 168, 171, 174, 177, 180, 183, 186, 189, 192, 195, 198, 201, 204, 207, 210, 213, 216, 219, 222, 225, 228, 231, 234, 237, 240, 243, 246, 249, 252, 255, 258, 261, 264, 267, 270, 273, 276, 279, 282, 285, 288, 291, 294, 297, 300, 303, 306, 309, 312, 315, 318, 321, 324, 327, 330, 333, 336, 339, 342, 345, 348, 351, 354, 357, 360, 363, 366, 369, 372, 375, 378, 381, 384, 387, 390, 393, 396, 399, 402, 405, 408, 411, 414, 417, 420, 423, 426, 429, 432, 435, 438, 441, 444, 447, 450, 453, 456, 459, 462, 465, 468, 471, 474, 477, 480, 483, 486, 489, 492, 495, 498, 501, 504, 507, 510, 513, 516, 519, 522, 525, 528, 531, 534, 537, 540, 543, 546, 549, 552, 555, 558, 561, 564, 567, 570, 573, 576, 579, 582, 585, 588, 591, 594, 597, 600, 603, 606, 609, 612, 615, 618, 621, 624, 627, 630, 633, 636, 639, 642, 645, 648, 651, 654, 657, 660, 663, 666, 669, 672, 675, 678, 681, 684, 687, 690, 693, 696, 699, 702, 705, 708, 711, 714, 717, 720, 723, 726, 729, 732, 735, 738, 741, 744, 747, 750, 753, 756, 759, 762, 765, 768, 771, 774, 777, 780, 783, 786, 789, 792, 795, 798, 801, 804, 807, 810, 813, 816, 819, 822, 825, 828, 831, 834, 837, 840, 843, 846, 849, 852, 855, 858, 861, 864, 867, 870, 873, 876, 879, 882, 885, 888, 891, 894, 897, 900, 903, 906, 909, 912, 915, 918, 921, 924, 927, 930, 933, 936, 939, 942, 945, 948, 951, 954, 957, 960, 963, 966, 969, 972, 975, 978, 981, 984, 987, 990, 993, 996, 999, \n",
      "ผลรวมของตัวเลขที่หารด้วย 3 ลงตัวคือ 166,833\n"
     ]
    }
   ],
   "source": [
    "# ข้อ 10\n",
    "arr = []\n",
    "print('เลขที่หารด้วย 3 ลงตัว: ' , end='')\n",
    "for n in tu2:\n",
    "    if n % 3 == 0: \n",
    "        showNum(n)\n",
    "        arr.append(n)\n",
    "print(f'\\nผลรวมของตัวเลขที่หารด้วย 3 ลงตัวคือ {sum(arr):,}')"
   ]
  },
  {
   "cell_type": "code",
   "execution_count": 20,
   "metadata": {},
   "outputs": [
    {
     "name": "stdout",
     "output_type": "stream",
     "text": [
      "12 + 45 + 67 + 45 + 3 = 172\n"
     ]
    }
   ],
   "source": [
    "# ข้อ 11\n",
    "arr.clear()\n",
    "for i in range(5):\n",
    "    n = int(input(\"ตัวเลขที่ %d >> \" %(i + 1)))\n",
    "    arr.append(n)\n",
    "print(*arr , sep=' + ' , end='')\n",
    "print(f' = {sum(arr)}')"
   ]
  },
  {
   "cell_type": "code",
   "execution_count": 21,
   "metadata": {},
   "outputs": [
    {
     "name": "stdout",
     "output_type": "stream",
     "text": [
      "-4 , -9 , -3 , 8 , 1\n",
      "ผลรวมของตัวเลขจำนวนบวก = 9\n",
      "ผลรวมของตัวเลขจำนวนลบ = -16\n"
     ]
    }
   ],
   "source": [
    "# ข้อ 12\n",
    "arr.clear()\n",
    "sumPositiveNumber = sumNegativeNumber = 0\n",
    "for i in range(5):\n",
    "    n = int(input(\"ตัวเลขที่ %d >> \" %(i + 1)))\n",
    "    arr.append(n)\n",
    "for j in arr:\n",
    "    if j < 0: sumNegativeNumber += j\n",
    "    else: sumPositiveNumber += j\n",
    "print(*arr , sep=' , ')\n",
    "print(f'ผลรวมของตัวเลขจำนวนบวก = {sumPositiveNumber}')\n",
    "print(f'ผลรวมของตัวเลขจำนวนลบ = {sumNegativeNumber}')"
   ]
  },
  {
   "cell_type": "code",
   "execution_count": 29,
   "metadata": {},
   "outputs": [
    {
     "name": "stdout",
     "output_type": "stream",
     "text": [
      "ตัวเลขที่รับมา  45 x 3 x 9 x 8 x 1 x \n",
      "ผลคูณ = 9720\n"
     ]
    }
   ],
   "source": [
    "# ข้อ 13\n",
    "sumMultipleNumber = 1\n",
    "print('ตัวเลขที่รับมา ' , end=' ')\n",
    "for i in range(5):\n",
    "    n = int(input(f'ตัวเลขที่ {i + 1} >> '))\n",
    "    sumMultipleNumber *= n    \n",
    "    print(n ,end=' x ' )\n",
    "print('\\nผลคูณ = ' + str(sumMultipleNumber))"
   ]
  },
  {
   "cell_type": "code",
   "execution_count": 35,
   "metadata": {},
   "outputs": [
    {
     "name": "stdout",
     "output_type": "stream",
     "text": [
      "ตัวเลขที่หาร 2000 ลงตัว: 1, 2, 4, 5, 8, 10, 16, 20, 25, 40, 50, 80, 100, "
     ]
    }
   ],
   "source": [
    "# ข้อ 14\n",
    "tu = tuple(range(1 , 101))\n",
    "num = abs(int(input(\"ตัวเลข >> \")))\n",
    "print('ตัวเลขที่หาร' , num , 'ลงตัว:' , end=' ')\n",
    "for i in tu:\n",
    "    if num % i == 0: showNum(i)"
   ]
  },
  {
   "cell_type": "code",
   "execution_count": 39,
   "metadata": {},
   "outputs": [
    {
     "name": "stdout",
     "output_type": "stream",
     "text": [
      "ตัวเลขที่หาร 98 ลงตัวมีกี่ตัวใน 1 - 100\n",
      "6 ตัว\n"
     ]
    }
   ],
   "source": [
    "# ข้อ 15\n",
    "num = abs(int(input(\"ตัวเลข >> \")))\n",
    "count = 0\n",
    "print(f'ตัวเลขที่หาร {num} ลงตัวมีกี่ตัวใน 1 - 100')\n",
    "for i in tu:\n",
    "    if num % i == 0: count += 1\n",
    "print(f'{count} ตัว')"
   ]
  },
  {
   "cell_type": "code",
   "execution_count": 56,
   "metadata": {},
   "outputs": [
    {
     "name": "stdout",
     "output_type": "stream",
     "text": [
      "เลข 23 เป็นจำนวนเฉพาะหรือไม่\n",
      "is prime\n"
     ]
    }
   ],
   "source": [
    "# ข้อ 16\n",
    "num = abs(int(input(\"ตัวเลข >> \")))\n",
    "li = []\n",
    "for i in tu:\n",
    "    if num % i == 0 and num % 1 == 0: \n",
    "        li.append(i)\n",
    "print('เลข' , num , 'เป็นจำนวนเฉพาะหรือไม่')\n",
    "print('is prime') if li.__len__() == 2 else print('is not prime')"
   ]
  },
  {
   "cell_type": "code",
   "execution_count": 81,
   "metadata": {},
   "outputs": [
    {
     "name": "stdout",
     "output_type": "stream",
     "text": [
      "จำนวนเฉพาะ 1 ถึง 100: 2, 3, 5, 7, 11, 13, 17, 19, 23, 29, 31, 37, 41, 43, 47, 53, 59, 61, 67, 71, 73, 79, 83, 89, 97, "
     ]
    }
   ],
   "source": [
    "# ข้อ 17 \n",
    "print('จำนวนเฉพาะ 1 ถึง 100: ' , end='')\n",
    "for i in range(1,101):\n",
    "    count = 0\n",
    "    for j in range(1 , i + 1):\n",
    "        if i % j == 0 and i % 1 == 0:count += 1\n",
    "    if count == 2: print(i , end=', ') "
   ]
  },
  {
   "cell_type": "code",
   "execution_count": 14,
   "metadata": {},
   "outputs": [
    {
     "name": "stdout",
     "output_type": "stream",
     "text": [
      "จำนวนเฉพาะ 100 ตัวแรกได้แก่: 2 , 3 , 5 , 7 , 11 , 13 , 17 , 19 , 23 , 29 , 31 , 37 , 41 , 43 , 47 , 53 , 59 , 61 , 67 , 71 , 73 , 79 , 83 , 89 , 97 , 101 , 103 , 107 , 109 , 113 , 127 , 131 , 137 , 139 , 149 , 151 , 157 , 163 , 167 , 173 , 179 , 181 , 191 , 193 , 197 , 199 , 211 , 223 , 227 , 229 , 233 , 239 , 241 , 251 , 257 , 263 , 269 , 271 , 277 , 281 , 283 , 293 , 307 , 311 , 313 , 317 , 331 , 337 , 347 , 349 , 353 , 359 , 367 , 373 , 379 , 383 , 389 , 397 , 401 , 409 , 419 , 421 , 431 , 433 , 439 , 443 , 449 , 457 , 461 , 463 , 467 , 479 , 487 , 491 , 499 , 503 , 509 , 521 , 523 , 541\n"
     ]
    }
   ],
   "source": [
    "# ข้อ 18\n",
    "li = []\n",
    "def primeNumber(list):\n",
    "    for i in range(1,100000):\n",
    "        count = 0\n",
    "        for j in range(1 , i + 1):\n",
    "            if i % j == 0 and i % 1 == 0: count += 1 \n",
    "            else: continue\n",
    "        if count == 2: li.append(i)\n",
    "        if li.__len__() == 100: break;\n",
    "    return list;    \n",
    "print('จำนวนเฉพาะ 100 ตัวแรกได้แก่: ', end='')\n",
    "print(*primeNumber(li), sep=' , ')"
   ]
  },
  {
   "cell_type": "code",
   "execution_count": 9,
   "metadata": {},
   "outputs": [
    {
     "name": "stdout",
     "output_type": "stream",
     "text": [
      "ผลรวมของจันวนเฉพาะ 100 ตัว = 24,133\n"
     ]
    }
   ],
   "source": [
    "# ข้อ 19\n",
    "li.clear()\n",
    "print('ผลรวมของจันวนเฉพาะ 100 ตัว =', format(sum(primeNumber(li)), ','))"
   ]
  },
  {
   "cell_type": "code",
   "execution_count": 5,
   "metadata": {},
   "outputs": [
    {
     "name": "stdout",
     "output_type": "stream",
     "text": [
      "ข้อความที่รับมา coding\n",
      "index ของอักษระที่เป็นเลขคู่คือ cdn"
     ]
    }
   ],
   "source": [
    "# ข้อ 20\n",
    "_str = input(\"ข้อความ >> \");\n",
    "print('ข้อความที่รับมา' ,_str )\n",
    "print('index ของอักขระที่เป็นเลขคู่คือ ' , end='')\n",
    "for s in _str: \n",
    "    if _str.index(s) % 2 == 0: print(s , end='')"
   ]
  },
  {
   "cell_type": "code",
   "execution_count": 1,
   "metadata": {},
   "outputs": [
    {
     "name": "stdout",
     "output_type": "stream",
     "text": [
      "ข้อความที่รับมา coding\n",
      "index ของอักษระที่เป็นเลขคู่คือ oig"
     ]
    }
   ],
   "source": [
    "# ข้อ 21\n",
    "_str = input(\"ข้อความ >> \");\n",
    "print('ข้อความที่รับมา' ,_str )\n",
    "print('index ของอักขระที่เป็นเลขคู่คือ ' , end='')\n",
    "for s in _str: \n",
    "    if _str.index(s) % 2 != 0: print(s , end='')"
   ]
  },
  {
   "cell_type": "code",
   "execution_count": 2,
   "metadata": {},
   "outputs": [
    {
     "name": "stdout",
     "output_type": "stream",
     "text": [
      "ข้อทั้งหมด 5 ข้อความมีความยาวรวมกันทั้งหมด = 27\n"
     ]
    }
   ],
   "source": [
    "# ข้อ 22\n",
    "string = ''\n",
    "for i in range(5):\n",
    "    _str = input(f'ข้อความที่ {i + 1} >> ')\n",
    "    string += _str\n",
    "print(f'ข้อทั้งหมด 5 ข้อความมีความยาวรวมกันทั้งหมด = {len(string)}')"
   ]
  },
  {
   "cell_type": "code",
   "execution_count": 5,
   "metadata": {},
   "outputs": [
    {
     "name": "stdout",
     "output_type": "stream",
     "text": [
      "ข้อความ coding ตัวอักษระ i ปรากฏที่ index: 3\n"
     ]
    }
   ],
   "source": [
    "# ข้อ 23\n",
    "str1 = input('ข้อความ >> ')\n",
    "char1 = input('1 ตัวอักษร >> ')\n",
    "if len(char1) == 1: print(f'ข้อความ {str1} ตัวอักขระ {char1} ปรากฏที่ index: {str1.index(char1)}')"
   ]
  },
  {
   "cell_type": "code",
   "execution_count": 10,
   "metadata": {},
   "outputs": [
    {
     "name": "stdout",
     "output_type": "stream",
     "text": [
      "ข้อความที่รับมา 5 ตัว มีตัวอักษร 'a' ทั้งหมด 10 ตัว\n"
     ]
    }
   ],
   "source": [
    "# ข้อ 24\n",
    "n = 0\n",
    "for i in range(5):\n",
    "    _str = input(f'ข้อความที่ {i + 1} >> ')\n",
    "    if 'a' in _str: \n",
    "        for j in range(_str.count('a')): n += 1\n",
    "print(f'ข้อความที่รับมา 5 ตัว มีตัวอักษร \\'a\\' ทั้งหมด {n} ตัว')"
   ]
  },
  {
   "cell_type": "code",
   "execution_count": 11,
   "metadata": {},
   "outputs": [
    {
     "name": "stdout",
     "output_type": "stream",
     "text": [
      "There is no vowel\n"
     ]
    }
   ],
   "source": [
    "# ข้อ 25\n",
    "_str1 = input('อักขระ 1 ตัว >> ')\n",
    "vowel = ['a' , 'e' , 'i' , 'o' , 'u']\n",
    "print(\"There is vowel\" if _str1 in vowel else \"There is no vowel\") "
   ]
  },
  {
   "cell_type": "code",
   "execution_count": 54,
   "metadata": {},
   "outputs": [
    {
     "name": "stdout",
     "output_type": "stream",
     "text": [
      "ข้อความเก่า:  apple\n",
      "ข้อความใหม่ที่ถูกแทนที่ด้วย * :  *ppl*\n"
     ]
    }
   ],
   "source": [
    "# ข้อ 26\n",
    "vowel = ['a' , 'e' , 'i' , 'o' , 'u']\n",
    "str1 = input('ข้อความ >> ')\n",
    "newString = ''\n",
    "for s in str1:\n",
    "    if s in vowel:\n",
    "        newString += '*'\n",
    "    else: newString += s\n",
    "print('ข้อความเก่า: ' , str1)\n",
    "print('ข้อความใหม่ที่ถูกแทนที่ด้วย * : ' , newString)"
   ]
  },
  {
   "cell_type": "code",
   "execution_count": 79,
   "metadata": {},
   "outputs": [
    {
     "name": "stdout",
     "output_type": "stream",
     "text": [
      "ข้อความเก่า: god\n",
      "ข้อความใหม่: dog\n"
     ]
    }
   ],
   "source": [
    "# ข้อ 27\n",
    "str1 = input('ข้อความ >> ')\n",
    "newString = ''\n",
    "li = [*str1]\n",
    "li.reverse()\n",
    "for s in li:\n",
    "    newString += s\n",
    "print('ข้อความเก่า:' , str1)\n",
    "print('ข้อความใหม่:' , newString)"
   ]
  },
  {
   "cell_type": "code",
   "execution_count": 80,
   "metadata": {},
   "outputs": [
    {
     "name": "stdout",
     "output_type": "stream",
     "text": [
      "ข้อความที่ต่อรวมกันได้ = adfrgregfrebgtr\n"
     ]
    }
   ],
   "source": [
    "# ข้อ 28\n",
    "newString = ''\n",
    "for i in range(5):\n",
    "    str1 = input(f'ข้อความที่ {i + 1} >> ')\n",
    "    newString += str1\n",
    "print('ข้อความที่ต่อรวมกันได้ =', newString)"
   ]
  },
  {
   "cell_type": "code",
   "execution_count": 85,
   "metadata": {},
   "outputs": [
    {
     "name": "stdout",
     "output_type": "stream",
     "text": [
      "ข้อความเก่า: be\n",
      "ข้อความใหม่ที่เติมขึ้น: be***\n"
     ]
    }
   ],
   "source": [
    "# ข้อ 29\n",
    "str1 = input('ข้อความ >> ')\n",
    "int1 = int(input('ตัวเลข >> '))\n",
    "\n",
    "print('ข้อความเก่า:' , str1)\n",
    "if len(str1) < int1:\n",
    "    for i in range(len(str1) , int1):\n",
    "        str1 += '*'\n",
    "print('ข้อความใหม่ที่เติมขึ้น:' , str1)"
   ]
  },
  {
   "cell_type": "code",
   "execution_count": 87,
   "metadata": {},
   "outputs": [
    {
     "name": "stdout",
     "output_type": "stream",
     "text": [
      "ข้อความที่แตกต่างกันทั้งหมด: {'a', 'e', 'g', 'd', 'f'}\n"
     ]
    }
   ],
   "source": [
    "# ข้อ 30\n",
    "str1 = input('ข้อความ >> ')\n",
    "print('ข้อความที่แตกต่างกันทั้งหมด:',set(str1))"
   ]
  },
  {
   "cell_type": "code",
   "execution_count": 88,
   "metadata": {},
   "outputs": [
    {
     "name": "stdout",
     "output_type": "stream",
     "text": [
      "ข้อความที่แตกต่างกันทั้งหมด: {'a', 's', 'g', 'd', 'f'}\n",
      "จำนวนอักษระที่แตกต่างกันทั้งหมด: 5\n"
     ]
    }
   ],
   "source": [
    "# ข้อ 31\n",
    "str1 = input('ข้อความ >> ')\n",
    "print('ข้อความที่แตกต่างกันทั้งหมด:',set(str1))\n",
    "print('จำนวนอักขระที่แตกต่างกันทั้งหมด:',set(str1).__len__())"
   ]
  },
  {
   "cell_type": "code",
   "execution_count": 91,
   "metadata": {},
   "outputs": [
    {
     "name": "stdout",
     "output_type": "stream",
     "text": [
      "[0, 1, 2, 3, 4, 5, 6, 7, 8, 9, 10, 11, 12, 13, 14, 15, 16, 17, 18, 19]\n"
     ]
    }
   ],
   "source": [
    "# ข้อ 32\n",
    "empLi = []\n",
    "for el in range(20):\n",
    "    empLi.append(el)\n",
    "print(empLi)"
   ]
  },
  {
   "cell_type": "code",
   "execution_count": 92,
   "metadata": {},
   "outputs": [
    {
     "name": "stdout",
     "output_type": "stream",
     "text": [
      "[99, 98, 97, 96, 95, 94, 93, 92, 91, 90, 89, 88, 87, 86, 85, 84, 83, 82, 81, 80]\n"
     ]
    }
   ],
   "source": [
    "# ข้อ 33\n",
    "empLi.clear()\n",
    "for el in range(100):\n",
    "    empLi.append(el)\n",
    "empLi = empLi[80:100]\n",
    "empLi.reverse()\n",
    "print(empLi)"
   ]
  },
  {
   "cell_type": "code",
   "execution_count": 93,
   "metadata": {},
   "outputs": [
    {
     "name": "stdout",
     "output_type": "stream",
     "text": [
      "[1, 2, 3]\n"
     ]
    }
   ],
   "source": [
    "# ข้อ 34\n",
    "empLi.clear()\n",
    "for i in range(5):\n",
    "    str1 = int(input(f'ตัวเลขที่ {i + 1} >> '))\n",
    "    if str1 not in empLi: empLi.append(str1) \n",
    "    else: pass\n",
    "print(empLi)"
   ]
  },
  {
   "cell_type": "code",
   "execution_count": 94,
   "metadata": {},
   "outputs": [
    {
     "name": "stdout",
     "output_type": "stream",
     "text": [
      "['a', 'ad', 'fre', 'gtr', 'gt']\n"
     ]
    }
   ],
   "source": [
    "# ข้อ 35\n",
    "empLi.clear()\n",
    "Bool = True\n",
    "while Bool:\n",
    "    str1 = input('ข้อความ >> ')\n",
    "    if str1 not in empLi:\n",
    "        empLi.append(str1)\n",
    "    else: pass\n",
    "    if len(empLi) == 5: break\n",
    "print(empLi)"
   ]
  },
  {
   "cell_type": "code",
   "execution_count": 95,
   "metadata": {},
   "outputs": [
    {
     "name": "stdout",
     "output_type": "stream",
     "text": [
      "[1, 2, 3, 4, 5, 6, 7, 8, 9, 10]\n",
      "[10, 9, 8, 7, 6, 5, 4, 3, 2, 1]\n"
     ]
    }
   ],
   "source": [
    "# ข้อ 36\n",
    "list1 = [*range(1,11)]\n",
    "print(list1)\n",
    "list1.reverse()\n",
    "print(list1)"
   ]
  },
  {
   "cell_type": "code",
   "execution_count": 98,
   "metadata": {},
   "outputs": [
    {
     "name": "stdout",
     "output_type": "stream",
     "text": [
      "2 , 4 , 6 , 8 , 10 , "
     ]
    }
   ],
   "source": [
    "# ข้อ 37\n",
    "list1.reverse()\n",
    "for i in list1:\n",
    "    if i % 2 == 0: print(i , end=' , ')"
   ]
  },
  {
   "cell_type": "code",
   "execution_count": 100,
   "metadata": {},
   "outputs": [
    {
     "name": "stdout",
     "output_type": "stream",
     "text": [
      "1 , 3 , 5 , 7 , 9 , "
     ]
    }
   ],
   "source": [
    "# ข้อ 38\n",
    "list1.reverse()\n",
    "for i in list1:\n",
    "    if i % 2 != 0: print(i , end=' , ')"
   ]
  },
  {
   "cell_type": "code",
   "execution_count": 102,
   "metadata": {},
   "outputs": [
    {
     "name": "stdout",
     "output_type": "stream",
     "text": [
      "3 , 6 , 9 , "
     ]
    }
   ],
   "source": [
    "# ข้อ 39\n",
    "list1 = [*range(1,10)]\n",
    "for i in list1:\n",
    "    if i % 3 == 0: print(i , end=' , ')"
   ]
  },
  {
   "cell_type": "code",
   "execution_count": 105,
   "metadata": {},
   "outputs": [
    {
     "name": "stdout",
     "output_type": "stream",
     "text": [
      "อักษระ gt อยู่ใน index ที่ 3\n"
     ]
    }
   ],
   "source": [
    "# ข้อ 40\n",
    "_str1 = input('อักขระ 1 ตัว >> ')\n",
    "list2 = [*'alligntor']\n",
    "if _str1 in list2:\n",
    "    print(f'อักขระ {str1} อยู่ใน index ที่ {list2.index(_str1)}')"
   ]
  },
  {
   "cell_type": "code",
   "execution_count": 106,
   "metadata": {},
   "outputs": [
    {
     "name": "stdout",
     "output_type": "stream",
     "text": [
      "[1, 'a', 3, 'a', 5, 'a', 7, 'a', 9, 'a', 11, 'a', 13, 'a', 15, 'a', 17, 'a', 19, 'a', 21, 'a', 23, 'a', 25]\n"
     ]
    }
   ],
   "source": [
    "# ข้อ 41\n",
    "list3 = [*range(1,26)]\n",
    "for i in  list3:\n",
    "    if i % 2 == 0:\n",
    "        idx = list3.index(i)\n",
    "        list3[idx] = 'a'\n",
    "print(list3)"
   ]
  },
  {
   "cell_type": "code",
   "execution_count": 107,
   "metadata": {},
   "outputs": [
    {
     "name": "stdout",
     "output_type": "stream",
     "text": [
      "['b', 2, 'b', 4, 'b', 6, 'b', 8, 'b', 10, 'b', 12, 'b', 14, 'b', 16, 'b', 18, 'b', 20, 'b', 22, 'b', 24, 'b']\n"
     ]
    }
   ],
   "source": [
    "# ข้อ 42\n",
    "list3 = [*range(1,26)]\n",
    "for i in  list3:\n",
    "    if i % 2 != 0:\n",
    "        idx = list3.index(i)\n",
    "        list3[idx] = 'b'\n",
    "print(list3)"
   ]
  },
  {
   "cell_type": "code",
   "execution_count": 112,
   "metadata": {},
   "outputs": [
    {
     "name": "stdout",
     "output_type": "stream",
     "text": [
      "['square', 2, 3, 'square', 5, 6, 7, 8, 'square', 10, 11, 12, 13, 14, 15, 'square', 17, 18, 19, 20, 21, 22, 23, 24, 'square']\n"
     ]
    }
   ],
   "source": [
    "# ข้อ 43\n",
    "import math\n",
    "\n",
    "list3 = [*range(1,26)]\n",
    "for i in  list3:\n",
    "    if math.sqrt(i) % (i // i) == 0:\n",
    "        idx = list3.index(i)\n",
    "        list3[idx] = 'square'\n",
    "print(list3)"
   ]
  },
  {
   "cell_type": "code",
   "execution_count": 123,
   "metadata": {},
   "outputs": [
    {
     "name": "stdout",
     "output_type": "stream",
     "text": [
      "['a*', 'b', 'c*', 'd', 'e*', 'f']\n"
     ]
    }
   ],
   "source": [
    "# ข้อ 44\n",
    "listX = [*range(0 , 9 , 2)]\n",
    "list4 = [*'abcdef']\n",
    "for i in listX:\n",
    "    if i < len(list4): list4[i] += '*' \n",
    "    else: break\n",
    "print(list4)"
   ]
  },
  {
   "cell_type": "code",
   "execution_count": 125,
   "metadata": {},
   "outputs": [
    {
     "name": "stdout",
     "output_type": "stream",
     "text": [
      "['a', 'b', 'c', 'a', 'b', 'c', 'd', 'e', 'f']\n"
     ]
    }
   ],
   "source": [
    "# ข้อ 45\n",
    "list4 = [*'abcdef']\n",
    "for i in range(3):\n",
    "    idx = int(input('เลข index >> '))\n",
    "    el = input('element ที่จะแทรกลงใน list >> ')\n",
    "    list4.insert(idx , el)\n",
    "print(list4)"
   ]
  },
  {
   "cell_type": "code",
   "execution_count": 1,
   "metadata": {},
   "outputs": [
    {
     "name": "stdout",
     "output_type": "stream",
     "text": [
      "['a', 'b', 'l', 'u', 'c', 'd', 'e', 'f']\n"
     ]
    }
   ],
   "source": [
    "# ข้อ 46\n",
    "list4 = [*'abcdef']\n",
    "for i in range(3):\n",
    "    idx = int(input('เลข index >> '))\n",
    "    el = input('element ที่จะแทรกลงใน list >> ')\n",
    "    el not in list4 and list4.insert(idx , el)\n",
    "print(list4)"
   ]
  },
  {
   "cell_type": "code",
   "execution_count": 5,
   "metadata": {},
   "outputs": [
    {
     "name": "stdout",
     "output_type": "stream",
     "text": [
      "['b', 'c', 'd', 'e', 'f']\n"
     ]
    }
   ],
   "source": [
    "# ข้อ 47\n",
    "list4 = [*'abcdef']\n",
    "status = False\n",
    "try: \n",
    "    num1 = int(input('เลข index >> '))\n",
    "    list4[num1]\n",
    "except IndexError:\n",
    "    status = True\n",
    "    print('Error!')\n",
    "finally:\n",
    "    if not status: \n",
    "        del list4[num1]\n",
    "        print(list4)"
   ]
  },
  {
   "cell_type": "code",
   "execution_count": 9,
   "metadata": {},
   "outputs": [
    {
     "name": "stdout",
     "output_type": "stream",
     "text": [
      "['a', 'b', 'c', 'e', 'f']\n"
     ]
    }
   ],
   "source": [
    "# ข้อ 48\n",
    "list4 = [*'abcdef']\n",
    "char = input('อักขระ 1 ตัว >> ')\n",
    "if char in list4: list4.remove(char)\n",
    "print(list4)"
   ]
  },
  {
   "cell_type": "code",
   "execution_count": 12,
   "metadata": {},
   "outputs": [
    {
     "name": "stdout",
     "output_type": "stream",
     "text": [
      "[1, 2, 3, 4, 5, 6, 7, 8, 9, 10, 11]\n"
     ]
    }
   ],
   "source": [
    "# ข้อ 49\n",
    "list1 = [*range(1 , 11)]\n",
    "n1 = int(input('ตัวเลข >> '))\n",
    "if n1 in list1: \n",
    "    idx = list1.index(n1)\n",
    "    del list1[idx]\n",
    "elif n1 not in list1: list1.append(n1)\n",
    "print(list1)"
   ]
  },
  {
   "cell_type": "code",
   "execution_count": 14,
   "metadata": {},
   "outputs": [
    {
     "name": "stdout",
     "output_type": "stream",
     "text": [
      "[1, 2, 3, 4, 5, 6, 7, 8, 9, 10, 100]\n"
     ]
    }
   ],
   "source": [
    "# ข้อ 50\n",
    "list1 = [*range(1 , 11)]\n",
    "n1 =  int(input('ตัวเลข >> '))\n",
    "if n1 in list1: list1.remove(n1)\n",
    "elif n1 not in list1: list1.append(n1)\n",
    "print(list1)"
   ]
  },
  {
   "cell_type": "code",
   "execution_count": 2,
   "metadata": {},
   "outputs": [
    {
     "name": "stdout",
     "output_type": "stream",
     "text": [
      "[1, 3, 5, 7, 9]\n"
     ]
    }
   ],
   "source": [
    "# ข้อ 51\n",
    "list1 = [*range(1 , 11)]\n",
    "for i in list1:\n",
    "    if i % 2 == 0: \n",
    "        idx = list1.index(i)\n",
    "        del list1[idx]\n",
    "print(list1)"
   ]
  },
  {
   "cell_type": "code",
   "execution_count": 3,
   "metadata": {},
   "outputs": [
    {
     "name": "stdout",
     "output_type": "stream",
     "text": [
      "[1, 3, 5, 7, 9]\n"
     ]
    }
   ],
   "source": [
    "# ข้อ 52\n",
    "list1 = [*range(1 , 11)]\n",
    "for i in list1:\n",
    "    i % 2 == 0 and list1.remove(i)\n",
    "print(list1)"
   ]
  },
  {
   "cell_type": "code",
   "execution_count": 14,
   "metadata": {},
   "outputs": [
    {
     "name": "stdout",
     "output_type": "stream",
     "text": [
      "[1, 3, 5, 7, 9, 11, 13, 15, 17, 19, 21, 23, 25]\n"
     ]
    }
   ],
   "source": [
    "# ข้อ 53\n",
    "list3 = [*range(1 , 26)]\n",
    "for i in list3:\n",
    "    if i % 2 == 0 or i % 3 == 0:\n",
    "        idx = list3.index(i)\n",
    "        del list3[idx]\n",
    "print(list3)"
   ]
  },
  {
   "cell_type": "code",
   "execution_count": 13,
   "metadata": {},
   "outputs": [
    {
     "name": "stdout",
     "output_type": "stream",
     "text": [
      "[1, 3, 5, 6, 7, 9, 11, 12, 13, 15, 17, 18, 19, 21, 23, 24, 25]\n"
     ]
    }
   ],
   "source": [
    "# ข้อ 54\n",
    "list3 = [*range(1 , 26)]\n",
    "for i in list3:\n",
    "    i % 2 == 0 and i % 3 != 0 and list3.remove(i)\n",
    "print(list3)"
   ]
  },
  {
   "cell_type": "code",
   "execution_count": 15,
   "metadata": {},
   "outputs": [
    {
     "name": "stdout",
     "output_type": "stream",
     "text": [
      "[1, 2, 3, 4, 6, 7, 8, 9, 10]\n"
     ]
    }
   ],
   "source": [
    "# ข้อ 55\n",
    "list1 = [*range(1,11)]\n",
    "n1 = int(input('ตัวเลข >> '))\n",
    "n1 in list1 and list1.remove(n1)\n",
    "print(list1)"
   ]
  },
  {
   "cell_type": "code",
   "execution_count": 25,
   "metadata": {},
   "outputs": [
    {
     "name": "stdout",
     "output_type": "stream",
     "text": [
      "6\n"
     ]
    }
   ],
   "source": [
    "# ข้อ 56"
   ]
  },
  {
   "cell_type": "code",
   "execution_count": null,
   "metadata": {},
   "outputs": [],
   "source": [
    "# ข้อ 57"
   ]
  },
  {
   "cell_type": "code",
   "execution_count": null,
   "metadata": {},
   "outputs": [],
   "source": [
    "# ข้อ 58"
   ]
  },
  {
   "cell_type": "code",
   "execution_count": null,
   "metadata": {},
   "outputs": [],
   "source": [
    "# ข้อ 59"
   ]
  },
  {
   "cell_type": "code",
   "execution_count": 26,
   "metadata": {},
   "outputs": [
    {
     "name": "stdout",
     "output_type": "stream",
     "text": [
      "('a', 'b', 'c', 'd', 'e', 'f')\n"
     ]
    }
   ],
   "source": [
    "# ข้อ 60\n",
    "list1 = [*'abcdef']\n",
    "print(tuple(list1))"
   ]
  },
  {
   "cell_type": "code",
   "execution_count": 27,
   "metadata": {},
   "outputs": [
    {
     "name": "stdout",
     "output_type": "stream",
     "text": [
      "4, 16, 36, 64, 100, "
     ]
    }
   ],
   "source": [
    "# ข้อ 61\n",
    "tuple1 = (*range(1,11),)\n",
    "for i in tuple1:\n",
    "    i % 2 == 0 and print(i ** 2 , end=', ')"
   ]
  },
  {
   "cell_type": "code",
   "execution_count": 28,
   "metadata": {},
   "outputs": [
    {
     "name": "stdout",
     "output_type": "stream",
     "text": [
      "1, 9, 25, 49, 81, "
     ]
    }
   ],
   "source": [
    "# ข้อ 62\n",
    "tuple1 = (*range(1,11),)\n",
    "for i in tuple1:\n",
    "    i % 2 != 0 and print(i ** 2 , end=', ')"
   ]
  },
  {
   "cell_type": "code",
   "execution_count": 45,
   "metadata": {},
   "outputs": [
    {
     "name": "stdout",
     "output_type": "stream",
     "text": [
      "2, 3, 5, 7, 11, 13, 17, 19, 23, "
     ]
    }
   ],
   "source": [
    "# ข้อ 63\n",
    "tuple2 = (*range(1,26),)\n",
    "for i in tuple2:\n",
    "    count = 0\n",
    "    for j in range(min(*tuple2) , i + 1):\n",
    "        if i % j == 0: count += 1\n",
    "    if count == 2: print(i , end=', ')"
   ]
  },
  {
   "cell_type": "code",
   "execution_count": 46,
   "metadata": {},
   "outputs": [
    {
     "name": "stdout",
     "output_type": "stream",
     "text": [
      "11.11111111111111\n"
     ]
    }
   ],
   "source": [
    "# ข้อ 64\n",
    "tuple2 = (*range(1,26),)\n",
    "li = []\n",
    "for i in tuple2:\n",
    "    count = 0\n",
    "    for j in range(min(*tuple2) , i + 1):\n",
    "        if i % j == 0: count += 1\n",
    "    if count == 2: li.append(i)\n",
    "print(sum(li) / len(li))"
   ]
  },
  {
   "cell_type": "code",
   "execution_count": 47,
   "metadata": {},
   "outputs": [
    {
     "name": "stdout",
     "output_type": "stream",
     "text": [
      "yes\n"
     ]
    }
   ],
   "source": [
    "# ข้อ 65\n",
    "tuple1 = (*range(1,11),)\n",
    "num = int(input('ตัวเลข >> '))\n",
    "print(\"yes\" if num in tuple1 else \"no\")"
   ]
  },
  {
   "cell_type": "code",
   "execution_count": null,
   "metadata": {},
   "outputs": [],
   "source": [
    "# ข้อ 66\n"
   ]
  }
 ],
 "metadata": {
  "kernelspec": {
   "display_name": "Python 3",
   "language": "python",
   "name": "python3"
  },
  "language_info": {
   "codemirror_mode": {
    "name": "ipython",
    "version": 3
   },
   "file_extension": ".py",
   "mimetype": "text/x-python",
   "name": "python",
   "nbconvert_exporter": "python",
   "pygments_lexer": "ipython3",
   "version": "3.11.4"
  },
  "orig_nbformat": 4
 },
 "nbformat": 4,
 "nbformat_minor": 2
}
