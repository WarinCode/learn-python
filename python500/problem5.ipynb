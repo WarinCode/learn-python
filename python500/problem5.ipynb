{
 "cells": [
  {
   "cell_type": "markdown",
   "metadata": {},
   "source": [
    "<h1 style=\"text-align:center\">บทที่ 5 OPERATOR</h1>\n",
    "<hr>"
   ]
  },
  {
   "cell_type": "code",
   "execution_count": 9,
   "metadata": {},
   "outputs": [
    {
     "data": {
      "text/plain": [
       "34"
      ]
     },
     "execution_count": 9,
     "metadata": {},
     "output_type": "execute_result"
    }
   ],
   "source": [
    "# ข้อ 1\n",
    "2 ** 3 + 5 * 7 - 9\n",
    "(2 ** 3) + (5 * 7) - 9\n",
    "8 + 35 - 9\n",
    "34"
   ]
  },
  {
   "cell_type": "code",
   "execution_count": 8,
   "metadata": {},
   "outputs": [
    {
     "data": {
      "text/plain": [
       "60"
      ]
     },
     "execution_count": 8,
     "metadata": {},
     "output_type": "execute_result"
    }
   ],
   "source": [
    "# ข้อ 2\n",
    "5 * 2 ** 3 + 4 * 5\n",
    "5 * (2 ** 3) + (4 * 5)\n",
    "(5 * 8) + 20\n",
    "40 + 20\n",
    "60"
   ]
  },
  {
   "cell_type": "code",
   "execution_count": 7,
   "metadata": {},
   "outputs": [
    {
     "data": {
      "text/plain": [
       "64"
      ]
     },
     "execution_count": 7,
     "metadata": {},
     "output_type": "execute_result"
    }
   ],
   "source": [
    "# ข้อ 3\n",
    "2 ** 3 ** 2\n",
    "(2 ** 3) ** 2\n",
    "8 ** 2\n",
    "64"
   ]
  },
  {
   "cell_type": "code",
   "execution_count": 6,
   "metadata": {},
   "outputs": [
    {
     "data": {
      "text/plain": [
       "15"
      ]
     },
     "execution_count": 6,
     "metadata": {},
     "output_type": "execute_result"
    }
   ],
   "source": [
    "# ข้อ 4\n",
    "5 + 4 + 3 + 2 + 1\n",
    "15"
   ]
  },
  {
   "cell_type": "code",
   "execution_count": 5,
   "metadata": {},
   "outputs": [
    {
     "data": {
      "text/plain": [
       "3"
      ]
     },
     "execution_count": 5,
     "metadata": {},
     "output_type": "execute_result"
    }
   ],
   "source": [
    "# ข้อ 5\n",
    "7 % 2 ** 2\n",
    "7 % (2 ** 2)\n",
    "7 % 4\n",
    "3"
   ]
  },
  {
   "cell_type": "code",
   "execution_count": 4,
   "metadata": {},
   "outputs": [
    {
     "data": {
      "text/plain": [
       "1"
      ]
     },
     "execution_count": 4,
     "metadata": {},
     "output_type": "execute_result"
    }
   ],
   "source": [
    "# ข้อ 6\n",
    "7 // (3 ** 2 ** 2 - 75)\n",
    "7 // ((3 ** 2) ** 2) - 75\n",
    "7 // (9 ** 2) - 75\n",
    "7 // 81 - 75\n",
    "7 // 6\n",
    "1"
   ]
  },
  {
   "cell_type": "code",
   "execution_count": 17,
   "metadata": {},
   "outputs": [
    {
     "data": {
      "text/plain": [
       "10"
      ]
     },
     "execution_count": 17,
     "metadata": {},
     "output_type": "execute_result"
    }
   ],
   "source": [
    "# ข้อ 7\n",
    "6 % 7 // 3 + 2 ** 3\n",
    "(6 % 7) // 3 + (2 ** 3)\n",
    "(6 // 3) + 8\n",
    "2 + 8\n",
    "10"
   ]
  },
  {
   "cell_type": "code",
   "execution_count": 19,
   "metadata": {},
   "outputs": [
    {
     "data": {
      "text/plain": [
       "3"
      ]
     },
     "execution_count": 19,
     "metadata": {},
     "output_type": "execute_result"
    }
   ],
   "source": [
    "# ข้อ 8\n",
    "5 ** 2 // (2 * 2 + 4)\n",
    "(5 ** 2) // ((2 * 2) + 4)\n",
    "25 // (4 + 4)\n",
    "25 // 8\n",
    "3"
   ]
  },
  {
   "cell_type": "code",
   "execution_count": 21,
   "metadata": {},
   "outputs": [
    {
     "data": {
      "text/plain": [
       "8.5"
      ]
     },
     "execution_count": 21,
     "metadata": {},
     "output_type": "execute_result"
    }
   ],
   "source": [
    "# ข้อ 9\n",
    "1 + 2 ** 3 * 1 - 1/2\n",
    "1 + (2 ** 3) * 1 - (1/2)\n",
    "(1 + 8 * 1) - 0.5\n",
    "9 - 0.5\n",
    "8.5"
   ]
  },
  {
   "cell_type": "code",
   "execution_count": 23,
   "metadata": {},
   "outputs": [
    {
     "data": {
      "text/plain": [
       "7"
      ]
     },
     "execution_count": 23,
     "metadata": {},
     "output_type": "execute_result"
    }
   ],
   "source": [
    "# ข้อ 10\n",
    "(1 + 2) + (3 * 4) - (2 ** 3)\n",
    "3 + 12 - 8\n",
    "12 - 5\n",
    "7"
   ]
  },
  {
   "cell_type": "code",
   "execution_count": 25,
   "metadata": {},
   "outputs": [],
   "source": [
    "# ข้อ 11\n",
    "y = 2 ** 2\n",
    "y = 4"
   ]
  },
  {
   "cell_type": "code",
   "execution_count": 26,
   "metadata": {},
   "outputs": [
    {
     "name": "stdout",
     "output_type": "stream",
     "text": [
      "1.125\n"
     ]
    }
   ],
   "source": [
    "# ข้อ 12\n",
    "y = 3 ** 2 / 2 ** 3\n",
    "y = 9 / 8\n",
    "print(y)"
   ]
  },
  {
   "cell_type": "code",
   "execution_count": 33,
   "metadata": {},
   "outputs": [
    {
     "data": {
      "text/plain": [
       "8.0"
      ]
     },
     "execution_count": 33,
     "metadata": {},
     "output_type": "execute_result"
    }
   ],
   "source": [
    "# ข้อ 13\n",
    "y = 2 ** 4 ** 1 / 2\n",
    "y = 2 ** (4 ** 1) / 2\n",
    "y = (2 ** 4) / 2\n",
    "y = 16 / 2\n",
    "y = 8"
   ]
  },
  {
   "cell_type": "code",
   "execution_count": 34,
   "metadata": {},
   "outputs": [
    {
     "data": {
      "text/plain": [
       "0"
      ]
     },
     "execution_count": 34,
     "metadata": {},
     "output_type": "execute_result"
    }
   ],
   "source": [
    "# ข้อ 14\n",
    "y = 2 * (4 ** 2) % (8 // 2)\n",
    "y = (2 * 16) % 4\n",
    "y = 32 % 4\n",
    "y = 0"
   ]
  },
  {
   "cell_type": "code",
   "execution_count": 35,
   "metadata": {},
   "outputs": [
    {
     "data": {
      "text/plain": [
       "False"
      ]
     },
     "execution_count": 35,
     "metadata": {},
     "output_type": "execute_result"
    }
   ],
   "source": [
    "# ข้อ 15\n",
    "y = 2 * 4 - 15 >= 1\n",
    "y = ((2 * 4) - 15) >= 1\n",
    "y = (8 - 15) >= 1\n",
    "y = -7 >= 1\n",
    "y = False"
   ]
  }
 ],
 "metadata": {
  "kernelspec": {
   "display_name": "Python 3",
   "language": "python",
   "name": "python3"
  },
  "language_info": {
   "codemirror_mode": {
    "name": "ipython",
    "version": 3
   },
   "file_extension": ".py",
   "mimetype": "text/x-python",
   "name": "python",
   "nbconvert_exporter": "python",
   "pygments_lexer": "ipython3",
   "version": "3.11.4"
  },
  "orig_nbformat": 4
 },
 "nbformat": 4,
 "nbformat_minor": 2
}
