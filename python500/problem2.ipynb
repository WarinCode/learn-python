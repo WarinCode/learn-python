{
 "cells": [
  {
   "cell_type": "markdown",
   "metadata": {},
   "source": [
    "<h1>บทที่ 2 (Print Command)</h1>\n",
    "<style>\n",
    "    h1{\n",
    "        text-align:center;\n",
    "    }\n",
    "</style>"
   ]
  },
  {
   "cell_type": "markdown",
   "metadata": {},
   "source": [
    "<h4>Print String</h4>\n",
    "<hr>"
   ]
  },
  {
   "cell_type": "code",
   "execution_count": 1,
   "metadata": {},
   "outputs": [
    {
     "name": "stdout",
     "output_type": "stream",
     "text": [
      "Hello\n"
     ]
    }
   ],
   "source": [
    "# ข้อ 1\n",
    "print(\"Hello\")"
   ]
  },
  {
   "cell_type": "code",
   "execution_count": 2,
   "metadata": {},
   "outputs": [
    {
     "name": "stdout",
     "output_type": "stream",
     "text": [
      "Hello World\n"
     ]
    }
   ],
   "source": [
    "# ข้อ 2\n",
    "print(\"Hello World\")"
   ]
  },
  {
   "cell_type": "code",
   "execution_count": 3,
   "metadata": {},
   "outputs": [
    {
     "name": "stdout",
     "output_type": "stream",
     "text": [
      "hello_python\n"
     ]
    }
   ],
   "source": [
    "# ข้อ 3\n",
    "print(\"hello_python\")"
   ]
  },
  {
   "cell_type": "code",
   "execution_count": 4,
   "metadata": {},
   "outputs": [
    {
     "name": "stdout",
     "output_type": "stream",
     "text": [
      "Merry X'Mas\n"
     ]
    }
   ],
   "source": [
    "# ข้อ 4\n",
    "print(\"Merry X'Mas\")"
   ]
  },
  {
   "cell_type": "code",
   "execution_count": 5,
   "metadata": {},
   "outputs": [
    {
     "name": "stdout",
     "output_type": "stream",
     "text": [
      "I want to ask you \"Why don't you drive to work\"\n"
     ]
    }
   ],
   "source": [
    "# ข้อ 6\n",
    "print('I want to ask you \"Why don\\'t you drive to work\"')"
   ]
  },
  {
   "cell_type": "code",
   "execution_count": 6,
   "metadata": {},
   "outputs": [
    {
     "name": "stdout",
     "output_type": "stream",
     "text": [
      "You got a ne job !? That's so exciting\n"
     ]
    }
   ],
   "source": [
    "# ข้อ 7\n",
    "print(\"You got a ne job !? That's so exciting\")"
   ]
  },
  {
   "cell_type": "code",
   "execution_count": 7,
   "metadata": {},
   "outputs": [
    {
     "name": "stdout",
     "output_type": "stream",
     "text": [
      "สวัสดีวันจันทร์\n"
     ]
    }
   ],
   "source": [
    "# ข้อ 8\n",
    "print(\"สวัสดีวันจันทร์\")"
   ]
  },
  {
   "cell_type": "code",
   "execution_count": 8,
   "metadata": {},
   "outputs": [
    {
     "name": "stdout",
     "output_type": "stream",
     "text": [
      "ความแตกต่างระหว่างนเก่งกับคนไม่เก่ง คือ \"การใช้เวลาว่างให้เ็นระโยชน์\"\n"
     ]
    }
   ],
   "source": [
    "# ข้อ 9\n",
    "print(\"ความแตกต่างระหว่างนเก่งกับคนไม่เก่ง คือ \\\"การใช้เวลาว่างให้เ็นระโยชน์\\\"\")"
   ]
  },
  {
   "cell_type": "code",
   "execution_count": 9,
   "metadata": {},
   "outputs": [
    {
     "name": "stdout",
     "output_type": "stream",
     "text": [
      "/\\/\\/\\\n"
     ]
    }
   ],
   "source": [
    "# ข้อ 10\n",
    "print(\"/\\\\/\\\\/\\\\\")"
   ]
  },
  {
   "cell_type": "code",
   "execution_count": 10,
   "metadata": {},
   "outputs": [
    {
     "name": "stdout",
     "output_type": "stream",
     "text": [
      "a\n",
      "an\n",
      "ant\n"
     ]
    }
   ],
   "source": [
    "# ข้อ 11\n",
    "print(\"a\" , \"an\" , \"ant\" ,sep=\"\\n\")"
   ]
  },
  {
   "cell_type": "code",
   "execution_count": 18,
   "metadata": {},
   "outputs": [
    {
     "name": "stdout",
     "output_type": "stream",
     "text": [
      "\n",
      "\t*\t\n",
      "\n",
      "*\t*\t*\t\n",
      "\n",
      "\t*\t\n",
      "      \n"
     ]
    }
   ],
   "source": [
    "# ข้อ 12\n",
    "print('''\n",
    "\\t*\\t\\n\n",
    "*\\t*\\t*\\t\\n\n",
    "\\t*\\t\n",
    "      ''')"
   ]
  },
  {
   "cell_type": "code",
   "execution_count": 19,
   "metadata": {},
   "outputs": [
    {
     "name": "stdout",
     "output_type": "stream",
     "text": [
      "\n",
      "*\t+\t*\n",
      "\n",
      "+\t*\t+\n",
      "\n",
      "*\t+\t*\n",
      "      \n"
     ]
    }
   ],
   "source": [
    "# ข้อ 13\n",
    "print('''\n",
    "*\\t+\\t*\\n\n",
    "+\\t*\\t+\\n\n",
    "*\\t+\\t*\n",
    "      ''')"
   ]
  },
  {
   "cell_type": "code",
   "execution_count": 20,
   "metadata": {},
   "outputs": [
    {
     "name": "stdout",
     "output_type": "stream",
     "text": [
      "Just becaue something\n",
      "thinks differently from you.\n",
      "does that mean it's not thinking ?\n"
     ]
    }
   ],
   "source": [
    "# ข้อ 14\n",
    "print('Just becaue something')\n",
    "print('thinks differently from you.')\n",
    "print('does that mean it\\'s not thinking ?')"
   ]
  },
  {
   "cell_type": "code",
   "execution_count": 22,
   "metadata": {},
   "outputs": [
    {
     "name": "stdout",
     "output_type": "stream",
     "text": [
      "\n",
      "\\\t\t\t\t/\n",
      "\n",
      "\t\tx\n",
      "      \n",
      "/\t\t\t\t\\\n",
      "      \n"
     ]
    }
   ],
   "source": [
    "# ข้อ 15\n",
    "print('''\n",
    "\\\\\\t\\t\\t\\t/\\n\n",
    "\\t\\tx\\n      \n",
    "/\\t\\t\\t\\t\\\\\n",
    "      ''')"
   ]
  },
  {
   "cell_type": "markdown",
   "metadata": {},
   "source": [
    "<h4>Print Numeric</h4>\n",
    "<hr>"
   ]
  },
  {
   "cell_type": "code",
   "execution_count": 23,
   "metadata": {},
   "outputs": [
    {
     "name": "stdout",
     "output_type": "stream",
     "text": [
      "25\n"
     ]
    }
   ],
   "source": [
    "# ข้อ 16\n",
    "print(25)"
   ]
  },
  {
   "cell_type": "code",
   "execution_count": 24,
   "metadata": {},
   "outputs": [
    {
     "name": "stdout",
     "output_type": "stream",
     "text": [
      "100.000000\n"
     ]
    }
   ],
   "source": [
    "# ข้อ 17\n",
    "print(f'{100:.6f}')"
   ]
  },
  {
   "cell_type": "code",
   "execution_count": 25,
   "metadata": {},
   "outputs": [
    {
     "name": "stdout",
     "output_type": "stream",
     "text": [
      "3.141592653589793\n"
     ]
    }
   ],
   "source": [
    "# ข้อ 18\n",
    "import math as m \n",
    "print(m.pi)"
   ]
  },
  {
   "cell_type": "code",
   "execution_count": 26,
   "metadata": {},
   "outputs": [
    {
     "name": "stdout",
     "output_type": "stream",
     "text": [
      "2\n"
     ]
    }
   ],
   "source": [
    "# ข้อ 19\n",
    "a = 2\n",
    "print(a)"
   ]
  },
  {
   "cell_type": "code",
   "execution_count": 27,
   "metadata": {},
   "outputs": [
    {
     "name": "stdout",
     "output_type": "stream",
     "text": [
      "12.5\n"
     ]
    }
   ],
   "source": [
    "# ข้อ 20\n",
    "a = 12.5\n",
    "print(a)"
   ]
  },
  {
   "cell_type": "markdown",
   "metadata": {},
   "source": [
    "<h4>Print String + Numeric</h4>\n",
    "<hr>"
   ]
  },
  {
   "cell_type": "code",
   "execution_count": 28,
   "metadata": {},
   "outputs": [
    {
     "name": "stdout",
     "output_type": "stream",
     "text": [
      "2 x 3 = 6\n"
     ]
    }
   ],
   "source": [
    "# ข้อ 21\n",
    "a = 2\n",
    "b = 3\n",
    "print(a , 'x' , b , '=' , a * b , sep=\" \")"
   ]
  },
  {
   "cell_type": "code",
   "execution_count": 29,
   "metadata": {},
   "outputs": [
    {
     "name": "stdout",
     "output_type": "stream",
     "text": [
      "2 + 3 = 3 + 2 = 5\n"
     ]
    }
   ],
   "source": [
    "# ข้อ 22\n",
    "print(f'{a} + {b} = {b} + {a} = {a + b}')"
   ]
  },
  {
   "cell_type": "code",
   "execution_count": 31,
   "metadata": {},
   "outputs": [
    {
     "name": "stdout",
     "output_type": "stream",
     "text": [
      "2*(3 + 5) = 2*3 + 2*5\n"
     ]
    }
   ],
   "source": [
    "# ข้อ 23\n",
    "c = 5\n",
    "print(f'{a}*({b} + {c}) = {a}*{b} + {a}*{c}')"
   ]
  },
  {
   "cell_type": "code",
   "execution_count": 32,
   "metadata": {},
   "outputs": [
    {
     "name": "stdout",
     "output_type": "stream",
     "text": [
      "2.4 + 2.5 = 4.9000\n"
     ]
    }
   ],
   "source": [
    "# ข้อ 24\n",
    "a = 2.4\n",
    "b = 2.5\n",
    "print(f'{a} + {b} = {a + b:.4f}')"
   ]
  },
  {
   "cell_type": "code",
   "execution_count": 36,
   "metadata": {},
   "outputs": [
    {
     "name": "stdout",
     "output_type": "stream",
     "text": [
      "5.00 - 2.00 = 3.0000\n"
     ]
    }
   ],
   "source": [
    "# ข้อ 25\n",
    "a = 5\n",
    "b = 2\n",
    "print(f'{a:.2f} - {b:.2f} = {a - b:.4f}')"
   ]
  },
  {
   "cell_type": "code",
   "execution_count": 41,
   "metadata": {},
   "outputs": [
    {
     "name": "stdout",
     "output_type": "stream",
     "text": [
      "ฉันเกิดวันที่ 25 ธันวาคม\n"
     ]
    }
   ],
   "source": [
    "# ข้อ 26\n",
    "brithday = 25\n",
    "print('ฉันเกิดวันที่' , brithday , 'ธันวาคม')"
   ]
  },
  {
   "cell_type": "code",
   "execution_count": 42,
   "metadata": {},
   "outputs": [
    {
     "name": "stdout",
     "output_type": "stream",
     "text": [
      "5 เท่าของ 100 มีค่าเท่ากับ 500\n"
     ]
    }
   ],
   "source": [
    "# ข้อ 27\n",
    "a = 5\n",
    "b = 100\n",
    "print(f'{a} เท่าของ {b} มีค่าเท่ากับ {b * a}')"
   ]
  },
  {
   "cell_type": "code",
   "execution_count": 49,
   "metadata": {},
   "outputs": [
    {
     "name": "stdout",
     "output_type": "stream",
     "text": [
      "เขามีเงินเยอะกว่าฉัน 3.50 บาท\n"
     ]
    }
   ],
   "source": [
    "# ข้อ 28\n",
    "a = 3.5\n",
    "print('เขามีเงินเยอะกว่าฉัน' , format(a , \".2f\") , 'บาท')"
   ]
  },
  {
   "cell_type": "code",
   "execution_count": 59,
   "metadata": {},
   "outputs": [
    {
     "name": "stdout",
     "output_type": "stream",
     "text": [
      "ฉันได้กำไร 5%\n"
     ]
    }
   ],
   "source": [
    "# ข้อ 29\n",
    "a = 5\n",
    "print('ฉันได้กำไร' , f'{a}%')"
   ]
  },
  {
   "cell_type": "code",
   "execution_count": 60,
   "metadata": {},
   "outputs": [
    {
     "name": "stdout",
     "output_type": "stream",
     "text": [
      "เมื่อวานนี้ฉันขาดทุน 2% วันนี้ฉันได้กำไร 3.50%\n"
     ]
    }
   ],
   "source": [
    "# ข้อ 30\n",
    "a = 2\n",
    "b = 3.5\n",
    "print(f'เมื่อวานนี้ฉันขาดทุน {a}% วันนี้ฉันได้กำไร {b:.2f}%')"
   ]
  }
 ],
 "metadata": {
  "kernelspec": {
   "display_name": "Python 3",
   "language": "python",
   "name": "python3"
  },
  "language_info": {
   "codemirror_mode": {
    "name": "ipython",
    "version": 3
   },
   "file_extension": ".py",
   "mimetype": "text/x-python",
   "name": "python",
   "nbconvert_exporter": "python",
   "pygments_lexer": "ipython3",
   "version": "3.10.11"
  },
  "orig_nbformat": 4
 },
 "nbformat": 4,
 "nbformat_minor": 2
}
