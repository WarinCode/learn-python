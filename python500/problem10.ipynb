{
 "cells": [
  {
   "cell_type": "markdown",
   "metadata": {},
   "source": [
    "<h1 style=\"text-align: center;\">บทที่ 10 FOR & WHILE LOOP(CODE-FLOWCHART)</h1>\n",
    "<hr>"
   ]
  },
  {
   "cell_type": "code",
   "execution_count": 10,
   "metadata": {},
   "outputs": [
    {
     "name": "stdout",
     "output_type": "stream",
     "text": [
      "0 1 2 3 4 5 6 7 8 9 "
     ]
    }
   ],
   "source": [
    "# ข้อ 1\n",
    "for i in range(10):\n",
    "    print(i , end=' ')"
   ]
  },
  {
   "cell_type": "code",
   "execution_count": 12,
   "metadata": {},
   "outputs": [
    {
     "name": "stdout",
     "output_type": "stream",
     "text": [
      "1 2 3 4 5 6 7 8 9 "
     ]
    }
   ],
   "source": [
    "# ข้อ 2\n",
    "for i in range(1 , 10):\n",
    "    print(i , end=' ')"
   ]
  },
  {
   "cell_type": "code",
   "execution_count": 11,
   "metadata": {},
   "outputs": [
    {
     "name": "stdout",
     "output_type": "stream",
     "text": [
      "3 4 5 6 7 8 9 10 11 12 "
     ]
    }
   ],
   "source": [
    "# ข้อ 3\n",
    "for i in range(3 ,13):\n",
    "    print(i , end=' ')"
   ]
  },
  {
   "cell_type": "code",
   "execution_count": 13,
   "metadata": {},
   "outputs": [
    {
     "name": "stdout",
     "output_type": "stream",
     "text": [
      "-3 -2 -1 0 1 2 3 "
     ]
    }
   ],
   "source": [
    "# ข้อ 4\n",
    "for i in range(-3 , 4): print(i , end=' ')"
   ]
  },
  {
   "cell_type": "code",
   "execution_count": 14,
   "metadata": {},
   "outputs": [
    {
     "name": "stdout",
     "output_type": "stream",
     "text": [
      "-6 -5 -4 -3 -2 -1 "
     ]
    }
   ],
   "source": [
    "# ข้อ 5\n",
    "for i in range(-6,0):\n",
    "    print(i , end=' ')"
   ]
  },
  {
   "cell_type": "code",
   "execution_count": 16,
   "metadata": {},
   "outputs": [
    {
     "name": "stdout",
     "output_type": "stream",
     "text": [
      "-14 -13 -12 -11 -10 -9 -8 "
     ]
    }
   ],
   "source": [
    "# ข้อ 6\n",
    "for i in range(-14 , -7):\n",
    "    print(i , end=' ')"
   ]
  },
  {
   "cell_type": "code",
   "execution_count": 17,
   "metadata": {},
   "outputs": [
    {
     "name": "stdout",
     "output_type": "stream",
     "text": [
      "0 1 2 3 4 5 6 7 8 9 10 11 "
     ]
    }
   ],
   "source": [
    "# ข้อ 7\n",
    "for i in range(0 , 12):\n",
    "    print(i , end=' ')"
   ]
  },
  {
   "cell_type": "code",
   "execution_count": 18,
   "metadata": {},
   "outputs": [
    {
     "name": "stdout",
     "output_type": "stream",
     "text": [
      "0 1 2 3 4 5 6 7 8 9 "
     ]
    }
   ],
   "source": [
    "# ข้อ 8\n",
    "for i in range(0 , 10):\n",
    "    print(i , end=' ')"
   ]
  },
  {
   "cell_type": "code",
   "execution_count": 19,
   "metadata": {},
   "outputs": [
    {
     "name": "stdout",
     "output_type": "stream",
     "text": [
      "6 9 12 "
     ]
    }
   ],
   "source": [
    "# ข้อ 9\n",
    "for i in range(6 , 15 , 3):\n",
    "    print(i , end=' ')"
   ]
  },
  {
   "cell_type": "code",
   "execution_count": 20,
   "metadata": {},
   "outputs": [
    {
     "name": "stdout",
     "output_type": "stream",
     "text": [
      "-16 -12 -8 -4 0 "
     ]
    }
   ],
   "source": [
    "# ข้อ 10\n",
    "for i in range(-16 , 4 , 4):\n",
    "    print(i , end=' ')"
   ]
  },
  {
   "cell_type": "code",
   "execution_count": 22,
   "metadata": {},
   "outputs": [
    {
     "name": "stdout",
     "output_type": "stream",
     "text": [
      "7 6 5 "
     ]
    }
   ],
   "source": [
    "# ข้อ 11\n",
    "for i in range(7 , 4 , -1):\n",
    "    print(i , end=' ')"
   ]
  },
  {
   "cell_type": "code",
   "execution_count": 25,
   "metadata": {},
   "outputs": [
    {
     "name": "stdout",
     "output_type": "stream",
     "text": [
      "8 7 6 5 4 3 2 1 "
     ]
    }
   ],
   "source": [
    "# ข้อ 12\n",
    "for i in range(8 , 0 , -1):\n",
    "    print(i , end=' ')"
   ]
  },
  {
   "cell_type": "code",
   "execution_count": 31,
   "metadata": {},
   "outputs": [
    {
     "name": "stdout",
     "output_type": "stream",
     "text": [
      "5 4 3 2 1 0 "
     ]
    }
   ],
   "source": [
    "# ข้อ 13\n",
    "for i in range(5 , -1 , -1):\n",
    "    print(i , end=' ')"
   ]
  },
  {
   "cell_type": "code",
   "execution_count": 32,
   "metadata": {},
   "outputs": [
    {
     "name": "stdout",
     "output_type": "stream",
     "text": [
      "-2 -3 -4 -5 -6 -7 "
     ]
    }
   ],
   "source": [
    "# ข้อ 14\n",
    "for i in range(-2 , -8 , -1):\n",
    "    print(i , end=' ')"
   ]
  },
  {
   "cell_type": "code",
   "execution_count": 34,
   "metadata": {},
   "outputs": [
    {
     "name": "stdout",
     "output_type": "stream",
     "text": [
      "12 9 6 3 0 "
     ]
    }
   ],
   "source": [
    "# ข้อ 15\n",
    "for i in range(12 , -3 , -3):\n",
    "    print(i , end=' ')"
   ]
  },
  {
   "cell_type": "code",
   "execution_count": 35,
   "metadata": {},
   "outputs": [
    {
     "name": "stdout",
     "output_type": "stream",
     "text": [
      "20 15 10 5 0 "
     ]
    }
   ],
   "source": [
    "# ข้อ 16\n",
    "for i in range(20 , -3 , -5):\n",
    "    print(i , end=' ')"
   ]
  },
  {
   "cell_type": "code",
   "execution_count": 36,
   "metadata": {},
   "outputs": [
    {
     "name": "stdout",
     "output_type": "stream",
     "text": [
      "-5 2\n",
      "-5 5\n",
      "-5 8\n",
      "-3 2\n",
      "-3 5\n",
      "-3 8\n",
      "-1 2\n",
      "-1 5\n",
      "-1 8\n",
      "1 2\n",
      "1 5\n",
      "1 8\n",
      "3 2\n",
      "3 5\n",
      "3 8\n"
     ]
    }
   ],
   "source": [
    "# ข้อ 17\n",
    "for i in range(-5 , 4 , 2):\n",
    "    for j in range(2 , 11 , 3):\n",
    "        print(i , j)"
   ]
  },
  {
   "cell_type": "code",
   "execution_count": 42,
   "metadata": {},
   "outputs": [
    {
     "name": "stdout",
     "output_type": "stream",
     "text": [
      "0,4 0,3 0,2 0,1 0,0 0,-1 0,-2 0,-3 0,-4 0,-5 1,4 1,3 1,2 1,1 1,0 1,-1 1,-2 1,-3 1,-4 1,-5 2,4 2,3 2,2 2,1 2,0 2,-1 2,-2 2,-3 2,-4 2,-5 3,4 3,3 3,2 3,1 3,0 3,-1 3,-2 3,-3 3,-4 3,-5 4,4 4,3 4,2 4,1 4,0 4,-1 4,-2 4,-3 4,-4 4,-5 "
     ]
    }
   ],
   "source": [
    "# ข้อ 18\n",
    "for i in range(5):\n",
    "    for j in range(4 , -6 , -1):\n",
    "        print(i , j , sep=',', end=' ')"
   ]
  },
  {
   "cell_type": "code",
   "execution_count": 46,
   "metadata": {},
   "outputs": [
    {
     "name": "stdout",
     "output_type": "stream",
     "text": [
      "11,-7 11,-6 11,-5 11,-4 11,-3 11,-2 11,-1 9,-7 9,-6 9,-5 9,-4 9,-3 9,-2 9,-1 7,-7 7,-6 7,-5 7,-4 7,-3 7,-2 7,-1 5,-7 5,-6 5,-5 5,-4 5,-3 5,-2 5,-1 3,-7 3,-6 3,-5 3,-4 3,-3 3,-2 3,-1 1,-7 1,-6 1,-5 1,-4 1,-3 1,-2 1,-1 "
     ]
    }
   ],
   "source": [
    "# ข้อ 19\n",
    "for i in range(11 , 0 , -2):\n",
    "    for j in range(-7 , 0 , 1):\n",
    "        print(i , j , sep=',', end=' ')"
   ]
  },
  {
   "cell_type": "code",
   "execution_count": 48,
   "metadata": {},
   "outputs": [
    {
     "name": "stdout",
     "output_type": "stream",
     "text": [
      "14,5 14,4 14,3 14,2 14,1 14,0 14,-1 14,-2 13,5 13,4 13,3 13,2 13,1 13,0 13,-1 13,-2 12,5 12,4 12,3 12,2 12,1 12,0 12,-1 12,-2 11,5 11,4 11,3 11,2 11,1 11,0 11,-1 11,-2 10,5 10,4 10,3 10,2 10,1 10,0 10,-1 10,-2 9,5 9,4 9,3 9,2 9,1 9,0 9,-1 9,-2 "
     ]
    }
   ],
   "source": [
    "# ข้อ 20\n",
    "for i in range(14 ,8, -1):\n",
    "    for j in range(5 , -3 , -1):\n",
    "        print(i , j , sep=',', end=' ')"
   ]
  }
 ],
 "metadata": {
  "kernelspec": {
   "display_name": "Python 3",
   "language": "python",
   "name": "python3"
  },
  "language_info": {
   "codemirror_mode": {
    "name": "ipython",
    "version": 3
   },
   "file_extension": ".py",
   "mimetype": "text/x-python",
   "name": "python",
   "nbconvert_exporter": "python",
   "pygments_lexer": "ipython3",
   "version": "3.11.4"
  },
  "orig_nbformat": 4
 },
 "nbformat": 4,
 "nbformat_minor": 2
}
