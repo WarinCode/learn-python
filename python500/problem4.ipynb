{
 "cells": [
  {
   "cell_type": "markdown",
   "metadata": {},
   "source": [
    "<h1 style=\"text-align:center;\">บทที่ 4 (Data Structure)</h1>\n"
   ]
  },
  {
   "attachments": {},
   "cell_type": "markdown",
   "metadata": {},
   "source": [
    "<h5>Numeric</h5>\n",
    "<hr>\n"
   ]
  },
  {
   "cell_type": "code",
   "execution_count": 1,
   "metadata": {},
   "outputs": [
    {
     "name": "stdout",
     "output_type": "stream",
     "text": [
      "5\n",
      "<class 'int'>\n"
     ]
    }
   ],
   "source": [
    "# ข้อ 1\n",
    "numeric1 = 5\n",
    "print(5)\n",
    "print(type(numeric1))"
   ]
  },
  {
   "cell_type": "code",
   "execution_count": 2,
   "metadata": {},
   "outputs": [
    {
     "name": "stdout",
     "output_type": "stream",
     "text": [
      "-3\n",
      "<class 'int'>\n"
     ]
    }
   ],
   "source": [
    "# ข้อ 2\n",
    "numeric2 = -3\n",
    "print(numeric2)\n",
    "print(type(numeric2))"
   ]
  },
  {
   "cell_type": "code",
   "execution_count": 3,
   "metadata": {},
   "outputs": [
    {
     "name": "stdout",
     "output_type": "stream",
     "text": [
      "0\n",
      "<class 'int'>\n"
     ]
    }
   ],
   "source": [
    "# ข้แ 3\n",
    "numeric3 = 0\n",
    "print(numeric3)\n",
    "print(type(numeric3))"
   ]
  },
  {
   "cell_type": "code",
   "execution_count": 4,
   "metadata": {},
   "outputs": [
    {
     "ename": "ValueError",
     "evalue": "invalid literal for int() with base 10: ''",
     "output_type": "error",
     "traceback": [
      "\u001b[1;31m---------------------------------------------------------------------------\u001b[0m",
      "\u001b[1;31mValueError\u001b[0m                                Traceback (most recent call last)",
      "Cell \u001b[1;32mIn[4], line 2\u001b[0m\n\u001b[0;32m      1\u001b[0m \u001b[39m# ข้อ 4\u001b[39;00m\n\u001b[1;32m----> 2\u001b[0m _input \u001b[39m=\u001b[39m \u001b[39mint\u001b[39;49m(\u001b[39minput\u001b[39;49m(\u001b[39m\"\u001b[39;49m\u001b[39mรับค่า >>> \u001b[39;49m\u001b[39m\"\u001b[39;49m))\n\u001b[0;32m      3\u001b[0m \u001b[39mprint\u001b[39m(_input)\n\u001b[0;32m      4\u001b[0m \u001b[39mprint\u001b[39m(\u001b[39mtype\u001b[39m(_input))\n",
      "\u001b[1;31mValueError\u001b[0m: invalid literal for int() with base 10: ''"
     ]
    }
   ],
   "source": [
    "# ข้อ 4\n",
    "_input = int(input(\"รับค่า >>> \"))\n",
    "print(_input)\n",
    "print(type(_input))"
   ]
  },
  {
   "cell_type": "code",
   "execution_count": null,
   "metadata": {},
   "outputs": [
    {
     "name": "stdout",
     "output_type": "stream",
     "text": [
      "5.0\n",
      "<class 'float'>\n"
     ]
    }
   ],
   "source": [
    "# ข้อ 5\n",
    "numeric1 = 5.0\n",
    "print(numeric1)\n",
    "print(type(numeric1))"
   ]
  },
  {
   "cell_type": "code",
   "execution_count": null,
   "metadata": {},
   "outputs": [
    {
     "name": "stdout",
     "output_type": "stream",
     "text": [
      "-3.1\n",
      "<class 'float'>\n"
     ]
    }
   ],
   "source": [
    "# ข้อ 6\n",
    "numeric2 = -3.1\n",
    "print(numeric2)\n",
    "print(type(numeric2))"
   ]
  },
  {
   "cell_type": "code",
   "execution_count": null,
   "metadata": {},
   "outputs": [
    {
     "name": "stdout",
     "output_type": "stream",
     "text": [
      "0.0\n",
      "<class 'float'>\n"
     ]
    }
   ],
   "source": [
    "# ข้อ 7\n",
    "numeric3 = 0.0\n",
    "print(numeric3)\n",
    "print(type(numeric3))"
   ]
  },
  {
   "cell_type": "code",
   "execution_count": null,
   "metadata": {},
   "outputs": [
    {
     "name": "stdout",
     "output_type": "stream",
     "text": [
      "-85\n",
      "<class 'int'>\n"
     ]
    }
   ],
   "source": [
    "# ข้อ 8\n",
    "_input2 = input(\"รับค่าตัวเลขจำนวนจริง >>> \")\n",
    "_input2 = int(_input2)\n",
    "print(_input2)\n",
    "print(type(_input2))"
   ]
  },
  {
   "cell_type": "code",
   "execution_count": null,
   "metadata": {},
   "outputs": [
    {
     "name": "stdout",
     "output_type": "stream",
     "text": [
      "ค่าตัวแปรที่ 1 = 50 \n",
      "ค่าตัวแปรที่ 2 = 25\n",
      "ชนิดข้อมูลตัวที่ 1 คือ <class 'int'> \n",
      "ชนิดข้อมูลตัวที่ 2 คือ <class 'int'>\n",
      "int1 + int2 = 75\n",
      "int1 - int2 = 25\n",
      "int1 * int2 = 1250\n",
      "int1 / int2 = 2.0\n"
     ]
    }
   ],
   "source": [
    "# ข้อ 9\n",
    "int1 = int(input(\"จำนวนเต็มตัวที่ 1 >> \"))\n",
    "int2 = int(input(\"จำนวนเต็มตัวที่ 2 >> \"))\n",
    "\n",
    "plus = int1 + int2\n",
    "minus = int1 - int2\n",
    "multiply = int1 * int2\n",
    "divide = int1 / int2\n",
    "\n",
    "print(f\"ค่าตัวแปรที่ 1 = {int1} \\nค่าตัวแปรที่ 2 = {int2}\")\n",
    "print(f\"ชนิดข้อมูลตัวที่ 1 คือ {type(int1)} \\nชนิดข้อมูลตัวที่ 2 คือ {type(int2)}\")\n",
    "print(f\"int1 + int2 = {plus}\")\n",
    "print(f\"int1 - int2 = {minus}\")\n",
    "print(f\"int1 * int2 = {multiply}\")\n",
    "print(f\"int1 / int2 = {divide}\")"
   ]
  },
  {
   "cell_type": "code",
   "execution_count": null,
   "metadata": {},
   "outputs": [
    {
     "name": "stdout",
     "output_type": "stream",
     "text": [
      "ค่าตัวแปรที่ 1 = 49.73 \n",
      "ค่าตัวแปรที่ 2 = 49.73\n",
      "ชนิดข้อมูลตัวที่ 1 คือ <class 'float'> \n",
      "ชนิดข้อมูลตัวที่ 2 คือ <class 'float'>\n",
      "59.34 + 49.73 = 109.07\n",
      "59.34 - 49.73 = 9.610000000000007\n",
      "59.34 * 49.73 = 2950.9782\n",
      "59.34 / 49.73 = 1.193243514980897\n"
     ]
    }
   ],
   "source": [
    "# ข้อ 10\n",
    "fl1 = float(input(\"ทศนิยมตัวที่ 1 >> \"))\n",
    "fl2 = float(input(\"ทศนิยมตัวที่ 2 >> \"))\n",
    "\n",
    "print(f\"ค่าตัวแปรที่ 1 = {fl2} \\nค่าตัวแปรที่ 2 = {fl2}\")\n",
    "print(f\"ชนิดข้อมูลตัวที่ 1 คือ {type(fl1)} \\nชนิดข้อมูลตัวที่ 2 คือ {type(fl2)}\")\n",
    "print(f\"{fl1} + {fl2} = {fl1 + fl2}\")\n",
    "print(f\"{fl1} - {fl2} = {fl1 - fl2}\")\n",
    "print(f\"{fl1} * {fl2} = {fl1 * fl2}\")\n",
    "print(f\"{fl1} / {fl2} = {fl1 / fl2}\")"
   ]
  },
  {
   "cell_type": "code",
   "execution_count": null,
   "metadata": {},
   "outputs": [
    {
     "name": "stdout",
     "output_type": "stream",
     "text": [
      "จำนวนเต็ม = 65\n",
      "ทศนิยม = 8.344\n",
      "ชนิดข้อมูลของ _int คือ <class 'int'> \n",
      "ชนิดข้อมูลของ _float คือ <class 'float'>\n",
      "65 + 8.344 = 73.344\n",
      "65 - 8.344 = 56.656\n",
      "65 * 8.344 = 542.36\n",
      "65 / 8.344 = 7.790028763183126\n"
     ]
    }
   ],
   "source": [
    "# ข้อ 11\n",
    "_int = int(input(\"จำนวนเต็ม >> \"))\n",
    "_float = float(input(\"ทศนิยม >> \"))\n",
    "\n",
    "print(f\"จำนวนเต็ม = {_int}\")\n",
    "print(f\"ทศนิยม = {_float}\")\n",
    "print(f\"ชนิดข้อมูลของ _int คือ {type(_int)} \\nชนิดข้อมูลของ _float คือ {type(_float)}\")\n",
    "print(f\"{_int} + {_float} = {_int + _float}\")\n",
    "print(f\"{_int} - {_float} = {_int - _float}\")\n",
    "print(f\"{_int} * {_float} = {_int * _float}\")\n",
    "print(f\"{_int} / {_float} = {_int / _float}\")"
   ]
  },
  {
   "cell_type": "code",
   "execution_count": null,
   "metadata": {},
   "outputs": [
    {
     "name": "stdout",
     "output_type": "stream",
     "text": [
      "ต่าของ logic1 =  True\n",
      "ชนิดข้อมูลของ logic1 คือ <class 'bool'>\n"
     ]
    }
   ],
   "source": [
    "# ข้อ 12\n",
    "logic1 = True\n",
    "print(\"ต่าของ logic1 = \", logic1)\n",
    "print(\"ชนิดข้อมูลของ logic1\", \"คือ\", type(logic1), sep=\" \")"
   ]
  },
  {
   "cell_type": "code",
   "execution_count": null,
   "metadata": {},
   "outputs": [
    {
     "name": "stdout",
     "output_type": "stream",
     "text": [
      "ต่าของ logic2 =  False\n",
      "ชนิดข้อมูลของ logic1 คือ <class 'bool'>\n"
     ]
    }
   ],
   "source": [
    "# ข้อ 13\n",
    "logic2 = False\n",
    "print(\"ต่าของ logic2 = \", logic2)\n",
    "print(\"ชนิดข้อมูลของ logic1\", \"คือ\", type(logic2), sep=\" \")"
   ]
  },
  {
   "cell_type": "code",
   "execution_count": null,
   "metadata": {},
   "outputs": [
    {
     "name": "stdout",
     "output_type": "stream",
     "text": [
      "False\n"
     ]
    }
   ],
   "source": [
    "# ข้อ 14\n",
    "logic1 = True\n",
    "logic2 = False\n",
    "print(logic1 and logic2)"
   ]
  },
  {
   "cell_type": "code",
   "execution_count": null,
   "metadata": {},
   "outputs": [
    {
     "name": "stdout",
     "output_type": "stream",
     "text": [
      "True\n"
     ]
    }
   ],
   "source": [
    "# ข้อ 15\n",
    "logic1 = True\n",
    "logic2 = False\n",
    "print(logic1 or logic2)"
   ]
  },
  {
   "cell_type": "code",
   "execution_count": null,
   "metadata": {},
   "outputs": [
    {
     "name": "stdout",
     "output_type": "stream",
     "text": [
      "ค่าของ complex1 = (1+2j)\n",
      "ชนิดข้อมูล complex1 = <class 'complex'>\n"
     ]
    }
   ],
   "source": [
    "# ข้อ 16\n",
    "complex1 = 1 + 2j\n",
    "print(f\"ค่าของ complex1 = {complex1}\")\n",
    "print(f\"ชนิดข้อมูล complex1 = {type(complex1)}\")"
   ]
  },
  {
   "cell_type": "code",
   "execution_count": null,
   "metadata": {},
   "outputs": [
    {
     "name": "stdout",
     "output_type": "stream",
     "text": [
      "1.0\n"
     ]
    }
   ],
   "source": [
    "# ข้อ 17\n",
    "complerx1 = 1 + 2j\n",
    "print(f\"ค่าจริงของ complex1 คือ {complerx1.real}\")"
   ]
  },
  {
   "cell_type": "code",
   "execution_count": null,
   "metadata": {},
   "outputs": [
    {
     "name": "stdout",
     "output_type": "stream",
     "text": [
      "จำนวนจินตภาพ complex1 = 2.0\n"
     ]
    }
   ],
   "source": [
    "# ข้อ 18\n",
    "complex1 = 1 + 2j\n",
    "print(f\"จำนวนจินตภาพ complex1 = {complex1.imag}\")"
   ]
  },
  {
   "attachments": {},
   "cell_type": "markdown",
   "metadata": {},
   "source": [
    "<h4>String</h4>\n",
    "<hr>\n"
   ]
  },
  {
   "cell_type": "code",
   "execution_count": null,
   "metadata": {},
   "outputs": [
    {
     "name": "stdout",
     "output_type": "stream",
     "text": [
      "Python\n",
      "<class 'str'>\n"
     ]
    }
   ],
   "source": [
    "# ข้อ 19\n",
    "string1 = \"Python\"\n",
    "print(string1)\n",
    "print(type(string1))"
   ]
  },
  {
   "cell_type": "code",
   "execution_count": null,
   "metadata": {},
   "outputs": [
    {
     "name": "stdout",
     "output_type": "stream",
     "text": [
      "P\n"
     ]
    }
   ],
   "source": [
    "# ข้อ 20\n",
    "string1 = \"Python\"\n",
    "print(string1[0])"
   ]
  },
  {
   "cell_type": "code",
   "execution_count": null,
   "metadata": {},
   "outputs": [
    {
     "name": "stdout",
     "output_type": "stream",
     "text": [
      "y\n"
     ]
    }
   ],
   "source": [
    "# ข้อ 21\n",
    "string1 = \"Python\"\n",
    "print(string1[1])"
   ]
  },
  {
   "cell_type": "code",
   "execution_count": null,
   "metadata": {},
   "outputs": [
    {
     "name": "stdout",
     "output_type": "stream",
     "text": [
      "n\n"
     ]
    }
   ],
   "source": [
    "# ข้อ 22\n",
    "string1 = \"Pytohn\"\n",
    "print(string1[-1])"
   ]
  },
  {
   "cell_type": "code",
   "execution_count": null,
   "metadata": {},
   "outputs": [
    {
     "name": "stdout",
     "output_type": "stream",
     "text": [
      "o\n"
     ]
    }
   ],
   "source": [
    "# ข้อ 23\n",
    "string1 = \"Python\"\n",
    "print(string1[-2])"
   ]
  },
  {
   "cell_type": "code",
   "execution_count": null,
   "metadata": {},
   "outputs": [
    {
     "name": "stdout",
     "output_type": "stream",
     "text": [
      "t\n"
     ]
    }
   ],
   "source": [
    "# ข้อ 24\n",
    "string1 = \"Python\"\n",
    "print(string1[2])"
   ]
  },
  {
   "cell_type": "code",
   "execution_count": null,
   "metadata": {},
   "outputs": [
    {
     "name": "stdout",
     "output_type": "stream",
     "text": [
      "h\n"
     ]
    }
   ],
   "source": [
    "# ข้อ 25\n",
    "string1 = \"Python\"\n",
    "print(string1[3])"
   ]
  },
  {
   "cell_type": "code",
   "execution_count": null,
   "metadata": {},
   "outputs": [
    {
     "name": "stdout",
     "output_type": "stream",
     "text": [
      "s[1] = y\n",
      "s[2] = t\n",
      "s[3] = h\n"
     ]
    }
   ],
   "source": [
    "# ข้อ 26\n",
    "string1 = \"Python\"\n",
    "s = string1\n",
    "print(f\"s[1] = {s[1]}\")\n",
    "print(f\"s[2] = {s[2]}\")\n",
    "print(f\"s[3] = {s[3]}\")"
   ]
  },
  {
   "cell_type": "code",
   "execution_count": null,
   "metadata": {},
   "outputs": [
    {
     "name": "stdout",
     "output_type": "stream",
     "text": [
      "s[2] = t\n",
      "s[1] = y\n",
      "s[0] = P\n",
      "s[-1] = n\n",
      "s[-2] = o\n"
     ]
    }
   ],
   "source": [
    "# ข้อ 27\n",
    "string1 = \"Python\"\n",
    "s = string1\n",
    "print(f\"s[2] = {s[2]}\")\n",
    "print(f\"s[1] = {s[1]}\")\n",
    "print(f\"s[0] = {s[0]}\")\n",
    "print(f\"s[-1] = {s[-1]}\")\n",
    "print(f\"s[-2] = {s[-2]}\")"
   ]
  },
  {
   "cell_type": "code",
   "execution_count": null,
   "metadata": {},
   "outputs": [
    {
     "name": "stdout",
     "output_type": "stream",
     "text": [
      "s[2] = t\n",
      "s[1] = y\n",
      "s[0] = P\n",
      "s[-1] = n\n"
     ]
    }
   ],
   "source": [
    "# ข้อ 28\n",
    "string1 = \"Python\"\n",
    "s = string1\n",
    "print(f\"s[2] = {s[2]}\")\n",
    "print(f\"s[1] = {s[1]}\")\n",
    "print(f\"s[0] = {s[0]}\")\n",
    "print(f\"s[-1] = {s[-1]}\")"
   ]
  },
  {
   "cell_type": "code",
   "execution_count": null,
   "metadata": {},
   "outputs": [
    {
     "name": "stdout",
     "output_type": "stream",
     "text": [
      "string[-4] = t\n",
      "string[-3] = h\n",
      "string[-2] = o\n",
      "string[-1] = n\n",
      "string[0] = P\n",
      "string[1] = y\n",
      "string[2] = t\n",
      "string[3] = h\n",
      "string[4] = o\n"
     ]
    }
   ],
   "source": [
    "# ข้อ 29\n",
    "string1 = \"Python\"\n",
    "for i in range(-4, 4 + 1, 1):\n",
    "    print(f\"string[{i}] = {string1[i]}\")"
   ]
  },
  {
   "cell_type": "code",
   "execution_count": null,
   "metadata": {},
   "outputs": [
    {
     "name": "stdout",
     "output_type": "stream",
     "text": [
      "string[-6] = P\n",
      "string[-5] = y\n",
      "string[-4] = t\n",
      "string[-3] = h\n",
      "string[-2] = o\n",
      "string[-1] = n\n",
      "string[0] = P\n",
      "string[1] = y\n",
      "string[2] = t\n",
      "string[3] = h\n",
      "string[4] = o\n"
     ]
    }
   ],
   "source": [
    "# ข้อ 30\n",
    "string1 = \"Python\"\n",
    "for i in range(-6, 4 + 1, 1):\n",
    "    print(f\"string[{i}] = {string1[i]}\")"
   ]
  },
  {
   "cell_type": "code",
   "execution_count": null,
   "metadata": {},
   "outputs": [
    {
     "name": "stdout",
     "output_type": "stream",
     "text": [
      "string[-4] = t\n",
      "string[-3] = h\n",
      "string[-2] = o\n"
     ]
    }
   ],
   "source": [
    "# ข้อ 31\n",
    "string1 = \"Python\"\n",
    "for i in range(-4, -2 + 1):\n",
    "    print(f\"string[{i}] = {string1[i]}\")"
   ]
  },
  {
   "cell_type": "code",
   "execution_count": null,
   "metadata": {},
   "outputs": [
    {
     "name": "stdout",
     "output_type": "stream",
     "text": [
      "อักขระของคุณคือ Hello World!\n",
      "ความยาวของอักขระคือ 12\n"
     ]
    }
   ],
   "source": [
    "# ข้อ 32\n",
    "_str = input(\"ข้อความ >>> \")\n",
    "print(f\"อักขระของคุณคือ {_str}\")\n",
    "print(f\"ความยาวของอักขระคือ {_str.__len__()}\")"
   ]
  },
  {
   "cell_type": "code",
   "execution_count": null,
   "metadata": {},
   "outputs": [
    {
     "name": "stdout",
     "output_type": "stream",
     "text": [
      "ข้อความของคุณคือ นี้คือข้อความที่มี อักษร 'ก'\n",
      "ข้อความนี้มี \"ก\" หรือไม่ = มี(True)\n"
     ]
    }
   ],
   "source": [
    "# ข้อ 33\n",
    "_str = input(\"ข้อความ >>> \")\n",
    "strIndex = _str.find(\"ก\")\n",
    "\n",
    "\n",
    "def covertToBoolean(b):\n",
    "    myBool = bool(b)\n",
    "    return myBool\n",
    "\n",
    "\n",
    "if strIndex == -1:\n",
    "    strIndex = 0\n",
    "else:\n",
    "    strIndex = 1\n",
    "\n",
    "txt = \"\"\n",
    "if covertToBoolean(strIndex):\n",
    "    txt = \"มี\"\n",
    "else:\n",
    "    txt = \"ไม่มี\"\n",
    "\n",
    "print(f\"ข้อความของคุณคือ {_str}\")\n",
    "print(f'ข้อความนี้มี \"ก\" หรือไม่ = {txt}({covertToBoolean(strIndex)})')"
   ]
  },
  {
   "cell_type": "code",
   "execution_count": null,
   "metadata": {},
   "outputs": [
    {
     "name": "stdout",
     "output_type": "stream",
     "text": [
      "1.) app\n",
      "2.) application\n",
      "app อยู่ใน application = True\n"
     ]
    }
   ],
   "source": [
    "# ข้อ 34\n",
    "s1 = input(\"ข้อความที่ 1 >> \")\n",
    "s2 = input(\"ข้อความที่ 2 >> \")\n",
    "\n",
    "print(f\"1.) {s1}\")\n",
    "print(f\"2.) {s2}\")\n",
    "print(f\"{s1} อยู่ใน {s2} = {s1 in s2}\")"
   ]
  },
  {
   "cell_type": "code",
   "execution_count": null,
   "metadata": {},
   "outputs": [
    {
     "name": "stdout",
     "output_type": "stream",
     "text": [
      "ข้อความเก่า axe\n",
      "ข้อความใหม่ Axe\n"
     ]
    }
   ],
   "source": [
    "# ข้อ 35\n",
    "sInput = input(\"ข้อความ >> \")\n",
    "print(f\"ข้อความเก่า {sInput}\")\n",
    "sInput = sInput.replace(\"a\", \"A\")\n",
    "print(f\"ข้อความใหม่ {sInput}\")"
   ]
  },
  {
   "cell_type": "code",
   "execution_count": null,
   "metadata": {},
   "outputs": [
    {
     "name": "stdout",
     "output_type": "stream",
     "text": [
      "sInput = eat\n",
      "string2 = eAt\n"
     ]
    }
   ],
   "source": [
    "# ข้อ 36\n",
    "sInput = input(\"ข้อความ >> \")\n",
    "print(f\"sInput = {sInput}\")\n",
    "string2 = sInput.replace(\"a\", \"A\")\n",
    "print(f\"string2 = {string2}\")"
   ]
  },
  {
   "cell_type": "code",
   "execution_count": null,
   "metadata": {},
   "outputs": [
    {
     "name": "stdout",
     "output_type": "stream",
     "text": [
      "เรา กำลัง เขียน Python อยู่ ใน Vscode\n",
      "['เรา', 'กำลัง', 'เขียน', 'Python', 'อยู่', 'ใน', 'Vscode']\n"
     ]
    }
   ],
   "source": [
    "# ข้อ 37\n",
    "sentence = input(\"บทสนทนา >> \")\n",
    "print(sentence)\n",
    "sentence = sentence.split(\" \")\n",
    "print(sentence)"
   ]
  },
  {
   "cell_type": "code",
   "execution_count": null,
   "metadata": {},
   "outputs": [
    {
     "name": "stdout",
     "output_type": "stream",
     "text": [
      "C++\n",
      "['C', '', '']\n"
     ]
    }
   ],
   "source": [
    "# ข้อ 38\n",
    "sentence = input(\"บทสนาทนา >> \")\n",
    "c = input(\"\")\n",
    "print(sentence)\n",
    "sentence = sentence.split(c)\n",
    "print(sentence)"
   ]
  },
  {
   "cell_type": "code",
   "execution_count": null,
   "metadata": {},
   "outputs": [
    {
     "name": "stdout",
     "output_type": "stream",
     "text": [
      "str1 = Py\n",
      "str2 = thon\n",
      "รวมกันได้ = Python\n"
     ]
    }
   ],
   "source": [
    "# ข้อ 39\n",
    "str1 = input(\"ข้อความที่ 1 >> \")\n",
    "str2 = input(\"ข้อความที่ 2 >> \")\n",
    "concatStr = str1 + str2\n",
    "print(f\"str1 = {str1}\\nstr2 = {str2}\\nรวมกันได้ = {concatStr}\")"
   ]
  },
  {
   "attachments": {},
   "cell_type": "markdown",
   "metadata": {},
   "source": [
    "<h4>List</h4>\n",
    "<hr>\n"
   ]
  },
  {
   "cell_type": "code",
   "execution_count": null,
   "metadata": {},
   "outputs": [
    {
     "name": "stdout",
     "output_type": "stream",
     "text": [
      "[0, 1, 2, 'a', 'b', 'c']\n"
     ]
    }
   ],
   "source": [
    "# ข้อ 40\n",
    "li = [0, 1, 2, \"a\", \"b\", \"c\"]\n",
    "print(li)"
   ]
  },
  {
   "cell_type": "code",
   "execution_count": null,
   "metadata": {},
   "outputs": [
    {
     "name": "stdout",
     "output_type": "stream",
     "text": [
      "2\n"
     ]
    }
   ],
   "source": [
    "# ข้อ 41\n",
    "list1 = [0, 1, 2, \"a\", \"b\", \"c\"]\n",
    "print(list1[2])"
   ]
  },
  {
   "cell_type": "code",
   "execution_count": null,
   "metadata": {},
   "outputs": [
    {
     "name": "stdout",
     "output_type": "stream",
     "text": [
      "a\n"
     ]
    }
   ],
   "source": [
    "# ข้อ 42\n",
    "list1 = [0, 1, 2, \"a\", \"b\", \"c\"]\n",
    "print(list1[-3])"
   ]
  },
  {
   "cell_type": "code",
   "execution_count": null,
   "metadata": {},
   "outputs": [
    {
     "name": "stdout",
     "output_type": "stream",
     "text": [
      "0\n"
     ]
    }
   ],
   "source": [
    "# ข้อ 43\n",
    "list1 = [0, 1, 2, \"a\", \"b\", \"c\"]\n",
    "print(list1[0])"
   ]
  },
  {
   "cell_type": "code",
   "execution_count": null,
   "metadata": {},
   "outputs": [
    {
     "name": "stdout",
     "output_type": "stream",
     "text": [
      "b\n"
     ]
    }
   ],
   "source": [
    "# ข้อ 44\n",
    "list1 = [0, 1, 2, \"a\", \"b\", \"c\"]\n",
    "print(list1[list1.index(\"b\")])"
   ]
  },
  {
   "cell_type": "code",
   "execution_count": null,
   "metadata": {},
   "outputs": [
    {
     "name": "stdout",
     "output_type": "stream",
     "text": [
      "2\n",
      "a\n"
     ]
    }
   ],
   "source": [
    "# ข้อ 45\n",
    "list1 = [0, 1, 2, \"a\", \"b\", \"c\"]\n",
    "for i in range(2, 3 + 1):\n",
    "    print(list1[i])"
   ]
  },
  {
   "cell_type": "code",
   "execution_count": null,
   "metadata": {},
   "outputs": [
    {
     "name": "stdout",
     "output_type": "stream",
     "text": [
      "1\n",
      "0\n",
      "c\n",
      "b\n"
     ]
    }
   ],
   "source": [
    "# ข้อ 46\n",
    "list1 = [0, 1, 2, \"a\", \"b\", \"c\"]\n",
    "for j in range(1, -2 - 1, -1):\n",
    "    print(list1[j])"
   ]
  },
  {
   "cell_type": "code",
   "execution_count": null,
   "metadata": {},
   "outputs": [
    {
     "name": "stdout",
     "output_type": "stream",
     "text": [
      "[1, 2, 'a', 'b']\n"
     ]
    }
   ],
   "source": [
    "# ข้อ 47\n",
    "list1 = [0, 1, 2, \"a\", \"b\", \"c\"]\n",
    "list1.pop(-1)\n",
    "list1.pop(0)\n",
    "print(list1)"
   ]
  },
  {
   "cell_type": "code",
   "execution_count": null,
   "metadata": {},
   "outputs": [
    {
     "name": "stdout",
     "output_type": "stream",
     "text": [
      "['a', 'b', 'c']\n"
     ]
    }
   ],
   "source": [
    "# ข้อ 48\n",
    "list1 = [0, 1, 2, \"a\", \"b\", \"c\"]\n",
    "for k in range(2, 0 - 1, -1):\n",
    "    list1.pop(k)\n",
    "print(list1)"
   ]
  },
  {
   "cell_type": "code",
   "execution_count": null,
   "metadata": {},
   "outputs": [
    {
     "name": "stdout",
     "output_type": "stream",
     "text": [
      "[0, 1, 2]\n"
     ]
    }
   ],
   "source": [
    "# ข้อ 49\n",
    "list1 = [0, 1, 2, \"a\", \"b\", \"c\"]\n",
    "newList = []\n",
    "for i in range(0, 3):\n",
    "    newList.append(list1[i])\n",
    "list1 = newList\n",
    "print(list1)"
   ]
  },
  {
   "cell_type": "code",
   "execution_count": null,
   "metadata": {},
   "outputs": [
    {
     "name": "stdout",
     "output_type": "stream",
     "text": [
      "['and', 'bird', 'cat', 'duck', 'eagle']\n"
     ]
    }
   ],
   "source": [
    "# ข้อ 50\n",
    "list2 = [\"and\", \"bird\", \"cat\", \"dog\", \"eagle\"]\n",
    "index = list2.index(\"dog\")\n",
    "list2[index] = \"duck\"\n",
    "print(list2)"
   ]
  },
  {
   "cell_type": "code",
   "execution_count": null,
   "metadata": {},
   "outputs": [
    {
     "name": "stdout",
     "output_type": "stream",
     "text": [
      "['ape', 'bird', 'cat', 'dog', 'eagle']\n"
     ]
    }
   ],
   "source": [
    "# ข้อ 51\n",
    "list2 = [\"and\", \"bird\", \"cat\", \"dog\", \"eagle\"]\n",
    "list2[0] = \"ape\"\n",
    "print(list2)"
   ]
  },
  {
   "cell_type": "code",
   "execution_count": null,
   "metadata": {},
   "outputs": [
    {
     "name": "stdout",
     "output_type": "stream",
     "text": [
      "['and', 'bird', 'cat', 'dog', 'eagle', 'fish']\n"
     ]
    }
   ],
   "source": [
    "# ข้อ 52\n",
    "list2 = [\"and\", \"bird\", \"cat\", \"dog\", \"eagle\"]\n",
    "list2.append(\"fish\")\n",
    "print(list2)"
   ]
  },
  {
   "cell_type": "code",
   "execution_count": null,
   "metadata": {},
   "outputs": [
    {
     "name": "stdout",
     "output_type": "stream",
     "text": [
      "['str1', 'str2', 'str3']\n"
     ]
    }
   ],
   "source": [
    "# ข้อ 53\n",
    "empty_list = []\n",
    "for i in range(0, 3):\n",
    "    _str = input(f\"ข้อความที่ {i + 1} >> \")\n",
    "    empty_list.append(_str)\n",
    "print(empty_list)"
   ]
  },
  {
   "cell_type": "code",
   "execution_count": null,
   "metadata": {},
   "outputs": [
    {
     "name": "stdout",
     "output_type": "stream",
     "text": [
      "['apple', 'banana', 'cherry', 'eggfruit']\n"
     ]
    }
   ],
   "source": [
    "# ข้อ 54\n",
    "list3 = [\"apple\", \"cherry\", \"eggfruit\"]\n",
    "list3.insert(1, \"banana\")\n",
    "print(list3)"
   ]
  },
  {
   "cell_type": "code",
   "execution_count": null,
   "metadata": {},
   "outputs": [
    {
     "name": "stdout",
     "output_type": "stream",
     "text": [
      "['apple', 'banana', 'kiwi', 'cherry', 'eggfruit']\n"
     ]
    }
   ],
   "source": [
    "# ข้อ 55\n",
    "list3 = [\"apple\", \"banana\", \"cherry\", \"eggfruit\"]\n",
    "list3.insert(-2, \"kiwi\")\n",
    "print(list3)"
   ]
  },
  {
   "cell_type": "code",
   "execution_count": null,
   "metadata": {},
   "outputs": [
    {
     "name": "stdout",
     "output_type": "stream",
     "text": [
      "[0, 1, 2, 3, 4]\n"
     ]
    }
   ],
   "source": [
    "# ข้อ 56\n",
    "list4 = [0, 4, 2, 3, 1]\n",
    "list4.sort()\n",
    "print(list4)"
   ]
  },
  {
   "cell_type": "code",
   "execution_count": null,
   "metadata": {},
   "outputs": [
    {
     "name": "stdout",
     "output_type": "stream",
     "text": [
      "[4, 3, 2, 1, 0]\n"
     ]
    }
   ],
   "source": [
    "# ข้อ 57\n",
    "list4 = [0, 4, 2, 3, 1]\n",
    "list4.sort()\n",
    "list4.reverse()\n",
    "print(list4)"
   ]
  },
  {
   "cell_type": "code",
   "execution_count": null,
   "metadata": {},
   "outputs": [
    {
     "name": "stdout",
     "output_type": "stream",
     "text": [
      "[0, 1, 2, 3, 4]\n"
     ]
    }
   ],
   "source": [
    "# ข้อ 58\n",
    "list4 = [0, 4, 2, 3, 1]\n",
    "sorted_list4 = sorted(list4)\n",
    "print(sorted_list4)"
   ]
  },
  {
   "cell_type": "code",
   "execution_count": null,
   "metadata": {},
   "outputs": [
    {
     "name": "stdout",
     "output_type": "stream",
     "text": [
      "[4, 3, 2, 1, 0]\n"
     ]
    }
   ],
   "source": [
    "# ข้อ 59\n",
    "list4 = [0, 4, 2, 3, 1]\n",
    "sorted_list4 = sorted(list4, reverse=True)\n",
    "print(sorted_list4)"
   ]
  },
  {
   "cell_type": "code",
   "execution_count": null,
   "metadata": {},
   "outputs": [
    {
     "name": "stdout",
     "output_type": "stream",
     "text": [
      "['a', 'b', 'c', 'd', 'e']\n"
     ]
    }
   ],
   "source": [
    "# ข้อ 60\n",
    "list5 = ['d','a','c','b','e']\n",
    "list5.sort()\n",
    "print(list5)"
   ]
  },
  {
   "cell_type": "code",
   "execution_count": null,
   "metadata": {},
   "outputs": [
    {
     "name": "stdout",
     "output_type": "stream",
     "text": [
      "['e', 'd', 'c', 'b', 'a']\n"
     ]
    }
   ],
   "source": [
    "# ข้อ 61\n",
    "list5 = ['d','a','c','b','e']\n",
    "list5.sort(reverse=True)\n",
    "print(list5)"
   ]
  },
  {
   "cell_type": "code",
   "execution_count": null,
   "metadata": {},
   "outputs": [
    {
     "name": "stdout",
     "output_type": "stream",
     "text": [
      "['a', 'b', 'c', 0, 1, 2] \n",
      "[0, 1, 2]\n"
     ]
    }
   ],
   "source": [
    "# ข้อ 62\n",
    "list1 = ['a','b','c']\n",
    "list2 = [0,1,2]\n",
    "for item in list2:\n",
    "    list1.append(item)\n",
    "print(f'{list1} \\n{list2}')"
   ]
  },
  {
   "cell_type": "code",
   "execution_count": null,
   "metadata": {},
   "outputs": [
    {
     "name": "stdout",
     "output_type": "stream",
     "text": [
      "['a', 'b', 'c'] \n",
      "[0, 1, 2, 'a', 'b', 'c']\n"
     ]
    }
   ],
   "source": [
    "# ข้อ 63\n",
    "list1 = ['a','b','c']\n",
    "list2 = [0,1,2]\n",
    "list2.extend(list1)\n",
    "print(f'{list1} \\n{list2}')"
   ]
  },
  {
   "cell_type": "code",
   "execution_count": null,
   "metadata": {},
   "outputs": [
    {
     "name": "stdout",
     "output_type": "stream",
     "text": [
      "[1, 3, 1, 2, 3]\n"
     ]
    }
   ],
   "source": [
    "# ข้อ 64\n",
    "list1 = [1,2,3,1,2,3]\n",
    "del list1[1]\n",
    "print(list1)"
   ]
  },
  {
   "cell_type": "code",
   "execution_count": null,
   "metadata": {},
   "outputs": [
    {
     "name": "stdout",
     "output_type": "stream",
     "text": [
      "[1, 2, 1, 2]\n"
     ]
    }
   ],
   "source": [
    "# ข้อ 65\n",
    "list1 = [1,2,3,1,2,3]\n",
    "while True:\n",
    "    if(3 in list1):\n",
    "        idx = list1.index(3)\n",
    "        del list1[idx]\n",
    "    else: break\n",
    "print(list1)"
   ]
  },
  {
   "cell_type": "code",
   "execution_count": null,
   "metadata": {},
   "outputs": [
    {
     "name": "stdout",
     "output_type": "stream",
     "text": [
      "[2, 3, 1, 2, 3]\n"
     ]
    }
   ],
   "source": [
    "# ข้อ 66\n",
    "list1 = [1,2,3,1,2,3]\n",
    "list1.remove(1)\n",
    "print(list1)"
   ]
  },
  {
   "cell_type": "code",
   "execution_count": null,
   "metadata": {},
   "outputs": [
    {
     "name": "stdout",
     "output_type": "stream",
     "text": [
      "[2, 3, 2, 3]\n"
     ]
    }
   ],
   "source": [
    "# ข้อ 67\n",
    "list1 = [1,2,3,1,2,3]\n",
    "while 1 in list1:\n",
    "    list1.remove(1)\n",
    "print(list1)"
   ]
  },
  {
   "cell_type": "code",
   "execution_count": null,
   "metadata": {},
   "outputs": [
    {
     "name": "stdout",
     "output_type": "stream",
     "text": [
      "[]\n"
     ]
    }
   ],
   "source": [
    "# ข้อ 68\n",
    "list1 = [1,2,3,1,2,3]\n",
    "list1.clear()\n",
    "print(list1)"
   ]
  },
  {
   "cell_type": "code",
   "execution_count": null,
   "metadata": {},
   "outputs": [
    {
     "name": "stdout",
     "output_type": "stream",
     "text": [
      "6\n"
     ]
    }
   ],
   "source": [
    "# ข้อ 69\n",
    "list1 = [1,2,3,'a','b','c']\n",
    "print(len(list1))"
   ]
  },
  {
   "cell_type": "code",
   "execution_count": null,
   "metadata": {},
   "outputs": [
    {
     "name": "stdout",
     "output_type": "stream",
     "text": [
      "True\n"
     ]
    }
   ],
   "source": [
    "# ข้อ 70\n",
    "list1 = [*range(1,5+1)]\n",
    "_input = int(input('ตัวเลข >> '))\n",
    "_bool = list1.__contains__(_input) # _bool = _input in list1\n",
    "print(_bool)"
   ]
  },
  {
   "cell_type": "markdown",
   "metadata": {},
   "source": [
    "<h4>Tuple</h4>\n",
    "<hr>"
   ]
  },
  {
   "cell_type": "code",
   "execution_count": null,
   "metadata": {},
   "outputs": [
    {
     "name": "stdout",
     "output_type": "stream",
     "text": [
      "('America', 'Brazil', 'China', 'Do-minican', 'Egypt')\n",
      "<class 'tuple'>\n"
     ]
    }
   ],
   "source": [
    "# ข้อ 71\n",
    "tu = tuple(['America' , 'Brazil' , 'China' , 'Do-minican' , 'Egypt'])\n",
    "print(tu)\n",
    "print(type(tu))"
   ]
  },
  {
   "cell_type": "code",
   "execution_count": null,
   "metadata": {},
   "outputs": [
    {
     "name": "stdout",
     "output_type": "stream",
     "text": [
      "Brazil\n"
     ]
    }
   ],
   "source": [
    "# ข้อ 72\n",
    "tu = ('America' , 'Brazil' , 'China' , 'Do-minican' , 'Egypt')\n",
    "print(tu[1])"
   ]
  },
  {
   "cell_type": "code",
   "execution_count": null,
   "metadata": {},
   "outputs": [
    {
     "name": "stdout",
     "output_type": "stream",
     "text": [
      "Do-minican\n"
     ]
    }
   ],
   "source": [
    "# ข้อ 73\n",
    "print(tu[-2])"
   ]
  },
  {
   "cell_type": "code",
   "execution_count": null,
   "metadata": {},
   "outputs": [
    {
     "name": "stdout",
     "output_type": "stream",
     "text": [
      "China\n"
     ]
    }
   ],
   "source": [
    "# ข้อ 74\n",
    "tuple1 = tu\n",
    "print(tuple1[2])"
   ]
  },
  {
   "cell_type": "code",
   "execution_count": null,
   "metadata": {},
   "outputs": [
    {
     "name": "stdout",
     "output_type": "stream",
     "text": [
      "Egypt\n"
     ]
    }
   ],
   "source": [
    "# ข้อ 75\n",
    "print(tuple1[-1])"
   ]
  },
  {
   "cell_type": "code",
   "execution_count": null,
   "metadata": {},
   "outputs": [
    {
     "name": "stdout",
     "output_type": "stream",
     "text": [
      "index ที่ 1 ของ tuple2 คือ two\n",
      "index ที่ 2 ของ tuple2 คือ three\n",
      "index ที่ 3 ของ tuple2 คือ 1\n"
     ]
    }
   ],
   "source": [
    "# ข้อ 76\n",
    "tuple2 = ('one' , 'two' , 'three' , 1 , 2 , 3)\n",
    "for i in range(1 , 3 + 1):\n",
    "    print(f'index ที่ {i} ของ tuple2 คือ {tuple2[i]}')"
   ]
  },
  {
   "cell_type": "code",
   "execution_count": null,
   "metadata": {},
   "outputs": [
    {
     "name": "stdout",
     "output_type": "stream",
     "text": [
      "three 1 2 3 "
     ]
    }
   ],
   "source": [
    "# ข้อ 77\n",
    "for j in tuple2[2:]: print(j , end=' ')"
   ]
  },
  {
   "cell_type": "code",
   "execution_count": null,
   "metadata": {},
   "outputs": [
    {
     "name": "stdout",
     "output_type": "stream",
     "text": [
      "three\n",
      "1\n"
     ]
    }
   ],
   "source": [
    "# ข้อ 78\n",
    "li = ['three' , 1]\n",
    "k = 0\n",
    "while k < li.__len__():\n",
    "    idx = tuple2.index(li[k])\n",
    "    print(tuple2[idx])\n",
    "    k += 1"
   ]
  },
  {
   "cell_type": "code",
   "execution_count": null,
   "metadata": {},
   "outputs": [
    {
     "name": "stdout",
     "output_type": "stream",
     "text": [
      "('one', 'two', 'three')\n"
     ]
    }
   ],
   "source": [
    "# ข้อ 79\n",
    "print(tuple2[0 : 2 + 1])"
   ]
  },
  {
   "cell_type": "code",
   "execution_count": null,
   "metadata": {},
   "outputs": [
    {
     "name": "stdout",
     "output_type": "stream",
     "text": [
      "(1, 2, 3)\n"
     ]
    }
   ],
   "source": [
    "# ข้อ 80\n",
    "print(tuple2[3:])"
   ]
  },
  {
   "cell_type": "code",
   "execution_count": null,
   "metadata": {},
   "outputs": [
    {
     "name": "stdout",
     "output_type": "stream",
     "text": [
      "5\n"
     ]
    }
   ],
   "source": [
    "# ข้อ 81\n",
    "tuple3 = ('one','two','three','four','five')\n",
    "print(len(tuple3))"
   ]
  },
  {
   "cell_type": "code",
   "execution_count": null,
   "metadata": {},
   "outputs": [
    {
     "name": "stdout",
     "output_type": "stream",
     "text": [
      "two อยู่ใน Tuple3\n",
      "True\n"
     ]
    }
   ],
   "source": [
    "# ข้อ 82\n",
    "str1 = input(\"\")\n",
    "boo = str1 in tuple3\n",
    "print(f'{str1} อยู่ใน Tuple3') if boo else print(f'{str1} ไม่อยู่ใน Tuple3')\n",
    "print(boo)"
   ]
  },
  {
   "cell_type": "markdown",
   "metadata": {},
   "source": [
    "<h4>Dictionary</h4>\n",
    "<hr>"
   ]
  },
  {
   "cell_type": "code",
   "execution_count": null,
   "metadata": {},
   "outputs": [
    {
     "name": "stdout",
     "output_type": "stream",
     "text": [
      "{'first_name': 'John', 'last_name': 'Doe'} <class 'dict'>\n"
     ]
    }
   ],
   "source": [
    "# ข้อ 83\n",
    "dic = {\n",
    "    'first_name': 'John',\n",
    "    'last_name': 'Doe'\n",
    "}\n",
    "print(dic , type(dic))"
   ]
  },
  {
   "cell_type": "code",
   "execution_count": null,
   "metadata": {},
   "outputs": [
    {
     "name": "stdout",
     "output_type": "stream",
     "text": [
      "John\n"
     ]
    }
   ],
   "source": [
    "# ข้อ 84\n",
    "print(dic[\"first_name\"])"
   ]
  },
  {
   "cell_type": "code",
   "execution_count": null,
   "metadata": {},
   "outputs": [
    {
     "name": "stdout",
     "output_type": "stream",
     "text": [
      "Doe\n"
     ]
    }
   ],
   "source": [
    "# ข้อ 85\n",
    "print(dic[\"last_name\"])"
   ]
  },
  {
   "cell_type": "code",
   "execution_count": null,
   "metadata": {},
   "outputs": [
    {
     "name": "stdout",
     "output_type": "stream",
     "text": [
      "dict_keys(['firt_name', 'last_name'])\n"
     ]
    }
   ],
   "source": [
    "# ข้อ 86\n",
    "print(dic.keys())"
   ]
  },
  {
   "cell_type": "code",
   "execution_count": null,
   "metadata": {},
   "outputs": [
    {
     "name": "stdout",
     "output_type": "stream",
     "text": [
      "['John', 'Doe']\n"
     ]
    }
   ],
   "source": [
    "# ข้อ 87\n",
    "l = list(dic.values())\n",
    "print(l)"
   ]
  },
  {
   "cell_type": "code",
   "execution_count": null,
   "metadata": {},
   "outputs": [
    {
     "name": "stdout",
     "output_type": "stream",
     "text": [
      "{'first_name': 'Jane', 'last_name': 'Doe'}\n"
     ]
    }
   ],
   "source": [
    "# ข้อ 88\n",
    "dict1 = dic\n",
    "dict1[\"first_name\"] = \"Jane\"\n",
    "print(dict1)"
   ]
  },
  {
   "cell_type": "code",
   "execution_count": null,
   "metadata": {},
   "outputs": [
    {
     "name": "stdout",
     "output_type": "stream",
     "text": [
      "{'first_name': 'Jane', 'last_name': 'Doe', 'age': 32}\n"
     ]
    }
   ],
   "source": [
    "# ข้อ 89\n",
    "dict1[\"age\"] = 32\n",
    "print(dict1)"
   ]
  },
  {
   "cell_type": "code",
   "execution_count": null,
   "metadata": {},
   "outputs": [
    {
     "name": "stdout",
     "output_type": "stream",
     "text": [
      "{'first_name': 'Jane', 'last_name': 'Doe', 'age': 32, 'hobby': ['coding', 'studying']}\n"
     ]
    }
   ],
   "source": [
    "# ข้อ 90\n",
    "dict1[\"age\"] = 32\n",
    "dict1['hobby'] = ['coding' , 'studying']\n",
    "print(dict1)"
   ]
  },
  {
   "cell_type": "code",
   "execution_count": null,
   "metadata": {},
   "outputs": [
    {
     "name": "stdout",
     "output_type": "stream",
     "text": [
      "{'TH': 'thailand'}\n"
     ]
    }
   ],
   "source": [
    "# ข้อ 91\n",
    "dictionary = {}\n",
    "str1 = input(\"Key of dictionary >> \")\n",
    "str2 = input(\"Value of dictionary >> \")\n",
    "dictionary[str1] = str2\n",
    "print(dictionary)"
   ]
  },
  {
   "cell_type": "code",
   "execution_count": null,
   "metadata": {},
   "outputs": [
    {
     "name": "stdout",
     "output_type": "stream",
     "text": [
      "{'first_name': 'John ', 'last_name': 'Doe'}\n"
     ]
    }
   ],
   "source": [
    "# ข้อ 92\n",
    "dict1 = {\n",
    "    'first_name': 'John ', \n",
    "    'last_name': 'Doe', \n",
    "    'age': 32\n",
    "}\n",
    "del dict1['age']\n",
    "print(dict1)"
   ]
  },
  {
   "cell_type": "code",
   "execution_count": null,
   "metadata": {},
   "outputs": [
    {
     "name": "stdout",
     "output_type": "stream",
     "text": [
      "{}\n"
     ]
    }
   ],
   "source": [
    "# ข้อ 93\n",
    "dict1 = {\n",
    "    'first_name': 'John', \n",
    "    'last_name': 'Doe', \n",
    "    'age': 32\n",
    "}\n",
    "dict1.clear()\n",
    "print(dict1)"
   ]
  },
  {
   "cell_type": "code",
   "execution_count": null,
   "metadata": {},
   "outputs": [
    {
     "name": "stdout",
     "output_type": "stream",
     "text": [
      "3\n"
     ]
    }
   ],
   "source": [
    "# ข้อ 94\n",
    "dict1 = {\n",
    "    'first_name': 'John', \n",
    "    'last_name': 'Doe', \n",
    "    'age': 32\n",
    "}\n",
    "print(len(dict1))"
   ]
  },
  {
   "cell_type": "code",
   "execution_count": null,
   "metadata": {},
   "outputs": [
    {
     "name": "stdout",
     "output_type": "stream",
     "text": [
      "first_name อยู่ใน dict1\n",
      "True\n",
      "tel ไม่อยู่ใน dict1\n",
      "False\n"
     ]
    }
   ],
   "source": [
    "# ข้อ 95\n",
    "def checkKeys():\n",
    "    str1 = input(\"รับค่า >> \")\n",
    "    boo = str1 in dict1\n",
    "    print(f\"{str1} อยู่ใน dict1\" if boo else f\"{str1} ไม่อยู่ใน dict1\")\n",
    "    print(boo)\n",
    "    \n",
    "checkKeys()\n",
    "checkKeys()"
   ]
  },
  {
   "cell_type": "code",
   "execution_count": null,
   "metadata": {},
   "outputs": [
    {
     "name": "stdout",
     "output_type": "stream",
     "text": [
      "['John', 'Doe', 32]\n",
      "True\n"
     ]
    }
   ],
   "source": [
    "# ข้อ 96\n",
    "str1 = input(\"รับค่า >> \")\n",
    "li = list(dict1.values())\n",
    "print(li)\n",
    "print(str1 in li)"
   ]
  },
  {
   "cell_type": "markdown",
   "metadata": {},
   "source": [
    "<h4>Set</h4>\n",
    "<hr>"
   ]
  },
  {
   "cell_type": "code",
   "execution_count": null,
   "metadata": {},
   "outputs": [
    {
     "name": "stdout",
     "output_type": "stream",
     "text": [
      "{1, 2, 3, 'ii', 'iii', 'i'} <class 'set'>\n"
     ]
    }
   ],
   "source": [
    "# ข้อ 97\n",
    "s = {1,2,3,'i','ii','iii'}\n",
    "print(s , type(s))"
   ]
  },
  {
   "cell_type": "code",
   "execution_count": null,
   "metadata": {},
   "outputs": [
    {
     "name": "stdout",
     "output_type": "stream",
     "text": [
      "1 , 2 , 3 , ii , iii , i\n"
     ]
    }
   ],
   "source": [
    "# ข้อ 98\n",
    "print(*s , sep=' , ')"
   ]
  },
  {
   "cell_type": "code",
   "execution_count": null,
   "metadata": {},
   "outputs": [
    {
     "name": "stdout",
     "output_type": "stream",
     "text": [
      "{1, 2, 3, 'ii', 'iii', 'i', 'iv'}\n"
     ]
    }
   ],
   "source": [
    "# ข้อ 99\n",
    "s.add('iv')\n",
    "print(s)"
   ]
  },
  {
   "cell_type": "code",
   "execution_count": null,
   "metadata": {},
   "outputs": [
    {
     "name": "stdout",
     "output_type": "stream",
     "text": [
      "{1, 2, 3, 'ii', 'iii', 'i', 'iv'}\n"
     ]
    }
   ],
   "source": [
    "# ข้อ 100\n",
    "s.add(1)\n",
    "print(s)"
   ]
  },
  {
   "cell_type": "code",
   "execution_count": null,
   "metadata": {},
   "outputs": [
    {
     "name": "stdout",
     "output_type": "stream",
     "text": [
      "{'ข้อมูลตัวที่1', 'ข้อมูลตัวที่2', 'ข้อมูลตัวที่3'}\n"
     ]
    }
   ],
   "source": [
    "# ข้อ 101\n",
    "emp_set = set({})\n",
    "for i in range(1 , 4):\n",
    "    str1 = input(f\"รับค่าข้อมูล set ตัวที่ {i}\")\n",
    "    emp_set.add(str1)\n",
    "print(emp_set)"
   ]
  },
  {
   "cell_type": "code",
   "execution_count": null,
   "metadata": {},
   "outputs": [
    {
     "name": "stdout",
     "output_type": "stream",
     "text": [
      "{'s', 'd', 'g'}\n"
     ]
    }
   ],
   "source": [
    "# ข้อ 102\n",
    "emp_set = set({})\n",
    "for i in range(1 , 4):\n",
    "    str1 = input(f\"รับค่าข้อมูล set ตัวที่ {i}\")\n",
    "    emp_set.update(str(str1))\n",
    "new_set = emp_set \n",
    "print(new_set)"
   ]
  },
  {
   "cell_type": "code",
   "execution_count": null,
   "metadata": {},
   "outputs": [
    {
     "name": "stdout",
     "output_type": "stream",
     "text": [
      "{1, 2, 3, 'ii', 'iii'}\n"
     ]
    }
   ],
   "source": [
    "# ข่้อ 103\n",
    "set1 = {1,2,3,'i','ii','iii'}\n",
    "set1.discard('i')\n",
    "print(set1)"
   ]
  },
  {
   "cell_type": "code",
   "execution_count": null,
   "metadata": {},
   "outputs": [
    {
     "name": "stdout",
     "output_type": "stream",
     "text": [
      "6\n"
     ]
    }
   ],
   "source": [
    "# ข้อ 104\n",
    "set1 = {1,2,3,'i','ii','iii'}\n",
    "print(set1.__len__())"
   ]
  },
  {
   "cell_type": "code",
   "execution_count": null,
   "metadata": {},
   "outputs": [
    {
     "name": "stdout",
     "output_type": "stream",
     "text": [
      "True\n"
     ]
    }
   ],
   "source": [
    "# ข้อ 105\n",
    "int1 = int(input(\"ตัวเลข >> \"))\n",
    "print(set1.__contains__(int1))\n"
   ]
  },
  {
   "cell_type": "code",
   "execution_count": null,
   "metadata": {},
   "outputs": [
    {
     "name": "stdout",
     "output_type": "stream",
     "text": [
      "{1, 2, 3, 4, 5, 6}\n"
     ]
    }
   ],
   "source": [
    "# ข้อ 106\n",
    "set1 ={ *range(1,5 + 1) }\n",
    "set2 = { *range(3,6 + 1) }\n",
    "result = set1.union(set2)\n",
    "print(result)"
   ]
  },
  {
   "cell_type": "code",
   "execution_count": null,
   "metadata": {},
   "outputs": [
    {
     "name": "stdout",
     "output_type": "stream",
     "text": [
      "{3, 4, 5}\n"
     ]
    }
   ],
   "source": [
    "# ข้อ 107\n",
    "result = set1.intersection(set2)\n",
    "print(result)"
   ]
  },
  {
   "cell_type": "code",
   "execution_count": null,
   "metadata": {},
   "outputs": [
    {
     "name": "stdout",
     "output_type": "stream",
     "text": [
      "{1, 2}\n"
     ]
    }
   ],
   "source": [
    "# ข้อ 108\n",
    "print(set1 - set2)"
   ]
  },
  {
   "cell_type": "code",
   "execution_count": null,
   "metadata": {},
   "outputs": [
    {
     "name": "stdout",
     "output_type": "stream",
     "text": [
      "{6}\n"
     ]
    }
   ],
   "source": [
    "# ข้อ 109\n",
    "print(set2 - set1)"
   ]
  },
  {
   "cell_type": "code",
   "execution_count": null,
   "metadata": {},
   "outputs": [
    {
     "name": "stdout",
     "output_type": "stream",
     "text": [
      "{1, 2, 6}\n"
     ]
    }
   ],
   "source": [
    "# ข้อ 110\n",
    "print(set1.symmetric_difference(set2))"
   ]
  }
 ],
 "metadata": {
  "kernelspec": {
   "display_name": "Python 3",
   "language": "python",
   "name": "python3"
  },
  "language_info": {
   "codemirror_mode": {
    "name": "ipython",
    "version": 3
   },
   "file_extension": ".py",
   "mimetype": "text/x-python",
   "name": "python",
   "nbconvert_exporter": "python",
   "pygments_lexer": "ipython3",
   "version": "3.10.11"
  },
  "orig_nbformat": 4
 },
 "nbformat": 4,
 "nbformat_minor": 2
}
