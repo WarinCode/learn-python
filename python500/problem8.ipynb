{
 "cells": [
  {
   "cell_type": "markdown",
   "metadata": {},
   "source": [
    "<h1 style=\"text-align: center;\">บทที่ 8 IF-ELSE(PROBLEM)</h1>\n",
    "<hr>"
   ]
  },
  {
   "cell_type": "code",
   "execution_count": 5,
   "metadata": {},
   "outputs": [
    {
     "name": "stdout",
     "output_type": "stream",
     "text": [
      "10 เป็นเลขคู่\n"
     ]
    }
   ],
   "source": [
    "# ข้อ 1\n",
    "n = int(input(\"ใส่ตัวเลข >> \"))\n",
    "print(f\"{n} เป็นเลขคู่\" if n % 2 == 0 else f\"{n} เป็นเลขคี่\")"
   ]
  },
  {
   "cell_type": "code",
   "execution_count": 8,
   "metadata": {},
   "outputs": [
    {
     "name": "stdout",
     "output_type": "stream",
     "text": [
      "-4\n",
      "น้อยกว่า 0\n"
     ]
    }
   ],
   "source": [
    "# ข้อ 2\n",
    "n = int(input(\"ใส่ตัวเลข >> \"))\n",
    "print(n)\n",
    "print(\"มากกว่า 0\" if n > 0 else \"น้อยกว่า 0\")"
   ]
  },
  {
   "cell_type": "code",
   "execution_count": 12,
   "metadata": {},
   "outputs": [
    {
     "name": "stdout",
     "output_type": "stream",
     "text": [
      "ตัวเลขที่รับมาคือ 6\n",
      "positive\n"
     ]
    }
   ],
   "source": [
    "# ข้อ 3\n",
    "n = int(input(\"ตัวเลข >> \"))\n",
    "print(f\"ตัวเลขที่รับมาคือ {n}\")\n",
    "if n > 0:\n",
    "    print(\"positive\")\n",
    "elif n < 0:\n",
    "    print(\"negative\")\n",
    "else:\n",
    "    print(\"zero\")"
   ]
  },
  {
   "cell_type": "code",
   "execution_count": 16,
   "metadata": {},
   "outputs": [
    {
     "name": "stdout",
     "output_type": "stream",
     "text": [
      "ตัวเลขที่รับมาคือ -13\n",
      "negative odd\n"
     ]
    }
   ],
   "source": [
    "# ข้อ 4\n",
    "n = int(input(\"ตัวเลข >> \"))\n",
    "print(f\"ตัวเลขที่รับมาคือ {n}\")\n",
    "if n > 0:\n",
    "    if n % 2 == 0:\n",
    "        print(\"positive even\")\n",
    "    elif n % 2 != 0:\n",
    "        print(\"positive odd\")\n",
    "elif n < 0:\n",
    "    if n % 2 == 0:\n",
    "        print(\"negative even\")\n",
    "    elif n % 2 != 0:\n",
    "        print(\"negative odd\")\n",
    "elif n == 0:\n",
    "    print(\"zero\")"
   ]
  },
  {
   "cell_type": "code",
   "execution_count": 18,
   "metadata": {},
   "outputs": [
    {
     "name": "stdout",
     "output_type": "stream",
     "text": [
      "พื้นที่สี่เหลี่ยมคือ 176\n"
     ]
    }
   ],
   "source": [
    "# ข้อ 5\n",
    "width = int(input(\"ความกว้าง >> \")) \n",
    "length = int(input(\"ความยาว >> \"))\n",
    "\n",
    "def alert():\n",
    "    print(\"กรุณากรอกจำนวนเต็มบวก\")\n",
    "    \n",
    "if width == 0 or length == 0:\n",
    "    alert()\n",
    "elif width < 0 or length < 0:\n",
    "    alert()\n",
    "else:\n",
    "    area = width * length\n",
    "    print(f\"พื้นที่สี่เหลี่ยมคือ {area}\")"
   ]
  },
  {
   "cell_type": "code",
   "execution_count": 2,
   "metadata": {},
   "outputs": [
    {
     "name": "stdout",
     "output_type": "stream",
     "text": [
      "2004\n",
      "2547\n"
     ]
    }
   ],
   "source": [
    "# ข้อ ุ6\n",
    "year = int(input(\"ปี ค.ศ >> \"))\n",
    "\n",
    "print(year)\n",
    "if year > 0:\n",
    "    print(year + 543)\n",
    "elif year <= 0:\n",
    "    print(\"กรุณากรอกข้อมูลที่มากกว่าหรือเท่ากับ 0\")"
   ]
  },
  {
   "cell_type": "code",
   "execution_count": 2,
   "metadata": {},
   "outputs": [
    {
     "name": "stdout",
     "output_type": "stream",
     "text": [
      "อุณหภูมิ 43.00°f\n",
      "อุณหภูมิ 6.11°c\n"
     ]
    }
   ],
   "source": [
    "# ข้อ 7\n",
    "tf = eval(input(\"อุณหภูมิในหน่วยฟาเรนไฮต์ >> \"))\n",
    "tc = None\n",
    "\n",
    "print(f'อุณหภูมิ {tf:.2f}°f')\n",
    "if tf >= 32:\n",
    "    tc = (5 * (tf - 32)) / 9\n",
    "    print(f'อุณหภูมิ {tc:.2f}°c')\n",
    "elif tf < 32:\n",
    "    print(\"COLD\")    "
   ]
  },
  {
   "cell_type": "code",
   "execution_count": 2,
   "metadata": {},
   "outputs": [
    {
     "name": "stdout",
     "output_type": "stream",
     "text": [
      "34 ดอลล่า = 1105.0 บาท\n"
     ]
    }
   ],
   "source": [
    "# ข้อ 8\n",
    "USD = eval(input(\"เงินดอลล่า >> \"))\n",
    "THB = 0\n",
    "\n",
    "if USD > 0:\n",
    "    THB = USD * 32.5\n",
    "    print(f\"{USD} ดอลล่า = {THB} บาท\")\n",
    "elif USD <= 0:\n",
    "    print(\"you don't have money\")"
   ]
  },
  {
   "cell_type": "code",
   "execution_count": 4,
   "metadata": {},
   "outputs": [
    {
     "name": "stdout",
     "output_type": "stream",
     "text": [
      "เงินไทย 453.53 บาท  = เงินดอลล่า 13.83 ดอลล่า \n",
      "ธนาคารได้กำไร 4.15 ดอลล่า\n"
     ]
    }
   ],
   "source": [
    "# ข้อ 9\n",
    "THB = eval(input(\"เงินบาท >> \"))\n",
    "USD = 0\n",
    "bank = 0\n",
    "\n",
    "if THB > 0:\n",
    "    USD = THB / 32.80\n",
    "    bank = USD * 0.3\n",
    "    print(f\"เงินไทย {THB} บาท  = เงินดอลล่า {USD:.2f} ดอลล่า \\nธนาคารได้กำไร {bank:.2f} ดอลล่า\")\n",
    "elif THB <= 0:\n",
    "    print(\"you don't have money\")"
   ]
  },
  {
   "cell_type": "code",
   "execution_count": 10,
   "metadata": {},
   "outputs": [
    {
     "name": "stdout",
     "output_type": "stream",
     "text": [
      "8 หรือ 9 อันไหนมากกว่ากัน\n",
      "9\n"
     ]
    }
   ],
   "source": [
    "# ข้อ 10\n",
    "n1 = eval(input(\"ตัวเลขตัวที่ 1 >> \"))\n",
    "n2 = eval(input(\"ตัวเลขตัวที่ 2 >> \"))\n",
    "\n",
    "print(f\"{n1} หรือ {n2} อันไหนมากกว่ากัน\")\n",
    "if n1 > n2:\n",
    "    print(n1)\n",
    "elif n2 > n1:\n",
    "    print(n2)\n",
    "elif n1 == n2:\n",
    "    print('มีค่าเท่ากัน')"
   ]
  },
  {
   "cell_type": "code",
   "execution_count": 1,
   "metadata": {},
   "outputs": [
    {
     "name": "stdout",
     "output_type": "stream",
     "text": [
      "ความยาวของข้อความตัวที่ 1 = 5\n",
      "ความยาวของข้อความตัวที่ 2 = 3\n",
      "not same\n"
     ]
    }
   ],
   "source": [
    "# ข้อ 11\n",
    "str1 = len(input(\"ข้อความที่ 1 >> \"))\n",
    "str2 = len(input(\"ข้อความที่ 2 >> \"))\n",
    "\n",
    "print(f\"ความยาวของข้อความตัวที่ 1 = {str1}\\nความยาวของข้อความตัวที่ 2 = {str2}\")\n",
    "print(\"same\" if str1 == str2 else \"not same\")"
   ]
  },
  {
   "cell_type": "code",
   "execution_count": 4,
   "metadata": {},
   "outputs": [
    {
     "name": "stdout",
     "output_type": "stream",
     "text": [
      "2 หารด้วย 3 ไม่ลงตัว\n"
     ]
    }
   ],
   "source": [
    "# ข้อ 12\n",
    "int1 = int(input(\"ตัวเลขจำนวนเต็ม >> \"))\n",
    "print(f\"{int1} หารด้วย 3 ลงตัว\" if int1 % 3 == 0 else f\"{int1} หารด้วย 3 ไม่ลงตัว\" )"
   ]
  },
  {
   "cell_type": "code",
   "execution_count": 7,
   "metadata": {},
   "outputs": [
    {
     "name": "stdout",
     "output_type": "stream",
     "text": [
      "15 หารด้วย 3 และ 5 ลงตัว\n"
     ]
    }
   ],
   "source": [
    "# ข้อ 13\n",
    "int1 = int(input(\"ตัวเลขจำนวนเต็ม >> \"))\n",
    "print(f\"{int1} หารด้วย 3 และ 5 ลงตัว\" if (int1 % 3 == 0) and (int1 % 5 == 0) else f\"{int1} หารด้วย 3 และ 5 ไม่ลงตัว\" )"
   ]
  },
  {
   "cell_type": "code",
   "execution_count": null,
   "metadata": {},
   "outputs": [],
   "source": [
    "# ข้อ 14\n",
    "# โจทย์เดียวกับ ข้อ 13 ไม่ทำ"
   ]
  },
  {
   "cell_type": "code",
   "execution_count": 12,
   "metadata": {},
   "outputs": [
    {
     "name": "stdout",
     "output_type": "stream",
     "text": [
      "a + b > c\n"
     ]
    }
   ],
   "source": [
    "# ข้อ 15\n",
    "a = int(input('ตัวเลขที่ 1 >> '))\n",
    "b = int(input('ตัวเลขที่ 2 >> '))\n",
    "c = int(input('ตัวเลขที่ 3 >> '))\n",
    "\n",
    "if (a + b) > c:\n",
    "    print('a + b > c')"
   ]
  },
  {
   "cell_type": "code",
   "execution_count": 49,
   "metadata": {},
   "outputs": [
    {
     "name": "stdout",
     "output_type": "stream",
     "text": [
      "คุณจอดรถ 7 ชั่วโมง 6 นาที เสียค่าจอดรถ 210 บาท\n"
     ]
    }
   ],
   "source": [
    "# ข้อ 16\n",
    "from math import *\n",
    "hour = int(input(\"ชั่วโมง >> \")) \n",
    "minute = int(input(\"นาที >> \")) \n",
    "parking_fee = 0\n",
    "\n",
    "if minute % 60 != 0:\n",
    "    hour += (minute // 60) + 1;\n",
    "else: hour += int(minute / 60)\n",
    "for i in range(1 , hour + 1):\n",
    "    if i == 1: continue\n",
    "    parking_fee += 30\n",
    "print(f'คุณจอดรถ {hour - 1} ชั่วโมง {minute} นาที เสียค่าจอดรถ {parking_fee:,} บาท') "
   ]
  },
  {
   "cell_type": "code",
   "execution_count": 50,
   "metadata": {},
   "outputs": [
    {
     "name": "stdout",
     "output_type": "stream",
     "text": [
      "คุณจอดรถ 1 ชั่วโมง 2 นาที เสียค่าจอดรถ 30 บาท\n"
     ]
    }
   ],
   "source": [
    "# ข้อ 17\n",
    "hour = int(input(\"ชั่วโมง >> \"))\n",
    "minute = int(input(\"นาที >> \")) \n",
    "parking_fee = 0\n",
    "\n",
    "if hour < 0 or minute < 0:\n",
    "    print('โปรดใส่ข้อมูลที่ไม่ติดลบ')\n",
    "else:\n",
    "    if minute % 60 != 0:\n",
    "        hour += ceil(minute / 60)\n",
    "    else: \n",
    "        hour += int(minute / 60)\n",
    "    for i in range(1 , hour + 1):\n",
    "        if i == 1: continue\n",
    "        parking_fee += 30\n",
    "    print(f'คุณจอดรถ {hour if minute == 0 else hour - 1} ชั่วโมง ', end='') \n",
    "    print('' if minute == 0 else f'{minute} นาที' , end='')\n",
    "    print('คุณไม่เสียค่าจอดรถ'if parking_fee == 0 else f' เสียค่าจอดรถ {parking_fee} บาท')"
   ]
  },
  {
   "cell_type": "code",
   "execution_count": 10,
   "metadata": {},
   "outputs": [
    {
     "name": "stdout",
     "output_type": "stream",
     "text": [
      "คุณเสียค่าจอดรถ 60 บาท\n"
     ]
    }
   ],
   "source": [
    "# ข้อ 18\n",
    "from math import *\n",
    "\n",
    "bill = int(input(\"บิล >> \"))\n",
    "hour = int(input(\"ชั่วโมง >> \"))\n",
    "minute = int(input(\"นาที >> \")) \n",
    "parking_fee = 0\n",
    "\n",
    "if minute % 60 != 0:\n",
    "    hour += ceil(minute / 60)\n",
    "else: \n",
    "    hour += int(minute / 60)\n",
    "if bill >= 1000: hour = hour - 4\n",
    "elif bill < 1000: hour = hour - 1\n",
    "\n",
    "if hour <= 0: print(\"คุณไม่เสียค่าจอดรถ\")\n",
    "else:\n",
    "    for i in range(1 , hour + 1): \n",
    "        parking_fee += 30\n",
    "    print('คุณเสียค่าจอดรถ' , parking_fee , 'บาท')"
   ]
  },
  {
   "cell_type": "code",
   "execution_count": 15,
   "metadata": {},
   "outputs": [
    {
     "name": "stdout",
     "output_type": "stream",
     "text": [
      "เงิน 90000 บาท\n",
      "เงินที่ต้องจ่ายคือ 72000 บาท\n"
     ]
    }
   ],
   "source": [
    "# ข้อ 19\n",
    "bill = eval(input(\"เงิน >> \"))\n",
    "print('เงิน %s บาท' %(bill))\n",
    "if bill >= 50000: bill = bill * ((100 - 20) / 100)\n",
    "elif bill >= 10000: bill = bill * ((100 - 15) / 100)\n",
    "elif bill >= 1000: bill = bill * ((100 - 10) / 100)\n",
    "print('เงินที่ต้องจ่ายคือ %g %s' %(bill, 'บาท'))"
   ]
  },
  {
   "cell_type": "code",
   "execution_count": 5,
   "metadata": {},
   "outputs": [
    {
     "name": "stdout",
     "output_type": "stream",
     "text": [
      "ควรออกกำลังกาย\n"
     ]
    }
   ],
   "source": [
    "# ข้อ 20\n",
    "try:\n",
    "    gender = input(\"เพศ >> \")\n",
    "    weight = float(input(\"น้ำหนก >> \"))\n",
    "    height = int(input(\"ความสูง >> \")) \n",
    "except ValueError:\n",
    "    print(\"Error! โปรดใส่ข้อมูลใหม่อีกครั้ง\")\n",
    "finally: \n",
    "    if gender == 'ชาย':\n",
    "        print(\"คุณออกกำลังกาย\") if weight > (height - 100) else print(\"คุณผู้ชายหุ่นดีเยี่ยม\")\n",
    "    elif gender == 'หญิง':\n",
    "        print(\"ควรออกกำลังกาย\") if weight > (height - 110) else print(\"คุณผู้หญิงหุ่นดี\")\n",
    "    else: print(\"Error! โปรดตอบเพศเป็น (\\\"ชาย\\\" หรือ \\\"หญิง\\\") เท่านั้น\")"
   ]
  },
  {
   "cell_type": "code",
   "execution_count": 7,
   "metadata": {},
   "outputs": [
    {
     "name": "stdout",
     "output_type": "stream",
     "text": [
      "ออกใบสั่ง\n"
     ]
    }
   ],
   "source": [
    "# ข้อ 21\n",
    "velocity = float(input(\"อัตราเร็วรถยนต์ >> \"))\n",
    "if velocity > 120: print(\"ออกใบสั่ง\")"
   ]
  },
  {
   "cell_type": "code",
   "execution_count": 2,
   "metadata": {},
   "outputs": [
    {
     "name": "stdout",
     "output_type": "stream",
     "text": [
      "ขอให้มีความสุขกับการฟังเพลง\n"
     ]
    }
   ],
   "source": [
    "# ข้อ 23\n",
    "listen_time = eval(input(\"จำนวนชั่วโมงที่ฟังเพลง >> \"))\n",
    "print(\"อันตรายต่อหู\") if listen_time > 4 else print(\"ขอให้มีความสุขกับการฟังเพลง\")"
   ]
  },
  {
   "cell_type": "code",
   "execution_count": 4,
   "metadata": {},
   "outputs": [
    {
     "name": "stdout",
     "output_type": "stream",
     "text": [
      "ค่าโดยสารของคุณคือ 12542.76 บาท\n"
     ]
    }
   ],
   "source": [
    "# ข้อ 24\n",
    "status = input(\"สถานะการเดินทาง >> \")\n",
    "distance = float(input(\"ระยะทาง >> \"))\n",
    "bill = 0\n",
    "\n",
    "if status == 'คล่องตัว':\n",
    "    bill = distance * 10\n",
    "elif status == 'ปานกลาง':\n",
    "    bill = distance * 12\n",
    "elif status == 'หนาแน่น':\n",
    "    bill = distance * 15\n",
    "print(f'ค่าโดยสารของคุณคือ {bill} บาท')"
   ]
  },
  {
   "cell_type": "code",
   "execution_count": 5,
   "metadata": {},
   "outputs": [
    {
     "name": "stdout",
     "output_type": "stream",
     "text": [
      "Pass\n"
     ]
    }
   ],
   "source": [
    "# ข้อ 25\n",
    "score = int(input('คะแนน >> '))\n",
    "print(\"Pass\" if score >= 50 else \"Fail\")"
   ]
  },
  {
   "cell_type": "code",
   "execution_count": 11,
   "metadata": {},
   "outputs": [
    {
     "name": "stdout",
     "output_type": "stream",
     "text": [
      "B\n"
     ]
    }
   ],
   "source": [
    "# ข้อ 26\n",
    "score = int(input(\"คะแนนสอบนักเรียน >> \"))\n",
    "if score >= 80: print('A')\n",
    "elif 80 >= score >= 70: print('B')\n",
    "elif 70 >= score >= 60: print('C')\n",
    "elif 60 >= score >= 50: print('D')\n",
    "else: print('F')"
   ]
  },
  {
   "cell_type": "code",
   "execution_count": 12,
   "metadata": {},
   "outputs": [
    {
     "name": "stdout",
     "output_type": "stream",
     "text": [
      "คุณได้ส่วนลด 10%\n"
     ]
    }
   ],
   "source": [
    "# ข้อ 27\n",
    "isMember = input('คุณเป็นสมาชิกของรานค้าหรือไม่ (yes / no) >> ')\n",
    "bill = float(input('บิล >> '))\n",
    "\n",
    "if isMember == 'yes':\n",
    "    if bill >= 5000: print('คุณได้ส่วนลด 15%')\n",
    "    elif bill >= 1000: print('คุณได้ส่วนลด 10%')\n",
    "    elif bill >= 500: print('คุณได้ส่วนลด 5%')\n",
    "elif isMember == 'no': print('คุณไม่ได้รับส่วนลด')"
   ]
  },
  {
   "cell_type": "code",
   "execution_count": 2,
   "metadata": {},
   "outputs": [
    {
     "name": "stdout",
     "output_type": "stream",
     "text": [
      "1397.5 บาท\n"
     ]
    }
   ],
   "source": [
    "# ข้อ 28\n",
    "current = input(\"เลือกสกุลเงินที่ต้องการแลกเปลี่ยน >> \")\n",
    "amount = float(input(\"จำนวนเงิน >> \"))\n",
    "THB = 0\n",
    "\n",
    "if current == 'USD':\n",
    "    THB = amount * 32.5 \n",
    "elif current == 'JPY':\n",
    "    THB = amount * 0.29\n",
    "print(THB , 'บาท')   "
   ]
  },
  {
   "cell_type": "code",
   "execution_count": 4,
   "metadata": {},
   "outputs": [
    {
     "name": "stdout",
     "output_type": "stream",
     "text": [
      "ร้านเรามี  ไข่ดาว ไข่เจียว ไข่ต้ม\n",
      "1400 บาท\n"
     ]
    }
   ],
   "source": [
    "# ข้อ 29\n",
    "order = input('สั่งอาหาร >> ')\n",
    "amount = int(input(\"จำนวนเงิน >> \"))\n",
    "menu = ('ไข่ดาว' , 'ไข่เจียว' , 'ไข่ต้ม')\n",
    "if order == menu[0]: amount *= 7\n",
    "elif order == menu[1]: amount *= 10\n",
    "elif order == menu[2]: amount *= 5\n",
    "print('ร้านเรามี ',*menu)\n",
    "print(f'{amount} บาท')"
   ]
  },
  {
   "cell_type": "code",
   "execution_count": 5,
   "metadata": {},
   "outputs": [
    {
     "name": "stdout",
     "output_type": "stream",
     "text": [
      "แนะนำให้สั่งคู่กับยำไข่ดาว\n"
     ]
    }
   ],
   "source": [
    "# ข้อ 30\n",
    "order = input('สั่งอาหาร >> ')\n",
    "menu = ('ไข่ดาว' , 'ไข่เจียว' , 'ไข่ต้ม')\n",
    "if order == menu[0]: print('แนะนำให้สั่งคู่กับต้มจืดไข่น้ำ')\n",
    "elif order == menu[1]: print('แนะนำให้สั่งคู่กับไข่ลูกเคย')\n",
    "elif order == menu[2]: print('แนะนำให้สั่งคู่กับยำไข่ดาว')"
   ]
  }
 ],
 "metadata": {
  "kernelspec": {
   "display_name": ".venv",
   "language": "python",
   "name": "python3"
  },
  "language_info": {
   "codemirror_mode": {
    "name": "ipython",
    "version": 3
   },
   "file_extension": ".py",
   "mimetype": "text/x-python",
   "name": "python",
   "nbconvert_exporter": "python",
   "pygments_lexer": "ipython3",
   "version": "3.10.11"
  },
  "orig_nbformat": 4
 },
 "nbformat": 4,
 "nbformat_minor": 2
}
