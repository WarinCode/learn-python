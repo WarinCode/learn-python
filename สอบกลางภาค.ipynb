{
 "cells": [
  {
   "cell_type": "code",
   "execution_count": 8,
   "metadata": {},
   "outputs": [
    {
     "name": "stdout",
     "output_type": "stream",
     "text": [
      "\n",
      "เวลาที่มาจอดรถ: 11:15\n",
      "เวลาที่รถออก: 12:25\n",
      "เวลาทีใช้ในการจอดรถ: 70 นาที\n",
      "เสียค่าจอดรถ: 60 บาท\n",
      "\n"
     ]
    }
   ],
   "source": [
    "# ข้อ 4\n",
    "from math import ceil\n",
    "\n",
    "eTime = input('จอดรถในเวลา >> ')\n",
    "lTime = input('รถออกในเวลา >> ')\n",
    "eHour , eMinute = eTime.split(':')\n",
    "lHour , lMinute = lTime.split(':')\n",
    "eHour = int(eHour); eMinute = int(eMinute); \n",
    "lHour = int(lHour); lMinute = int(lMinute);\n",
    "hour = abs(lHour - eHour)\n",
    "minute = abs(lMinute - eMinute)\n",
    "minute = (hour * 60) + minute\n",
    "Fee = 0\n",
    "\n",
    "if minute < 15: pass\n",
    "elif minute > 15 and minute % 60 != 0: Fee = ceil(minute / 60) * 30\n",
    "else: Fee = (minute / 60) * 30\n",
    "\n",
    "print(f'''\n",
    "เวลาที่มาจอดรถ: {eTime}\n",
    "เวลาที่รถออก: {lTime}\n",
    "เวลาทีใช้ในการจอดรถ: {minute} นาที\n",
    "เสียค่าจอดรถ: {int(Fee)} บาท\n",
    "''')"
   ]
  }
 ],
 "metadata": {
  "kernelspec": {
   "display_name": "Python 3",
   "language": "python",
   "name": "python3"
  },
  "language_info": {
   "codemirror_mode": {
    "name": "ipython",
    "version": 3
   },
   "file_extension": ".py",
   "mimetype": "text/x-python",
   "name": "python",
   "nbconvert_exporter": "python",
   "pygments_lexer": "ipython3",
   "version": "3.11.4"
  },
  "orig_nbformat": 4
 },
 "nbformat": 4,
 "nbformat_minor": 2
}
